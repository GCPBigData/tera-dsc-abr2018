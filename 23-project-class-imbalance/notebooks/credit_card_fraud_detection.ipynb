{
 "cells": [
  {
   "cell_type": "markdown",
   "metadata": {},
   "source": [
    "# Aula Execução de Projeto & Class Imbalance\n",
    "\n",
    "Trabalharemos com o dataset \"Credit Card Fraud Detection\" [disponibilizado via Kaggle](https://www.kaggle.com/mlg-ulb/creditcardfraud).\n",
    "\n",
    "Ao ler a descrição no site do dataset, é possível verificar que grande parte das features estão anonimizadas. Mas isso não será problema - o nosso foco para esta aula será revisar e colocar em prática o conteúdo de supervised learning antes de iniciarmos o próximo módulo."
   ]
  },
  {
   "cell_type": "code",
   "execution_count": 1,
   "metadata": {},
   "outputs": [],
   "source": [
    "import pandas as pd\n",
    "\n",
    "from sklearn.model_selection import train_test_split\n",
    "\n",
    "from plotting_utils import plot_confusion_matrix, precision_recall\n",
    "from sklearn.metrics import classification_report\n",
    "\n",
    "import imblearn\n",
    "\n",
    "%matplotlib inline"
   ]
  },
  {
   "cell_type": "code",
   "execution_count": 2,
   "metadata": {},
   "outputs": [],
   "source": [
    "df = pd.read_csv('../data/creditcard.csv')"
   ]
  },
  {
   "cell_type": "markdown",
   "metadata": {},
   "source": [
    "### Familiarização com o dataset\n",
    "\n",
    "Dica: os métodos `info`, `describe` e `value_counts` podem ser úteis."
   ]
  },
  {
   "cell_type": "code",
   "execution_count": null,
   "metadata": {},
   "outputs": [],
   "source": []
  },
  {
   "cell_type": "markdown",
   "metadata": {},
   "source": [
    "### Manipulação dos dados\n",
    "Aqui você pode fazer feature engineering, sempre levando em conta o algoritmo que vai utilizar em seguida, além de separar features e target para dar início à modelagem."
   ]
  },
  {
   "cell_type": "code",
   "execution_count": null,
   "metadata": {},
   "outputs": [],
   "source": []
  },
  {
   "cell_type": "markdown",
   "metadata": {},
   "source": [
    "### Treinar um modelo e obter os scores\n",
    "\n",
    "Utilize qualquer um dos algoritmos de classificação aprendidos no módulo."
   ]
  },
  {
   "cell_type": "code",
   "execution_count": null,
   "metadata": {},
   "outputs": [],
   "source": []
  },
  {
   "cell_type": "markdown",
   "metadata": {},
   "source": [
    "### Avaliação do modelo\n",
    "\n",
    "Dica: as funções `precision_recall`, `classification_report` e `plot_confusion_matrix` já estão importadas no notebook."
   ]
  },
  {
   "cell_type": "code",
   "execution_count": null,
   "metadata": {},
   "outputs": [],
   "source": []
  },
  {
   "cell_type": "markdown",
   "metadata": {},
   "source": [
    "### Utilizar uma técnica de resampling"
   ]
  },
  {
   "cell_type": "markdown",
   "metadata": {},
   "source": [
    "O objetivo aqui é utilizar alguma técnica de resampling para balancear os dados, talvez utilizando alguma função do pacote [imblearn](http://contrib.scikit-learn.org/imbalanced-learn/stable/user_guide.html), treinar um novo modelo e comparar os resultados."
   ]
  },
  {
   "cell_type": "code",
   "execution_count": null,
   "metadata": {},
   "outputs": [],
   "source": []
  }
 ],
 "metadata": {
  "kernelspec": {
   "display_name": "Python 3",
   "language": "python",
   "name": "python3"
  },
  "language_info": {
   "codemirror_mode": {
    "name": "ipython",
    "version": 3
   },
   "file_extension": ".py",
   "mimetype": "text/x-python",
   "name": "python",
   "nbconvert_exporter": "python",
   "pygments_lexer": "ipython3",
   "version": "3.6.5"
  }
 },
 "nbformat": 4,
 "nbformat_minor": 2
}
