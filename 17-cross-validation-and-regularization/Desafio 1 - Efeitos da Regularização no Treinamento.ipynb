{
 "cells": [
  {
   "cell_type": "markdown",
   "metadata": {},
   "source": [
    "# Desafio 1: Efeitos da Regularização no Treinamento"
   ]
  },
  {
   "cell_type": "markdown",
   "metadata": {},
   "source": [
    "## Objetivos:\n",
    "\n",
    "O objetivo desse desafio é avaliar as diferenças entre os modelos treinados sem regularização e os modelos treinados com regularização do tipo L1 e do tipo L2.\n"
   ]
  },
  {
   "cell_type": "markdown",
   "metadata": {},
   "source": [
    "## Formulação (revisão):\n",
    "\n",
    "A regularização atua como um termo adicionado na **minimização da função de erro**. \n",
    "\n",
    "As fórmulas estão mostradas abaixo:\n",
    "\n",
    "### (i) Função de erro $Loss$ s/ Regularização\n",
    "\n",
    "$${\n",
    "    Loss = \\frac{ \\sum\\limits_{i=1}^n {\\biggl(y_i - \\sum\\limits_{j=1}^p w_j x_{i,j}  \\biggr)}^2}{ 2  N }\n",
    "}$$\n",
    "\n",
    "### (ii) Função de erro $Loss$ c/ Regularização L1\n",
    "\n",
    "$${\n",
    "    Loss = \\frac{ \n",
    "        \\sum\\limits_{i=1}^n {\\biggl(y_i - \\sum\\limits_{j=1}^p w_j x_{i,j}  \\biggr)}^2 + \n",
    "        \\alpha \\sum\\limits_{j=1}^p \\lvert w_j \\rvert\n",
    "     }{ 2  N }\n",
    "}$$\n",
    "\n",
    "### (iii) Função de erro $Loss$ Sem Regularização\n",
    "\n",
    "$${\n",
    "    Loss = \\frac{ \n",
    "        \\sum\\limits_{i=1}^n {\\biggl(y_i - \\sum\\limits_{j=1}^p w_j x_{i,j}  \\biggr)}^2 + \n",
    "        \\alpha \\sum\\limits_{j=1}^p w_j^2\n",
    "     }{ 2  N }\n",
    "}$$"
   ]
  },
  {
   "cell_type": "markdown",
   "metadata": {},
   "source": [
    "___"
   ]
  },
  {
   "cell_type": "markdown",
   "metadata": {},
   "source": [
    "# Imports"
   ]
  },
  {
   "cell_type": "code",
   "execution_count": null,
   "metadata": {
    "collapsed": true
   },
   "outputs": [],
   "source": [
    "%matplotlib inline\n",
    "import matplotlib.pyplot as plt\n",
    "import seaborn as sns"
   ]
  },
  {
   "cell_type": "code",
   "execution_count": null,
   "metadata": {
    "collapsed": true
   },
   "outputs": [],
   "source": [
    "import numpy as np\n",
    "import os\n",
    "import pandas as pd"
   ]
  },
  {
   "cell_type": "code",
   "execution_count": null,
   "metadata": {},
   "outputs": [],
   "source": [
    "from sklearn.cross_validation import KFold\n",
    "from sklearn.linear_model import Lasso, LinearRegression, Ridge\n",
    "from sklearn.metrics.regression import mean_squared_error, r2_score\n",
    "from sklearn.model_selection import train_test_split, GridSearchCV, ParameterGrid\n",
    "from sklearn.preprocessing import StandardScaler, PolynomialFeatures"
   ]
  },
  {
   "cell_type": "markdown",
   "metadata": {},
   "source": [
    "# Dataset:"
   ]
  },
  {
   "cell_type": "markdown",
   "metadata": {},
   "source": [
    "## Carregando os dados"
   ]
  },
  {
   "cell_type": "code",
   "execution_count": null,
   "metadata": {
    "collapsed": true
   },
   "outputs": [],
   "source": [
    "from sklearn.datasets import load_boston\n",
    "dataset = load_boston()"
   ]
  },
  {
   "cell_type": "markdown",
   "metadata": {},
   "source": [
    "### Sobre o Dataset"
   ]
  },
  {
   "cell_type": "code",
   "execution_count": null,
   "metadata": {},
   "outputs": [],
   "source": [
    "print(dataset[\"DESCR\"])"
   ]
  },
  {
   "cell_type": "code",
   "execution_count": null,
   "metadata": {},
   "outputs": [],
   "source": [
    "dataset.keys()"
   ]
  },
  {
   "cell_type": "markdown",
   "metadata": {},
   "source": [
    "### Separação das Features e Variável Dependente"
   ]
  },
  {
   "cell_type": "code",
   "execution_count": null,
   "metadata": {
    "collapsed": true
   },
   "outputs": [],
   "source": [
    "x = pd.DataFrame(\n",
    "    columns=dataset[\"feature_names\"],\n",
    "    data=dataset[\"data\"]\n",
    ")"
   ]
  },
  {
   "cell_type": "code",
   "execution_count": null,
   "metadata": {
    "collapsed": true
   },
   "outputs": [],
   "source": [
    "y = dataset[\"target\"]"
   ]
  },
  {
   "cell_type": "code",
   "execution_count": null,
   "metadata": {},
   "outputs": [],
   "source": [
    "x.shape"
   ]
  },
  {
   "cell_type": "code",
   "execution_count": null,
   "metadata": {},
   "outputs": [],
   "source": [
    "x.head()"
   ]
  },
  {
   "cell_type": "code",
   "execution_count": null,
   "metadata": {},
   "outputs": [],
   "source": [
    "y.shape"
   ]
  },
  {
   "cell_type": "code",
   "execution_count": null,
   "metadata": {},
   "outputs": [],
   "source": [
    "y[:5]"
   ]
  },
  {
   "cell_type": "markdown",
   "metadata": {},
   "source": [
    "## Separação de Treino e Teste"
   ]
  },
  {
   "cell_type": "code",
   "execution_count": null,
   "metadata": {
    "collapsed": true
   },
   "outputs": [],
   "source": [
    "# splitting \n",
    "train_index, test_index = train_test_split(\n",
    "    x.index, \n",
    "    test_size=.3, \n",
    "    random_state=42\n",
    ")\n",
    "\n",
    "x_train = x.loc[train_index, :]\n",
    "x_test = x.loc[test_index, :]\n",
    "y_train = y[train_index]\n",
    "y_test = y[test_index]"
   ]
  },
  {
   "cell_type": "code",
   "execution_count": null,
   "metadata": {},
   "outputs": [],
   "source": [
    "x_train.shape"
   ]
  },
  {
   "cell_type": "code",
   "execution_count": null,
   "metadata": {
    "collapsed": true
   },
   "outputs": [],
   "source": [
    "x_test.shape"
   ]
  },
  {
   "cell_type": "markdown",
   "metadata": {},
   "source": [
    "## Normalizando Features com Z-Score\n",
    "\n",
    "Passo importante quando se treina modelos lineares, por eliminar importâncias artificialmente grandes para features contendo valores muito grandes."
   ]
  },
  {
   "cell_type": "code",
   "execution_count": null,
   "metadata": {
    "collapsed": true
   },
   "outputs": [],
   "source": [
    "zscore = StandardScaler().fit(x_train)\n",
    "x_train = zscore.transform(x_train)\n",
    "x_test = zscore.transform(x_test)"
   ]
  },
  {
   "cell_type": "markdown",
   "metadata": {},
   "source": [
    "# Problemas"
   ]
  },
  {
   "cell_type": "markdown",
   "metadata": {},
   "source": [
    "## A) Treinamento e Avaliação de Modelos com e sem Regularização\n",
    "\n",
    "A regularização tem como principal objetivo reduzir a complexidade do modelo criado ao limitar o crescimento dos parâmetros durante o treinamento. Com isso, é interessante notar que modelos com regularização tendem a ter menor diferença entre os desempenhos das métricas de avaliação sobre as massas de treino e de teste, indicando uma melhor generalização do modelo.\n",
    "\n",
    "Nessa seção, três tipos de modelo devem ser treinados: um **sem regularização**, um com **regularização L1** e um com **regularização L2**. O desempenho dos três tipos de modelo será comparado em termos de ${MSE}$ (_Mean Squared Error_) e da medida ${R^2}$."
   ]
  },
  {
   "cell_type": "markdown",
   "metadata": {},
   "source": [
    "### Modelo s/ Regularização"
   ]
  },
  {
   "cell_type": "markdown",
   "metadata": {},
   "source": [
    "#### Treinamento"
   ]
  },
  {
   "cell_type": "code",
   "execution_count": null,
   "metadata": {
    "collapsed": true
   },
   "outputs": [],
   "source": [
    "\"\"\" Complete os espaços com ? \"\"\"\n",
    "model = ?()\n",
    "model.fit(X=?, y=?)"
   ]
  },
  {
   "cell_type": "markdown",
   "metadata": {},
   "source": [
    "#### Avaliação"
   ]
  },
  {
   "cell_type": "code",
   "execution_count": null,
   "metadata": {
    "collapsed": true
   },
   "outputs": [],
   "source": [
    "\"\"\" Complete os espaços com ? \"\"\"\n",
    "# avaliação do modelo sobre a massa de treino\n",
    "mse_tr = mean_squared_error(y_true=?, y_pred=?)\n",
    "r2_tr = r2_score(y_true=?, y_pred=?)"
   ]
  },
  {
   "cell_type": "code",
   "execution_count": null,
   "metadata": {
    "collapsed": true
   },
   "outputs": [],
   "source": [
    "\"\"\" Complete os espaços com ? \"\"\"\n",
    "# avaliação do modelo sobre a massa de teste\n",
    "mse_te = mean_squared_error(y_true=?, y_pred=?)\n",
    "r2_te = r2_score(y_true=?, y_pred=?)"
   ]
  },
  {
   "cell_type": "code",
   "execution_count": null,
   "metadata": {
    "collapsed": true
   },
   "outputs": [],
   "source": [
    "# Tabela com os resultados\n",
    "pd.DataFrame(\n",
    "    index=[\"train\", \"test\"],\n",
    "    columns=[\"MSE\", \"R^2\"],\n",
    "    data=[\n",
    "        [mse_tr, r2_tr],\n",
    "        [mse_te, r2_te]\n",
    "    ]\n",
    ")"
   ]
  },
  {
   "cell_type": "markdown",
   "metadata": {},
   "source": [
    "### Modelo c/ Regularização L1"
   ]
  },
  {
   "cell_type": "markdown",
   "metadata": {},
   "source": [
    "#### Treinamento"
   ]
  },
  {
   "cell_type": "code",
   "execution_count": null,
   "metadata": {
    "collapsed": true
   },
   "outputs": [],
   "source": [
    "\"\"\" Complete os espaços com ? \"\"\"\n",
    "model = ?(alpha=1, max_iter=100, random_state=42)\n",
    "model.fit(X=?, y=?)"
   ]
  },
  {
   "cell_type": "markdown",
   "metadata": {},
   "source": [
    "#### Avaliação"
   ]
  },
  {
   "cell_type": "code",
   "execution_count": null,
   "metadata": {
    "collapsed": true
   },
   "outputs": [],
   "source": [
    "\"\"\" Complete os espaços com ? \"\"\"\n",
    "# avaliação do modelo sobre a massa de treino\n",
    "mse_tr = mean_squared_error(y_true=?, y_pred=?)\n",
    "r2_tr = r2_score(y_true=?, y_pred=?)"
   ]
  },
  {
   "cell_type": "code",
   "execution_count": null,
   "metadata": {
    "collapsed": true
   },
   "outputs": [],
   "source": [
    "\"\"\" Complete os espaços com ? \"\"\"\n",
    "# avaliação do modelo sobre a massa de teste\n",
    "mse_te = mean_squared_error(y_true=?, y_pred=?)\n",
    "r2_te = r2_score(y_true=?, y_pred=?)"
   ]
  },
  {
   "cell_type": "code",
   "execution_count": null,
   "metadata": {
    "collapsed": true
   },
   "outputs": [],
   "source": [
    "# Tabela com os resultados\n",
    "pd.DataFrame(\n",
    "    index=[\"train\", \"test\"],\n",
    "    columns=[\"MSE\", \"R^2\"],\n",
    "    data=[\n",
    "        [mse_tr, r2_tr],\n",
    "        [mse_te, r2_te]\n",
    "    ]\n",
    ")"
   ]
  },
  {
   "cell_type": "markdown",
   "metadata": {},
   "source": [
    "### Modelo c/ Regularização L2"
   ]
  },
  {
   "cell_type": "markdown",
   "metadata": {},
   "source": [
    "#### Treinamento"
   ]
  },
  {
   "cell_type": "code",
   "execution_count": null,
   "metadata": {
    "collapsed": true
   },
   "outputs": [],
   "source": [
    "\"\"\" Complete os espaços com ? \"\"\"\n",
    "model = ?(alpha=1, max_iter=100, random_state=42)\n",
    "model.fit(X=?, y=?)"
   ]
  },
  {
   "cell_type": "markdown",
   "metadata": {},
   "source": [
    "#### Avaliação"
   ]
  },
  {
   "cell_type": "code",
   "execution_count": null,
   "metadata": {
    "collapsed": true
   },
   "outputs": [],
   "source": [
    "\"\"\" Complete os espaços com ? \"\"\"\n",
    "# avaliação do modelo sobre a massa de treino\n",
    "mse_tr = mean_squared_error(y_true=?, y_pred=?)\n",
    "r2_tr = r2_score(y_true=?, y_pred=?)"
   ]
  },
  {
   "cell_type": "code",
   "execution_count": null,
   "metadata": {
    "collapsed": true
   },
   "outputs": [],
   "source": [
    "\"\"\" Complete os espaços com ? \"\"\"\n",
    "# avaliação do modelo sobre a massa de teste\n",
    "mse_te = mean_squared_error(y_true=?, y_pred=?)\n",
    "r2_te = r2_score(y_true=?, y_pred=?)"
   ]
  },
  {
   "cell_type": "code",
   "execution_count": null,
   "metadata": {
    "collapsed": true
   },
   "outputs": [],
   "source": [
    "# Tabela com os resultados\n",
    "pd.DataFrame(\n",
    "    index=[\"train\", \"test\"],\n",
    "    columns=[\"MSE\", \"R^2\"],\n",
    "    data=[\n",
    "        [mse_tr, r2_tr],\n",
    "        [mse_te, r2_te]\n",
    "    ]\n",
    ")"
   ]
  },
  {
   "cell_type": "markdown",
   "metadata": {},
   "source": [
    "## B) Efeito do parâmetro ${alpha}$ da regularização sobre o desempenho dos modelos\n",
    "\n",
    "O peso ${alpha}$ dado à regularização influencia o quanto o treinamento dos parâmetros é afetado. ${alpha}$ é sempre um número não negativo (i.e. ${\\geq{0}}$); o caso especial em que ${alpha=0}$ é exatamente a Regressão Linear **sem regularização**.\n",
    "\n",
    "Nessa seção, serão plotados alguns gráficos para avaliar como o ${alpha}$ influencia nas métricas da avaliação de um modelo. A comparação das métricas de avaliação das curvas de treino e de teste será feita variando ${alpha}$ e medindo o ${MSE}$ e o ${R^2}$."
   ]
  },
  {
   "cell_type": "markdown",
   "metadata": {},
   "source": [
    "### Função de Plot"
   ]
  },
  {
   "cell_type": "code",
   "execution_count": null,
   "metadata": {
    "collapsed": true
   },
   "outputs": [],
   "source": [
    "def plot_comparison(alpha_list, mse_tr_list, mse_te_list, r2_tr_list, r2_te_list):\n",
    "    # plotting graphics\n",
    "    fig, (ax_mse, ax_r2) = plt.subplots(2, sharex=True, figsize=(15, 8))\n",
    "\n",
    "    # MSE\n",
    "    mse_df = pd.DataFrame(\n",
    "        index=alpha_list,\n",
    "        columns=[\"train\", \"test\"],\n",
    "        data=list(zip(mse_tr_list, mse_te_list))\n",
    "    )\n",
    "    mse_df.plot(title=\"Comparação de MSE: Treino Vs Teste\", ax=ax_mse)\n",
    "    ax_mse.set(xlabel=\"alpha\", ylabel=\"mean squared error\")\n",
    "\n",
    "    # R2\n",
    "    r2_df = pd.DataFrame(\n",
    "        index=alpha_list,\n",
    "        columns=[\"train\", \"test\"],\n",
    "        data=list(zip(r2_tr_list, r2_te_list))\n",
    "    )\n",
    "    r2_df.plot(title=\"Comparação de R^2: Treino Vs Teste\", ax=ax_r2)\n",
    "    ax_r2.set(xlabel=\"alpha\", ylabel=\"r squared\")"
   ]
  },
  {
   "cell_type": "markdown",
   "metadata": {},
   "source": [
    "### Regularização L1"
   ]
  },
  {
   "cell_type": "code",
   "execution_count": null,
   "metadata": {
    "collapsed": true
   },
   "outputs": [],
   "source": [
    "# Definição dos valores de alpha\n",
    "alpha_list = np.linspace(0.001, 12, 100)"
   ]
  },
  {
   "cell_type": "code",
   "execution_count": null,
   "metadata": {
    "collapsed": true
   },
   "outputs": [],
   "source": [
    "# initializing lists\n",
    "mse_tr_list = []\n",
    "mse_te_list = []\n",
    "r2_tr_list = []\n",
    "r2_te_list = []"
   ]
  },
  {
   "cell_type": "code",
   "execution_count": null,
   "metadata": {
    "collapsed": true
   },
   "outputs": [],
   "source": [
    "\"\"\" Complete os espaços com ? \"\"\"\n",
    "for alpha in alpha_list:\n",
    "    # create / train model\n",
    "    model = ?(alpha=alpha, max_iter=1000, random_state=42)\n",
    "    model.fit(x_train, y_train)\n",
    "    \n",
    "    # Train Evaluation Metrics\n",
    "    y_true = ?\n",
    "    y_pred = ?\n",
    "    mse_tr = ?(y_true=y_true, y_pred=y_pred)\n",
    "    r2_tr = ?(y_true=y_true, y_pred=y_pred)\n",
    "    \n",
    "    # Test Evaluation Metrics\n",
    "    y_true = ?\n",
    "    y_pred = ?\n",
    "    mse_te = ?(y_true=y_true, y_pred=y_pred)\n",
    "    r2_te = ?(y_true=y_true, y_pred=y_pred)\n",
    "    \n",
    "    # append all eval metrics\n",
    "    mse_tr_list.append(mse_tr)\n",
    "    mse_te_list.append(mse_te)\n",
    "    r2_tr_list.append(r2_tr)\n",
    "    r2_te_list.append(r2_te)"
   ]
  },
  {
   "cell_type": "code",
   "execution_count": null,
   "metadata": {
    "collapsed": true
   },
   "outputs": [],
   "source": [
    "plot_comparison(alpha_list, mse_tr_list, mse_te_list, r2_tr_list, r2_te_list)"
   ]
  },
  {
   "cell_type": "markdown",
   "metadata": {},
   "source": [
    "### Regularização L2"
   ]
  },
  {
   "cell_type": "code",
   "execution_count": null,
   "metadata": {
    "collapsed": true
   },
   "outputs": [],
   "source": [
    "# Definição dos valores de alpha\n",
    "alpha_list = np.linspace(0.001, 10000, 100)"
   ]
  },
  {
   "cell_type": "code",
   "execution_count": null,
   "metadata": {
    "collapsed": true
   },
   "outputs": [],
   "source": [
    "# initializing lists\n",
    "mse_tr_list = []\n",
    "mse_te_list = []\n",
    "r2_tr_list = []\n",
    "r2_te_list = []"
   ]
  },
  {
   "cell_type": "code",
   "execution_count": null,
   "metadata": {
    "collapsed": true
   },
   "outputs": [],
   "source": [
    "\"\"\" Complete os espaços com ? \"\"\"\n",
    "for alpha in alpha_list:\n",
    "    # create / train model\n",
    "    model = ?(alpha=alpha, max_iter=1000, random_state=42)\n",
    "    model.fit(x_train, y_train)\n",
    "    \n",
    "    # Train Evaluation Metrics\n",
    "    y_true = ?\n",
    "    y_pred = ?\n",
    "    mse_tr = ?(y_true=y_true, y_pred=y_pred)\n",
    "    r2_tr = ?(y_true=y_true, y_pred=y_pred)\n",
    "    \n",
    "    # Test Evaluation Metrics\n",
    "    y_true = ?\n",
    "    y_pred = ?\n",
    "    mse_te = ?(y_true=y_true, y_pred=y_pred)\n",
    "    r2_te = ?(y_true=y_true, y_pred=y_pred)\n",
    "    \n",
    "    # append all eval metrics\n",
    "    mse_tr_list.append(mse_tr)\n",
    "    mse_te_list.append(mse_te)\n",
    "    r2_tr_list.append(r2_tr)\n",
    "    r2_te_list.append(r2_te)"
   ]
  },
  {
   "cell_type": "code",
   "execution_count": null,
   "metadata": {
    "collapsed": true
   },
   "outputs": [],
   "source": [
    "plot_comparison(alpha_list, mse_tr_list, mse_te_list, r2_tr_list, r2_te_list)"
   ]
  },
  {
   "cell_type": "markdown",
   "metadata": {},
   "source": [
    "## C)  Avaliação dos Parâmetros\n",
    "\n",
    "A principal característica da regularização é a diminuição gradual da magnitude dos pesos a cada iteração. Essa diminuição controla o tamanho máximo dos parâmetros internos do modelo, impedindo que os mesmos definam espaços de solução muito irregulares, o que pode levar a soluções não genéricas.\n",
    "\n",
    "Nessa seção serão comparados os parâmetros treinados com **regularização L1**. Os valores de ${alpha}$ utilizados serão definidos a partir do estudo realizado no item B."
   ]
  },
  {
   "cell_type": "markdown",
   "metadata": {},
   "source": [
    "### Função Auxiliar\n",
    "\n",
    "A função abaixo treina um dado modelo linear por `max_iter` épocas, armazenando o histórico de cada parâmetro."
   ]
  },
  {
   "cell_type": "code",
   "execution_count": null,
   "metadata": {
    "collapsed": true
   },
   "outputs": [],
   "source": [
    "def train_model(model_class, X, y, max_iter, **kwargs):\n",
    "    \n",
    "    def get_params(model, X, y, iter):        \n",
    "        model.fit(X, y)\n",
    "        return pd.DataFrame(\n",
    "            index=[iter],\n",
    "            columns=X.columns.tolist() + [\"intercept\"],\n",
    "            data=[model.coef_.tolist() + [model.intercept_]]\n",
    "        )\n",
    "    \n",
    "    model = model_class(warm_start=True, max_iter=1, **kwargs)\n",
    "    params = get_params(model, X, y, 0)\n",
    "    for iter in range(1, max_iter):        \n",
    "        params = params.append(get_params(model, X, y, iter))\n",
    "    return params"
   ]
  },
  {
   "cell_type": "markdown",
   "metadata": {},
   "source": [
    "### Valor de ${alpha}$ próximo a zero"
   ]
  },
  {
   "cell_type": "code",
   "execution_count": null,
   "metadata": {
    "collapsed": true
   },
   "outputs": [],
   "source": [
    "\"\"\" Escreva a solução aqui \"\"\""
   ]
  },
  {
   "cell_type": "markdown",
   "metadata": {},
   "source": [
    "### Valor de ${alpha}$ mediano"
   ]
  },
  {
   "cell_type": "code",
   "execution_count": null,
   "metadata": {
    "collapsed": true
   },
   "outputs": [],
   "source": [
    "\"\"\" Escreva a solução aqui \"\"\""
   ]
  },
  {
   "cell_type": "markdown",
   "metadata": {},
   "source": [
    "### Valor de ${alpha}$ alto"
   ]
  },
  {
   "cell_type": "code",
   "execution_count": null,
   "metadata": {
    "collapsed": true
   },
   "outputs": [],
   "source": [
    "\"\"\" Escreva a solução aqui \"\"\""
   ]
  }
 ],
 "metadata": {
  "kernelspec": {
   "display_name": "Python 3",
   "language": "python",
   "name": "python3"
  },
  "language_info": {
   "codemirror_mode": {
    "name": "ipython",
    "version": 3
   },
   "file_extension": ".py",
   "mimetype": "text/x-python",
   "name": "python",
   "nbconvert_exporter": "python",
   "pygments_lexer": "ipython3",
   "version": "3.6.2"
  }
 },
 "nbformat": 4,
 "nbformat_minor": 2
}
