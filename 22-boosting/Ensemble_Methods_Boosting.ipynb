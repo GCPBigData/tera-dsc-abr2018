{
 "cells": [
  {
   "cell_type": "markdown",
   "metadata": {},
   "source": [
    "# Pré Requisitos"
   ]
  },
  {
   "cell_type": "markdown",
   "metadata": {},
   "source": [
    "## 0.1 Loss Function"
   ]
  },
  {
   "cell_type": "markdown",
   "metadata": {},
   "source": [
    "- Mede a distância entre o valor estimado e seu valor real. Um exemplo de Loss Function é o Mean Squared Error, que é usado em problemas de Regressão Multivariada"
   ]
  },
  {
   "cell_type": "markdown",
   "metadata": {},
   "source": [
    "<img src=\"fig/MSE.png\">"
   ]
  },
  {
   "cell_type": "markdown",
   "metadata": {},
   "source": [
    "<img src=\"fig/regression.png\">"
   ]
  },
  {
   "cell_type": "markdown",
   "metadata": {},
   "source": [
    "_PERGUNTA: Alguém sabe uma outra forma de \"fit\" uma reta sem usar Ordinary Least Squares (Mínimos Quadrados)?_ "
   ]
  },
  {
   "cell_type": "markdown",
   "metadata": {},
   "source": [
    "## 0.2 Gradient Descent"
   ]
  },
  {
   "cell_type": "markdown",
   "metadata": {},
   "source": [
    "Se ao invés de usar o OLS para encontrar a reta, nós chutamos um reta qualquer e ao pouco tentar chegar perto da reta estimada pelo OLS. "
   ]
  },
  {
   "cell_type": "markdown",
   "metadata": {},
   "source": [
    "Chutar uma reta qualquer significa chutar um valor para Beta0 (intercept) e Beta1 (inclinação).\n",
    "\n",
    "Então teoriacemnte se chutasseos todas as retas possíveis seriamos capaz de construir um gráfico do tipo Heat Map onde Beta0 e Beta1 são os eixos x/y e Erro produzido pelo par (Beta0,Beta1) é verde se for baixo e vermelho se for alto."
   ]
  },
  {
   "cell_type": "markdown",
   "metadata": {},
   "source": [
    "<img src=\"fig/gradient_descent.png\">"
   ]
  },
  {
   "cell_type": "markdown",
   "metadata": {},
   "source": [
    "_PERGUNTA: Porque usar o Gradient Descent se eu posso usar OLS e resolver analiticamente?_"
   ]
  },
  {
   "cell_type": "markdown",
   "metadata": {},
   "source": [
    "https://www.youtube.com/watch?v=umAeJ7LMCfU"
   ]
  },
  {
   "cell_type": "markdown",
   "metadata": {},
   "source": [
    "## 0.3 Regularization"
   ]
  },
  {
   "cell_type": "markdown",
   "metadata": {},
   "source": [
    "### 0.3.1 Ridge Regression"
   ]
  },
  {
   "cell_type": "markdown",
   "metadata": {},
   "source": [
    "<img src=\"fig/ridge.gif\">"
   ]
  },
  {
   "cell_type": "markdown",
   "metadata": {},
   "source": [
    "### 0.3.2 Lasso Regression"
   ]
  },
  {
   "cell_type": "markdown",
   "metadata": {},
   "source": [
    "<img src=\"fig/lasso.png\">"
   ]
  },
  {
   "cell_type": "markdown",
   "metadata": {},
   "source": [
    "# Ensemble Methods"
   ]
  },
  {
   "cell_type": "markdown",
   "metadata": {},
   "source": [
    "## 1.2 Boosting"
   ]
  },
  {
   "cell_type": "markdown",
   "metadata": {},
   "source": [
    "![alt text](https://www.kdnuggets.com/wp-content/uploads/bias-and-variance.jpg \"Bulls Eye\")"
   ]
  },
  {
   "cell_type": "markdown",
   "metadata": {},
   "source": [
    "__Motivação:__\n",
    "- Reduzir o bias criando múltiplos modelos especialistas partes diferentes do domínio das variáveis explanatórias\n",
    "\n",
    "__Como:__\n",
    "\n",
    "- Treinando modelos sequencialmente e após cada iteração identificando as observações que não obtiveram uma previsão acurada e dá maior enfoque à elas no modelo subsequente.\n",
    "- Usaremos os modelos de todas as iterações para criar um modelo único.\n",
    "- Each classifier specializes on a particular subset of examples"
   ]
  },
  {
   "cell_type": "markdown",
   "metadata": {},
   "source": [
    "**Prós:**\n",
    "- Como é pensado para reduzir o viés, geralmente os algoritmos de Boosting nos dão previsões melhores.\n",
    "- Em geral produz resultados com baixa variância mesmo sem ser este o seu foco, mas como nem sempre isso é verdade deve-se ficar atento para overfitting.\n",
    "\n",
    "**Contras**\n",
    "- O Método não funciona tão bem para amostras pequenas\n",
    "- Não é paralelizável"
   ]
  },
  {
   "cell_type": "markdown",
   "metadata": {},
   "source": [
    "## 1.2.1 AdaBoost (Adaptive Boosting)"
   ]
  },
  {
   "cell_type": "markdown",
   "metadata": {},
   "source": [
    "<img src=\"fig/Boosting_idea.png\">"
   ]
  },
  {
   "cell_type": "markdown",
   "metadata": {},
   "source": [
    "- The weight of each learner is learned by whether it predicts a sample correctly or not."
   ]
  },
  {
   "cell_type": "markdown",
   "metadata": {},
   "source": [
    "__Pseudo Algoritmo__\n",
    "\n",
    "- adaptive boosting changes the sample distribution by modifying the weights attached to each of the instances.\n",
    "\n",
    "- It increases the weights of the wrongly predicted instances and decreases the ones of the correctly predicted instances.\n",
    "\n",
    "- The weak learner thus focuses more on the difficult instances\n",
    "\n",
    "- After being trained, the weak learner is added to the strong one according to his performance (so-called alpha weight). The higher it performs, the more it contributes to the strong learner\n"
   ]
  },
  {
   "cell_type": "markdown",
   "metadata": {},
   "source": [
    "- We have T different classifiers ht\n",
    "- weight wt of the classifier is proportional to its accuracy on the training set\n",
    "\n",
    "- wt = log( 1 / β ) = log (1 − ε ) / ε"
   ]
  },
  {
   "cell_type": "code",
   "execution_count": 1,
   "metadata": {},
   "outputs": [
    {
     "data": {
      "text/plain": [
       "2.1972245773362196"
      ]
     },
     "execution_count": 1,
     "metadata": {},
     "output_type": "execute_result"
    }
   ],
   "source": [
    "import math\n",
    "e = 0.1\n",
    "math.log((1 - e)/e)"
   ]
  },
  {
   "cell_type": "markdown",
   "metadata": {},
   "source": [
    "Para quem quiser ver uma implementação de Adaboost Classifier usando Decision Trees: __[adaboost_from_scratch](https://github.com/fformenti/Adaboost/blob/master/adaboost.py)__"
   ]
  },
  {
   "cell_type": "markdown",
   "metadata": {},
   "source": [
    "### 1.2.1.1 AdaBoost Regression"
   ]
  },
  {
   "cell_type": "markdown",
   "metadata": {},
   "source": [
    "https://alliance.seas.upenn.edu/~cis520/wiki/index.php?n=lectures.boosting"
   ]
  },
  {
   "cell_type": "markdown",
   "metadata": {},
   "source": [
    "AdaBoost training process selects only those features known to improve the predictive power of the model, reducing dimensionality and potentially improving execution time as irrelevant features do not need to be computed."
   ]
  },
  {
   "cell_type": "markdown",
   "metadata": {},
   "source": [
    "__Principais argumentos que o Adaboost Regression recebe__\n",
    "- n_estimador: Número de modelos. (Tipicamente quanto maior melhor)\n",
    "- learning rate: \n",
    "- loss: Função que determina a atualização no peso das amostras"
   ]
  },
  {
   "cell_type": "markdown",
   "metadata": {},
   "source": [
    "#### Boosting na prática\n",
    "\n",
    "Vamos usar o dataset de housing prices que está disponivel neste __[link](https://www.kaggle.com/uciml/breast-cancer-wisconsin-data/data)__"
   ]
  },
  {
   "cell_type": "code",
   "execution_count": 2,
   "metadata": {},
   "outputs": [
    {
     "name": "stderr",
     "output_type": "stream",
     "text": [
      "/Users/felipeformenti/.venvs/tera_boosting/lib/python3.6/site-packages/sklearn/cross_validation.py:41: DeprecationWarning: This module was deprecated in version 0.18 in favor of the model_selection module into which all the refactored classes and functions are moved. Also note that the interface of the new CV iterators are different from that of this module. This module will be removed in 0.20.\n",
      "  \"This module will be removed in 0.20.\", DeprecationWarning)\n",
      "/Users/felipeformenti/.venvs/tera_boosting/lib/python3.6/site-packages/sklearn/grid_search.py:42: DeprecationWarning: This module was deprecated in version 0.18 in favor of the model_selection module into which all the refactored classes and functions are moved. This module will be removed in 0.20.\n",
      "  DeprecationWarning)\n"
     ]
    }
   ],
   "source": [
    "import numpy as np\n",
    "import pandas as pd\n",
    "import matplotlib.pyplot as plt\n",
    "\n",
    "from sklearn import metrics\n",
    "\n",
    "from sklearn.model_selection import train_test_split, cross_val_score\n",
    "from sklearn.tree import DecisionTreeRegressor\n",
    "from sklearn.ensemble import AdaBoostRegressor, GradientBoostingRegressor\n",
    "from sklearn.grid_search import GridSearchCV \n",
    "\n",
    "pd.options.mode.chained_assignment = None  # default='warn'\n",
    "%matplotlib inline  "
   ]
  },
  {
   "cell_type": "code",
   "execution_count": 3,
   "metadata": {},
   "outputs": [],
   "source": [
    "hp = pd.read_csv('data/house_prices.csv')"
   ]
  },
  {
   "cell_type": "code",
   "execution_count": 4,
   "metadata": {},
   "outputs": [
    {
     "data": {
      "text/html": [
       "<div>\n",
       "<style scoped>\n",
       "    .dataframe tbody tr th:only-of-type {\n",
       "        vertical-align: middle;\n",
       "    }\n",
       "\n",
       "    .dataframe tbody tr th {\n",
       "        vertical-align: top;\n",
       "    }\n",
       "\n",
       "    .dataframe thead th {\n",
       "        text-align: right;\n",
       "    }\n",
       "</style>\n",
       "<table border=\"1\" class=\"dataframe\">\n",
       "  <thead>\n",
       "    <tr style=\"text-align: right;\">\n",
       "      <th></th>\n",
       "      <th>Id</th>\n",
       "      <th>MSSubClass</th>\n",
       "      <th>MSZoning</th>\n",
       "      <th>LotFrontage</th>\n",
       "      <th>LotArea</th>\n",
       "      <th>Street</th>\n",
       "      <th>Alley</th>\n",
       "      <th>LotShape</th>\n",
       "      <th>LandContour</th>\n",
       "      <th>Utilities</th>\n",
       "      <th>...</th>\n",
       "      <th>PoolArea</th>\n",
       "      <th>PoolQC</th>\n",
       "      <th>Fence</th>\n",
       "      <th>MiscFeature</th>\n",
       "      <th>MiscVal</th>\n",
       "      <th>MoSold</th>\n",
       "      <th>YrSold</th>\n",
       "      <th>SaleType</th>\n",
       "      <th>SaleCondition</th>\n",
       "      <th>SalePrice</th>\n",
       "    </tr>\n",
       "  </thead>\n",
       "  <tbody>\n",
       "    <tr>\n",
       "      <th>0</th>\n",
       "      <td>1</td>\n",
       "      <td>60</td>\n",
       "      <td>RL</td>\n",
       "      <td>65.0</td>\n",
       "      <td>8450</td>\n",
       "      <td>Pave</td>\n",
       "      <td>NaN</td>\n",
       "      <td>Reg</td>\n",
       "      <td>Lvl</td>\n",
       "      <td>AllPub</td>\n",
       "      <td>...</td>\n",
       "      <td>0</td>\n",
       "      <td>NaN</td>\n",
       "      <td>NaN</td>\n",
       "      <td>NaN</td>\n",
       "      <td>0</td>\n",
       "      <td>2</td>\n",
       "      <td>2008</td>\n",
       "      <td>WD</td>\n",
       "      <td>Normal</td>\n",
       "      <td>208500</td>\n",
       "    </tr>\n",
       "    <tr>\n",
       "      <th>1</th>\n",
       "      <td>2</td>\n",
       "      <td>20</td>\n",
       "      <td>RL</td>\n",
       "      <td>80.0</td>\n",
       "      <td>9600</td>\n",
       "      <td>Pave</td>\n",
       "      <td>NaN</td>\n",
       "      <td>Reg</td>\n",
       "      <td>Lvl</td>\n",
       "      <td>AllPub</td>\n",
       "      <td>...</td>\n",
       "      <td>0</td>\n",
       "      <td>NaN</td>\n",
       "      <td>NaN</td>\n",
       "      <td>NaN</td>\n",
       "      <td>0</td>\n",
       "      <td>5</td>\n",
       "      <td>2007</td>\n",
       "      <td>WD</td>\n",
       "      <td>Normal</td>\n",
       "      <td>181500</td>\n",
       "    </tr>\n",
       "    <tr>\n",
       "      <th>2</th>\n",
       "      <td>3</td>\n",
       "      <td>60</td>\n",
       "      <td>RL</td>\n",
       "      <td>68.0</td>\n",
       "      <td>11250</td>\n",
       "      <td>Pave</td>\n",
       "      <td>NaN</td>\n",
       "      <td>IR1</td>\n",
       "      <td>Lvl</td>\n",
       "      <td>AllPub</td>\n",
       "      <td>...</td>\n",
       "      <td>0</td>\n",
       "      <td>NaN</td>\n",
       "      <td>NaN</td>\n",
       "      <td>NaN</td>\n",
       "      <td>0</td>\n",
       "      <td>9</td>\n",
       "      <td>2008</td>\n",
       "      <td>WD</td>\n",
       "      <td>Normal</td>\n",
       "      <td>223500</td>\n",
       "    </tr>\n",
       "  </tbody>\n",
       "</table>\n",
       "<p>3 rows × 81 columns</p>\n",
       "</div>"
      ],
      "text/plain": [
       "   Id  MSSubClass MSZoning  LotFrontage  LotArea Street Alley LotShape  \\\n",
       "0   1          60       RL         65.0     8450   Pave   NaN      Reg   \n",
       "1   2          20       RL         80.0     9600   Pave   NaN      Reg   \n",
       "2   3          60       RL         68.0    11250   Pave   NaN      IR1   \n",
       "\n",
       "  LandContour Utilities    ...     PoolArea PoolQC Fence MiscFeature MiscVal  \\\n",
       "0         Lvl    AllPub    ...            0    NaN   NaN         NaN       0   \n",
       "1         Lvl    AllPub    ...            0    NaN   NaN         NaN       0   \n",
       "2         Lvl    AllPub    ...            0    NaN   NaN         NaN       0   \n",
       "\n",
       "  MoSold YrSold  SaleType  SaleCondition  SalePrice  \n",
       "0      2   2008        WD         Normal     208500  \n",
       "1      5   2007        WD         Normal     181500  \n",
       "2      9   2008        WD         Normal     223500  \n",
       "\n",
       "[3 rows x 81 columns]"
      ]
     },
     "execution_count": 4,
     "metadata": {},
     "output_type": "execute_result"
    }
   ],
   "source": [
    "hp.head(3)"
   ]
  },
  {
   "cell_type": "code",
   "execution_count": 5,
   "metadata": {},
   "outputs": [
    {
     "name": "stdout",
     "output_type": "stream",
     "text": [
      "<class 'pandas.core.frame.DataFrame'>\n",
      "RangeIndex: 1460 entries, 0 to 1459\n",
      "Data columns (total 81 columns):\n",
      "Id               1460 non-null int64\n",
      "MSSubClass       1460 non-null int64\n",
      "MSZoning         1460 non-null object\n",
      "LotFrontage      1201 non-null float64\n",
      "LotArea          1460 non-null int64\n",
      "Street           1460 non-null object\n",
      "Alley            91 non-null object\n",
      "LotShape         1460 non-null object\n",
      "LandContour      1460 non-null object\n",
      "Utilities        1460 non-null object\n",
      "LotConfig        1460 non-null object\n",
      "LandSlope        1460 non-null object\n",
      "Neighborhood     1460 non-null object\n",
      "Condition1       1460 non-null object\n",
      "Condition2       1460 non-null object\n",
      "BldgType         1460 non-null object\n",
      "HouseStyle       1460 non-null object\n",
      "OverallQual      1460 non-null int64\n",
      "OverallCond      1460 non-null int64\n",
      "YearBuilt        1460 non-null int64\n",
      "YearRemodAdd     1460 non-null int64\n",
      "RoofStyle        1460 non-null object\n",
      "RoofMatl         1460 non-null object\n",
      "Exterior1st      1460 non-null object\n",
      "Exterior2nd      1460 non-null object\n",
      "MasVnrType       1452 non-null object\n",
      "MasVnrArea       1452 non-null float64\n",
      "ExterQual        1460 non-null object\n",
      "ExterCond        1460 non-null object\n",
      "Foundation       1460 non-null object\n",
      "BsmtQual         1423 non-null object\n",
      "BsmtCond         1423 non-null object\n",
      "BsmtExposure     1422 non-null object\n",
      "BsmtFinType1     1423 non-null object\n",
      "BsmtFinSF1       1460 non-null int64\n",
      "BsmtFinType2     1422 non-null object\n",
      "BsmtFinSF2       1460 non-null int64\n",
      "BsmtUnfSF        1460 non-null int64\n",
      "TotalBsmtSF      1460 non-null int64\n",
      "Heating          1460 non-null object\n",
      "HeatingQC        1460 non-null object\n",
      "CentralAir       1460 non-null object\n",
      "Electrical       1459 non-null object\n",
      "1stFlrSF         1460 non-null int64\n",
      "2ndFlrSF         1460 non-null int64\n",
      "LowQualFinSF     1460 non-null int64\n",
      "GrLivArea        1460 non-null int64\n",
      "BsmtFullBath     1460 non-null int64\n",
      "BsmtHalfBath     1460 non-null int64\n",
      "FullBath         1460 non-null int64\n",
      "HalfBath         1460 non-null int64\n",
      "BedroomAbvGr     1460 non-null int64\n",
      "KitchenAbvGr     1460 non-null int64\n",
      "KitchenQual      1460 non-null object\n",
      "TotRmsAbvGrd     1460 non-null int64\n",
      "Functional       1460 non-null object\n",
      "Fireplaces       1460 non-null int64\n",
      "FireplaceQu      770 non-null object\n",
      "GarageType       1379 non-null object\n",
      "GarageYrBlt      1379 non-null float64\n",
      "GarageFinish     1379 non-null object\n",
      "GarageCars       1460 non-null int64\n",
      "GarageArea       1460 non-null int64\n",
      "GarageQual       1379 non-null object\n",
      "GarageCond       1379 non-null object\n",
      "PavedDrive       1460 non-null object\n",
      "WoodDeckSF       1460 non-null int64\n",
      "OpenPorchSF      1460 non-null int64\n",
      "EnclosedPorch    1460 non-null int64\n",
      "3SsnPorch        1460 non-null int64\n",
      "ScreenPorch      1460 non-null int64\n",
      "PoolArea         1460 non-null int64\n",
      "PoolQC           7 non-null object\n",
      "Fence            281 non-null object\n",
      "MiscFeature      54 non-null object\n",
      "MiscVal          1460 non-null int64\n",
      "MoSold           1460 non-null int64\n",
      "YrSold           1460 non-null int64\n",
      "SaleType         1460 non-null object\n",
      "SaleCondition    1460 non-null object\n",
      "SalePrice        1460 non-null int64\n",
      "dtypes: float64(3), int64(35), object(43)\n",
      "memory usage: 924.0+ KB\n"
     ]
    }
   ],
   "source": [
    "hp.info()"
   ]
  },
  {
   "cell_type": "code",
   "execution_count": 6,
   "metadata": {},
   "outputs": [
    {
     "data": {
      "image/png": "[encoded data removed]",
      "text/plain": [
       "<Figure size 432x288 with 1 Axes>"
      ]
     },
     "metadata": {},
     "output_type": "display_data"
    }
   ],
   "source": [
    "plt.hist(hp.SalePrice, color='blue')\n",
    "plt.show()"
   ]
  },
  {
   "cell_type": "code",
   "execution_count": 7,
   "metadata": {},
   "outputs": [
    {
     "data": {
      "image/png": "[encoded data removed]",
      "text/plain": [
       "<Figure size 432x288 with 1 Axes>"
      ]
     },
     "metadata": {},
     "output_type": "display_data"
    }
   ],
   "source": [
    "plt.hist(np.log(hp.SalePrice), color='blue')\n",
    "plt.show()"
   ]
  },
  {
   "cell_type": "code",
   "execution_count": 8,
   "metadata": {},
   "outputs": [],
   "source": [
    "#hp.LotFrontage.unique()"
   ]
  },
  {
   "cell_type": "markdown",
   "metadata": {},
   "source": [
    "__Data Treatment__"
   ]
  },
  {
   "cell_type": "code",
   "execution_count": 9,
   "metadata": {},
   "outputs": [],
   "source": [
    "# Removing Nulls\n",
    "# df = hp[pd.notnull(hp['GarageQual'])]"
   ]
  },
  {
   "cell_type": "markdown",
   "metadata": {},
   "source": [
    "__Feature Engineering__"
   ]
  },
  {
   "cell_type": "code",
   "execution_count": 10,
   "metadata": {},
   "outputs": [],
   "source": [
    "# Has Pool\n",
    "hp['has_pool'] = np.where(hp['PoolArea'] > 0, 1,0)"
   ]
  },
  {
   "cell_type": "markdown",
   "metadata": {},
   "source": [
    "__Imputation__"
   ]
  },
  {
   "cell_type": "code",
   "execution_count": 11,
   "metadata": {},
   "outputs": [],
   "source": [
    "#filling NA's with the mean of the column:\n",
    "hp['LotFrontage'] = hp['LotFrontage'].fillna(hp['LotFrontage'].mean())"
   ]
  },
  {
   "cell_type": "code",
   "execution_count": 12,
   "metadata": {},
   "outputs": [],
   "source": [
    "# # Watch out for this!!!\n",
    "# a = DataFrame({'x': [1,2]})\n",
    "# b = a[0:1]\n",
    "# b.x = -1\n",
    "# print(b)"
   ]
  },
  {
   "cell_type": "code",
   "execution_count": 13,
   "metadata": {},
   "outputs": [],
   "source": [
    "df = hp.copy()"
   ]
  },
  {
   "cell_type": "code",
   "execution_count": 14,
   "metadata": {},
   "outputs": [],
   "source": [
    "# Isolate Response variable and Drop unwanted columns\n",
    "X_keep = ['LotArea','has_pool','YrSold','OverallQual','OverallCond']\n",
    "response_variable = 'SalePrice'\n",
    "\n",
    "X = df[X_keep]\n",
    "y = df[response_variable]"
   ]
  },
  {
   "cell_type": "code",
   "execution_count": 15,
   "metadata": {},
   "outputs": [],
   "source": [
    "y = np.log(y)"
   ]
  },
  {
   "cell_type": "code",
   "execution_count": 16,
   "metadata": {},
   "outputs": [],
   "source": [
    "X_train, X_test, y_train, y_test = train_test_split(X, y, test_size=0.33, random_state=28)"
   ]
  },
  {
   "cell_type": "code",
   "execution_count": 17,
   "metadata": {},
   "outputs": [
    {
     "data": {
      "text/plain": [
       "AdaBoostRegressor(base_estimator=DecisionTreeRegressor(criterion='mse', max_depth=2, max_features=None,\n",
       "           max_leaf_nodes=None, min_impurity_decrease=0.0,\n",
       "           min_impurity_split=None, min_samples_leaf=1,\n",
       "           min_samples_split=2, min_weight_fraction_leaf=0.0,\n",
       "           presort=False, random_state=None, splitter='best'),\n",
       "         learning_rate=1.0, loss='linear', n_estimators=300,\n",
       "         random_state=28)"
      ]
     },
     "execution_count": 17,
     "metadata": {},
     "output_type": "execute_result"
    }
   ],
   "source": [
    "adr = AdaBoostRegressor(DecisionTreeRegressor(max_depth=2), n_estimators=300, random_state=28)\n",
    "adr.fit(X_train, y_train)"
   ]
  },
  {
   "cell_type": "code",
   "execution_count": 18,
   "metadata": {},
   "outputs": [
    {
     "name": "stdout",
     "output_type": "stream",
     "text": [
      "MSE: 0.0558\n",
      "MAE: 0.1765\n"
     ]
    }
   ],
   "source": [
    "# Predict\n",
    "y_pred = adr.predict(X_test)\n",
    "mse = metrics.mean_squared_error(y_pred, y_test)\n",
    "mae = metrics.mean_absolute_error(y_pred, y_test)\n",
    "print(\"MSE: %.4f\" % mse)\n",
    "print(\"MAE: %.4f\" % mae)"
   ]
  },
  {
   "cell_type": "code",
   "execution_count": 22,
   "metadata": {},
   "outputs": [
    {
     "data": {
      "image/png": "[encoded data removed]",
      "text/plain": [
       "<Figure size 432x288 with 1 Axes>"
      ]
     },
     "metadata": {},
     "output_type": "display_data"
    }
   ],
   "source": [
    "actual_values = y_test\n",
    "plt.scatter(y_pred, actual_values, alpha=.75,\n",
    "            color='b') #alpha helps to show overlapping data\n",
    "plt.xlabel('Predicted Price')\n",
    "plt.ylabel('Actual Price')\n",
    "plt.title('Model Performance')\n",
    "plt.show()"
   ]
  },
  {
   "cell_type": "code",
   "execution_count": 23,
   "metadata": {},
   "outputs": [],
   "source": [
    "importances = adr.feature_importances_\n",
    "feature_names = X_test.columns\n",
    "n = 5"
   ]
  },
  {
   "cell_type": "code",
   "execution_count": 24,
   "metadata": {},
   "outputs": [],
   "source": [
    "def plot_feature_importance(importances, feature_names, n):\n",
    "    indices = np.argsort(importances)[::-1][:n]\n",
    "    fig, ax = plt.subplots(1,1)\n",
    "    fig.set_size_inches(10,6)\n",
    "    plt.title(\"Feature importances\", fontsize = 16)\n",
    "    xlabels = [feature_names[int(i)] for i in indices]\n",
    "    plt.bar(range(n), importances[indices],\n",
    "            color=\"#799DBB\",  align=\"center\")\n",
    "    plt.grid()\n",
    "    plt.xticks(range(n), xlabels, rotation=90)\n",
    "    plt.xlim([-1, n])\n",
    "    plt.ylim([0, min(1, max(importances[indices]+0.0005))])\n",
    "    plt.xlabel('Features', fontsize = 14)\n",
    "    plt.ylabel('Feature Importance', fontsize = 14)\n",
    "    plt.title('Variable Importance')\n",
    "    plt.show()"
   ]
  },
  {
   "cell_type": "code",
   "execution_count": 25,
   "metadata": {},
   "outputs": [
    {
     "data": {
      "image/png": "[encoded data removed]",
      "text/plain": [
       "<Figure size 720x432 with 1 Axes>"
      ]
     },
     "metadata": {},
     "output_type": "display_data"
    }
   ],
   "source": [
    "plot_feature_importance(importances, feature_names, n)"
   ]
  },
  {
   "cell_type": "markdown",
   "metadata": {},
   "source": [
    "__MAKING A SUBMISSION__"
   ]
  },
  {
   "cell_type": "code",
   "execution_count": 43,
   "metadata": {},
   "outputs": [],
   "source": [
    "test = pd.read_csv('data/house_prices_test.csv')"
   ]
  },
  {
   "cell_type": "code",
   "execution_count": 44,
   "metadata": {},
   "outputs": [],
   "source": [
    "# Has Pool\n",
    "test['has_pool'] = np.where(test['PoolArea'] > 0, 1,0)"
   ]
  },
  {
   "cell_type": "code",
   "execution_count": 45,
   "metadata": {},
   "outputs": [],
   "source": [
    "X_pred = test[X_keep]"
   ]
  },
  {
   "cell_type": "code",
   "execution_count": 46,
   "metadata": {},
   "outputs": [],
   "source": [
    "predictions = adr.predict(X_pred)"
   ]
  },
  {
   "cell_type": "code",
   "execution_count": 47,
   "metadata": {},
   "outputs": [],
   "source": [
    "final_predictions = np.exp(predictions)"
   ]
  },
  {
   "cell_type": "code",
   "execution_count": 48,
   "metadata": {},
   "outputs": [],
   "source": [
    "submission = pd.DataFrame()\n",
    "submission['Id'] = test.Id\n",
    "submission['SalePrice'] = final_predictions"
   ]
  },
  {
   "cell_type": "code",
   "execution_count": 49,
   "metadata": {},
   "outputs": [],
   "source": [
    "submission.to_csv('submission_adr.csv', index=False)"
   ]
  },
  {
   "cell_type": "markdown",
   "metadata": {},
   "source": [
    "### 1.2.2. Gradient Boosting"
   ]
  },
  {
   "cell_type": "markdown",
   "metadata": {},
   "source": [
    "http://blog.kaggle.com/2017/01/23/a-kaggle-master-explains-gradient-boosting/"
   ]
  },
  {
   "cell_type": "markdown",
   "metadata": {},
   "source": [
    "https://www.youtube.com/watch?v=sRktKszFmSk&t=71s"
   ]
  },
  {
   "cell_type": "markdown",
   "metadata": {},
   "source": [
    "https://www.analyticsvidhya.com/blog/2015/11/quick-introduction-boosting-algorithms-machine-learning/"
   ]
  },
  {
   "cell_type": "markdown",
   "metadata": {},
   "source": [
    "http://www.ccs.neu.edu/home/vip/teach/MLcourse/4_boosting/slides/gradient_boosting.pdf"
   ]
  },
  {
   "cell_type": "markdown",
   "metadata": {},
   "source": [
    "__Como difere do Adaboost:__\n",
    "- Ao invés de atribuir pesos baseados nos erros de cada amostras o Gradient Boosting usa o erro resultante do strong learner como dado de entrada para o modelo seguinte (weak learned).\n",
    "- O multiplicar referente ao weak learner não é função do seu poder de previsão da amostra. Ele é calculado pelo processo de otimização do Gradient Descent."
   ]
  },
  {
   "cell_type": "markdown",
   "metadata": {},
   "source": [
    "**Idéia**\n",
    "\n",
    "- A idéia é fazer com que cada novo modelo tente capturar os erros dos modelos anteriores a ele"
   ]
  },
  {
   "cell_type": "markdown",
   "metadata": {},
   "source": [
    "Esse video trás uma compreenssão gráfica de como cada modelo tenta capturar o error modelo principal (Strong Learner), e como é feita o split de cada árvore na tentativa de minimizar o erros dos residuos (o que é basicamente a descrição verbal do processo de Gradient Descent)"
   ]
  },
  {
   "cell_type": "markdown",
   "metadata": {},
   "source": [
    "https://www.youtube.com/watch?v=sRktKszFmSk&t=236s"
   ]
  },
  {
   "cell_type": "code",
   "execution_count": 50,
   "metadata": {},
   "outputs": [
    {
     "name": "stdout",
     "output_type": "stream",
     "text": [
      "MSE: 0.0490\n",
      "MAE: 0.1582\n"
     ]
    }
   ],
   "source": [
    "# Fit regression model\n",
    "params = {'n_estimators': 500, 'max_depth': 4, 'min_samples_split': 2,\n",
    "          'learning_rate': 0.01, 'loss': 'ls', 'random_state': 28}\n",
    "\n",
    "gbr = GradientBoostingRegressor(**params)\n",
    "\n",
    "gbr.fit(X_train, y_train)\n",
    "y_pred = gbr.predict(X_test)\n",
    "mse = metrics.mean_squared_error(y_pred, y_test)\n",
    "mae = metrics.mean_absolute_error(y_pred, y_test)\n",
    "print(\"MSE: %.4f\" % mse)\n",
    "print(\"MAE: %.4f\" % mae)"
   ]
  },
  {
   "cell_type": "code",
   "execution_count": 51,
   "metadata": {},
   "outputs": [
    {
     "data": {
      "text/plain": [
       "([mean: 0.38320, std: 0.02495, params: {'max_depth': 2, 'n_estimators': 50},\n",
       "  mean: 0.54869, std: 0.03491, params: {'max_depth': 2, 'n_estimators': 100},\n",
       "  mean: 0.72030, std: 0.03428, params: {'max_depth': 2, 'n_estimators': 300},\n",
       "  mean: 0.74325, std: 0.03461, params: {'max_depth': 2, 'n_estimators': 500},\n",
       "  mean: 0.42821, std: 0.02394, params: {'max_depth': 3, 'n_estimators': 50},\n",
       "  mean: 0.60224, std: 0.02995, params: {'max_depth': 3, 'n_estimators': 100},\n",
       "  mean: 0.73390, std: 0.03615, params: {'max_depth': 3, 'n_estimators': 300},\n",
       "  mean: 0.73905, std: 0.03716, params: {'max_depth': 3, 'n_estimators': 500},\n",
       "  mean: 0.44862, std: 0.02390, params: {'max_depth': 4, 'n_estimators': 50},\n",
       "  mean: 0.62202, std: 0.02972, params: {'max_depth': 4, 'n_estimators': 100},\n",
       "  mean: 0.73060, std: 0.04038, params: {'max_depth': 4, 'n_estimators': 300},\n",
       "  mean: 0.72808, std: 0.04481, params: {'max_depth': 4, 'n_estimators': 500}],\n",
       " {'max_depth': 2, 'n_estimators': 500},\n",
       " 0.7432489200534269)"
      ]
     },
     "execution_count": 51,
     "metadata": {},
     "output_type": "execute_result"
    }
   ],
   "source": [
    "params_grid = {'n_estimators': [50, 100, 300, 500], 'max_depth': [2,3,4]}\n",
    "gsearch = GridSearchCV(estimator = gbr, param_grid = params_grid, n_jobs=4,iid=False, cv=5)\n",
    "gsearch.fit(X_train, y_train)\n",
    "gsearch.grid_scores_, gsearch.best_params_, gsearch.best_score_"
   ]
  },
  {
   "cell_type": "code",
   "execution_count": 52,
   "metadata": {},
   "outputs": [],
   "source": [
    "best_params = {'n_estimators': 500, 'max_depth': 2, 'min_samples_split': 2,\n",
    "          'learning_rate': 0.01, 'loss': 'ls', 'random_state': 28}"
   ]
  },
  {
   "cell_type": "code",
   "execution_count": 53,
   "metadata": {},
   "outputs": [
    {
     "data": {
      "text/plain": [
       "GradientBoostingRegressor(alpha=0.9, criterion='friedman_mse', init=None,\n",
       "             learning_rate=0.01, loss='ls', max_depth=2, max_features=None,\n",
       "             max_leaf_nodes=None, min_impurity_decrease=0.0,\n",
       "             min_impurity_split=None, min_samples_leaf=1,\n",
       "             min_samples_split=2, min_weight_fraction_leaf=0.0,\n",
       "             n_estimators=500, presort='auto', random_state=28,\n",
       "             subsample=1.0, verbose=0, warm_start=False)"
      ]
     },
     "execution_count": 53,
     "metadata": {},
     "output_type": "execute_result"
    }
   ],
   "source": [
    "gbr = GradientBoostingRegressor(**best_params)\n",
    "gbr.fit(X_train, y_train)"
   ]
  },
  {
   "cell_type": "code",
   "execution_count": 54,
   "metadata": {},
   "outputs": [
    {
     "name": "stdout",
     "output_type": "stream",
     "text": [
      "MSE: 0.0463\n",
      "MAE: 0.1561\n"
     ]
    }
   ],
   "source": [
    "y_pred = gbr.predict(X_test)\n",
    "mse = metrics.mean_squared_error(y_pred, y_test)\n",
    "mae = metrics.mean_absolute_error(y_pred, y_test)\n",
    "print(\"MSE: %.4f\" % mse)\n",
    "print(\"MAE: %.4f\" % mae)"
   ]
  },
  {
   "cell_type": "code",
   "execution_count": 55,
   "metadata": {},
   "outputs": [
    {
     "data": {
      "image/png": "[encoded data removed]",
      "text/plain": [
       "<Figure size 432x288 with 1 Axes>"
      ]
     },
     "metadata": {},
     "output_type": "display_data"
    }
   ],
   "source": [
    "actual_values = y_test\n",
    "plt.scatter(y_pred, actual_values, alpha=.75,\n",
    "            color='b') #alpha helps to show overlapping data\n",
    "plt.xlabel('Predicted Price')\n",
    "plt.ylabel('Actual Price')\n",
    "plt.title('Model Performance')\n",
    "plt.show()"
   ]
  },
  {
   "cell_type": "markdown",
   "metadata": {},
   "source": [
    "__MAKING A SUBMISSION__"
   ]
  },
  {
   "cell_type": "code",
   "execution_count": 56,
   "metadata": {},
   "outputs": [],
   "source": [
    "X_pred = test[X_keep]\n",
    "predictions = adr.predict(X_pred)\n",
    "final_predictions = np.exp(predictions)\n",
    "submission = pd.DataFrame()\n",
    "submission['Id'] = test.Id\n",
    "submission['SalePrice'] = predictions\n",
    "submission.to_csv('submission_gbr_gridsearch.csv', index=False)"
   ]
  },
  {
   "cell_type": "markdown",
   "metadata": {},
   "source": [
    "### 1.2.3 XGBoost (Extreme Gradient Boosting ou Regularized Boosting)"
   ]
  },
  {
   "cell_type": "markdown",
   "metadata": {},
   "source": [
    "__Como difere do Gradient Descent:__\n",
    "\n",
    "- Introduz regularização na Loss Function.\n",
    "- Não é um algoritmo guloso.\n",
    "- Possui cross validation em cada iteração.\n"
   ]
  },
  {
   "cell_type": "markdown",
   "metadata": {},
   "source": [
    "**Prós**\n",
    "- Alto poder de previsão (Maior que Adaboost e Gradient Boosting)\n",
    "- Reduz overfiiting por utilizar regularização na Loss Function.\n",
    "- Processamento Paralelo"
   ]
  },
  {
   "cell_type": "markdown",
   "metadata": {},
   "source": [
    "**Parâmetros mais importantes**\n",
    "\n",
    "- lambda: Responsável por atuar na regularização da Loss Function. A regularização é análoga a de Ridge\n",
    "- alpha: Responsável por atuar na regularização da Loss Function. A regularização é análoga a de Lasso\n",
    "- objective: Determina qual a sua Loss Function\n",
    "- eta: É analogo ao learning rate, ou seja, o passo que o algoritmo caminha pela superfície da Loss Function\n",
    "- max_depth: Mesmo que GBM\n",
    "- booster: Tipo de modelo que será rodado em cada iteração (opções: gbtree: tree-based models, gblinear: linear models)"
   ]
  },
  {
   "cell_type": "markdown",
   "metadata": {},
   "source": [
    "### 1.2.3.1 XGBoost Regression"
   ]
  },
  {
   "cell_type": "code",
   "execution_count": 57,
   "metadata": {},
   "outputs": [],
   "source": [
    "from xgboost.sklearn import XGBRegressor"
   ]
  },
  {
   "cell_type": "code",
   "execution_count": 58,
   "metadata": {},
   "outputs": [],
   "source": [
    "model_xgb = XGBRegressor(learning_rate=0.05, max_depth=3, n_estimators=100,\n",
    "                             reg_alpha=0.4, reg_lambda=0.4,subsample=0.5213)"
   ]
  },
  {
   "cell_type": "code",
   "execution_count": 59,
   "metadata": {},
   "outputs": [
    {
     "data": {
      "text/plain": [
       "XGBRegressor(base_score=0.5, booster='gbtree', colsample_bylevel=1,\n",
       "       colsample_bytree=1, gamma=0, learning_rate=0.05, max_delta_step=0,\n",
       "       max_depth=3, min_child_weight=1, missing=None, n_estimators=100,\n",
       "       n_jobs=1, nthread=None, objective='reg:linear', random_state=0,\n",
       "       reg_alpha=0.4, reg_lambda=0.4, scale_pos_weight=1, seed=None,\n",
       "       silent=True, subsample=0.5213)"
      ]
     },
     "execution_count": 59,
     "metadata": {},
     "output_type": "execute_result"
    }
   ],
   "source": [
    "model_xgb.fit(X_train, y_train)"
   ]
  },
  {
   "cell_type": "code",
   "execution_count": 60,
   "metadata": {},
   "outputs": [],
   "source": [
    "y_pred = model_xgb.predict(X_test)"
   ]
  },
  {
   "cell_type": "code",
   "execution_count": 61,
   "metadata": {},
   "outputs": [
    {
     "name": "stdout",
     "output_type": "stream",
     "text": [
      "MSE: 0.0502\n",
      "MAE: 0.1683\n"
     ]
    }
   ],
   "source": [
    "mse = metrics.mean_squared_error(y_pred, y_test)\n",
    "mae = metrics.mean_absolute_error(y_pred, y_test)\n",
    "print(\"MSE: %.4f\" % mse)\n",
    "print(\"MAE: %.4f\" % mae)"
   ]
  },
  {
   "cell_type": "code",
   "execution_count": 62,
   "metadata": {},
   "outputs": [
    {
     "data": {
      "text/plain": [
       "([mean: -4.50561, std: 0.65853, params: {'learning_rate': 0.05, 'max_depth': 2, 'n_estimators': 50},\n",
       "  mean: 0.70833, std: 0.02938, params: {'learning_rate': 0.05, 'max_depth': 2, 'n_estimators': 100},\n",
       "  mean: 0.74209, std: 0.03422, params: {'learning_rate': 0.05, 'max_depth': 2, 'n_estimators': 300},\n",
       "  mean: 0.73560, std: 0.03512, params: {'learning_rate': 0.05, 'max_depth': 2, 'n_estimators': 500},\n",
       "  mean: -4.50342, std: 0.66123, params: {'learning_rate': 0.05, 'max_depth': 3, 'n_estimators': 50},\n",
       "  mean: 0.70815, std: 0.03164, params: {'learning_rate': 0.05, 'max_depth': 3, 'n_estimators': 100},\n",
       "  mean: 0.73371, std: 0.03501, params: {'learning_rate': 0.05, 'max_depth': 3, 'n_estimators': 300},\n",
       "  mean: 0.72273, std: 0.03886, params: {'learning_rate': 0.05, 'max_depth': 3, 'n_estimators': 500},\n",
       "  mean: -4.50297, std: 0.66116, params: {'learning_rate': 0.05, 'max_depth': 4, 'n_estimators': 50},\n",
       "  mean: 0.70658, std: 0.03304, params: {'learning_rate': 0.05, 'max_depth': 4, 'n_estimators': 100},\n",
       "  mean: 0.72606, std: 0.03832, params: {'learning_rate': 0.05, 'max_depth': 4, 'n_estimators': 300},\n",
       "  mean: 0.71428, std: 0.04332, params: {'learning_rate': 0.05, 'max_depth': 4, 'n_estimators': 500},\n",
       "  mean: -40.33879, std: 4.81255, params: {'learning_rate': 0.03, 'max_depth': 2, 'n_estimators': 50},\n",
       "  mean: -1.29097, std: 0.26980, params: {'learning_rate': 0.03, 'max_depth': 2, 'n_estimators': 100},\n",
       "  mean: 0.74650, std: 0.03448, params: {'learning_rate': 0.03, 'max_depth': 2, 'n_estimators': 300},\n",
       "  mean: 0.74277, std: 0.03562, params: {'learning_rate': 0.03, 'max_depth': 2, 'n_estimators': 500},\n",
       "  mean: -40.33879, std: 4.81255, params: {'learning_rate': 0.03, 'max_depth': 3, 'n_estimators': 50},\n",
       "  mean: -1.28738, std: 0.26714, params: {'learning_rate': 0.03, 'max_depth': 3, 'n_estimators': 100},\n",
       "  mean: 0.74107, std: 0.03445, params: {'learning_rate': 0.03, 'max_depth': 3, 'n_estimators': 300},\n",
       "  mean: 0.73273, std: 0.03738, params: {'learning_rate': 0.03, 'max_depth': 3, 'n_estimators': 500},\n",
       "  mean: -40.33879, std: 4.81255, params: {'learning_rate': 0.03, 'max_depth': 4, 'n_estimators': 50},\n",
       "  mean: -1.28815, std: 0.26817, params: {'learning_rate': 0.03, 'max_depth': 4, 'n_estimators': 100},\n",
       "  mean: 0.73670, std: 0.03710, params: {'learning_rate': 0.03, 'max_depth': 4, 'n_estimators': 300},\n",
       "  mean: 0.72599, std: 0.04061, params: {'learning_rate': 0.03, 'max_depth': 4, 'n_estimators': 500}],\n",
       " {'learning_rate': 0.03, 'max_depth': 2, 'n_estimators': 300},\n",
       " 0.7465005611788713)"
      ]
     },
     "execution_count": 62,
     "metadata": {},
     "output_type": "execute_result"
    }
   ],
   "source": [
    "params_grid = {'n_estimators': [50, 100, 300, 500], 'max_depth': [2,3,4], 'learning_rate': [0.05,0.03]}\n",
    "gsearch = GridSearchCV(estimator = model_xgb, param_grid = params_grid, n_jobs=4,iid=False, cv=5)\n",
    "gsearch.fit(X_train, y_train)\n",
    "gsearch.grid_scores_, gsearch.best_params_, gsearch.best_score_"
   ]
  },
  {
   "cell_type": "code",
   "execution_count": 65,
   "metadata": {},
   "outputs": [],
   "source": [
    "best_params = {'n_estimators': 500, 'max_depth': 2, 'learning_rate': 2,\n",
    "          'reg_alpha': 0.01, 'reg_lambda': 0.02, 'random_state': 28}"
   ]
  },
  {
   "cell_type": "code",
   "execution_count": 66,
   "metadata": {},
   "outputs": [
    {
     "data": {
      "text/plain": [
       "XGBRegressor(base_score=0.5, booster='gbtree', colsample_bylevel=1,\n",
       "       colsample_bytree=1, gamma=0, learning_rate=2, max_delta_step=0,\n",
       "       max_depth=2, min_child_weight=1, missing=None, n_estimators=500,\n",
       "       n_jobs=1, nthread=None, objective='reg:linear', random_state=28,\n",
       "       reg_alpha=0.01, reg_lambda=0.02, scale_pos_weight=1, seed=None,\n",
       "       silent=True, subsample=1)"
      ]
     },
     "execution_count": 66,
     "metadata": {},
     "output_type": "execute_result"
    }
   ],
   "source": [
    "model_xgb = XGBRegressor(**best_params)\n",
    "model_xgb.fit(X_train, y_train)"
   ]
  },
  {
   "cell_type": "markdown",
   "metadata": {},
   "source": [
    "__SUBMIT TO KAGGLE__"
   ]
  },
  {
   "cell_type": "code",
   "execution_count": null,
   "metadata": {},
   "outputs": [],
   "source": [
    "# ALUNOS"
   ]
  },
  {
   "cell_type": "markdown",
   "metadata": {},
   "source": [
    "### 1.2.3.2 XGBoost Classifier"
   ]
  },
  {
   "cell_type": "code",
   "execution_count": 67,
   "metadata": {},
   "outputs": [],
   "source": [
    "from xgboost.sklearn import XGBClassifier\n",
    "from sklearn.grid_search import GridSearchCV   #Perforing grid search\n",
    "from matplotlib.pylab import rcParams"
   ]
  },
  {
   "cell_type": "code",
   "execution_count": 68,
   "metadata": {},
   "outputs": [],
   "source": [
    "kobe = pd.read_csv('data/kobe.csv')\n",
    "df = kobe[pd.notnull(kobe['shot_made_flag'])]\n",
    "df[\"shot_zone_range\"] = df[\"shot_zone_range\"].astype('category')\n",
    "df[\"shot_zone_range_code\"] = df[\"shot_zone_range\"].cat.codes\n",
    "df = pd.get_dummies(df, columns=[\"combined_shot_type\"], prefix = '', prefix_sep='')"
   ]
  },
  {
   "cell_type": "code",
   "execution_count": 69,
   "metadata": {},
   "outputs": [],
   "source": [
    "def get_minutes_remaing(period, minutes):\n",
    "    if period < 5:\n",
    "        return 12*(4-period) + minutes\n",
    "    else:\n",
    "        return minutes"
   ]
  },
  {
   "cell_type": "code",
   "execution_count": 70,
   "metadata": {},
   "outputs": [],
   "source": [
    "df['game_minutes_remaing'] = df.apply(lambda x: get_minutes_remaing(x['period'], x['minutes_remaining']), axis=1)\n",
    "# Isolate Response variable and Drop unwanted columns\n",
    "X_keep = ['shot_distance','seconds_remaining','game_minutes_remaing','playoffs','shot_zone_range_code','Bank Shot','Dunk', 'Hook Shot', 'Jump Shot', 'Layup', 'Tip Shot']\n",
    "response_variable = 'shot_made_flag'\n",
    "\n",
    "X = df[X_keep]\n",
    "y = df[response_variable]\n",
    "X_train, X_test, y_train, y_test = train_test_split(X, y, test_size=0.33, random_state=42)"
   ]
  },
  {
   "cell_type": "code",
   "execution_count": 71,
   "metadata": {},
   "outputs": [],
   "source": [
    "model_xgb = XGBClassifier(learning_rate =0.1, n_estimators=1000, max_depth=5, min_child_weight=1, gamma=0,subsample=0.8,\n",
    "                     colsample_bytree=0.8,objective= 'binary:logistic',nthread=4,scale_pos_weight=1,random_state=28)"
   ]
  },
  {
   "cell_type": "code",
   "execution_count": 72,
   "metadata": {},
   "outputs": [
    {
     "name": "stderr",
     "output_type": "stream",
     "text": [
      "/Users/felipeformenti/.venvs/tera_boosting/lib/python3.6/site-packages/sklearn/preprocessing/label.py:151: DeprecationWarning: The truth value of an empty array is ambiguous. Returning False, but in future this will result in an error. Use `array.size > 0` to check that an array is not empty.\n",
      "  if diff:\n"
     ]
    },
    {
     "name": "stdout",
     "output_type": "stream",
     "text": [
      "Accuracy : 0.7325\n",
      "AUC Score (Train): 0.817410\n"
     ]
    }
   ],
   "source": [
    "#model_xgb.set_params(n_estimators=cvresult.shape[0])\n",
    "\n",
    "#Fit the algorithm on the data\n",
    "model_xgb.fit(X_train, y_train,eval_metric='auc')\n",
    "\n",
    "#Predict training set:\n",
    "y_pred = model_xgb.predict(X_train)\n",
    "y_pred_prob = model_xgb.predict_proba(X_train)[:,1]\n",
    "\n",
    "print(\"Accuracy : %.4g\" % metrics.accuracy_score(y_train.values, y_pred))\n",
    "print(\"AUC Score (Train): %f\" % metrics.roc_auc_score(y_train, y_pred_prob))"
   ]
  },
  {
   "cell_type": "code",
   "execution_count": 73,
   "metadata": {},
   "outputs": [
    {
     "data": {
      "text/plain": [
       "['shot_distance',\n",
       " 'seconds_remaining',\n",
       " 'game_minutes_remaing',\n",
       " 'playoffs',\n",
       " 'shot_zone_range_code',\n",
       " 'Bank Shot',\n",
       " 'Dunk',\n",
       " 'Hook Shot',\n",
       " 'Jump Shot',\n",
       " 'Layup',\n",
       " 'Tip Shot']"
      ]
     },
     "execution_count": 73,
     "metadata": {},
     "output_type": "execute_result"
    }
   ],
   "source": [
    "X_keep"
   ]
  },
  {
   "cell_type": "code",
   "execution_count": 77,
   "metadata": {},
   "outputs": [
    {
     "data": {
      "text/plain": [
       "Text(0,0.5,'Feature Importance Score')"
      ]
     },
     "execution_count": 77,
     "metadata": {},
     "output_type": "execute_result"
    },
    {
     "data": {
      "image/png": "[encoded data removed]",
      "text/plain": [
       "<Figure size 432x288 with 1 Axes>"
      ]
     },
     "metadata": {},
     "output_type": "display_data"
    }
   ],
   "source": [
    "#feat_imp = pd.Series(model_xgb.booster().get_fscore()).sort_values(ascending=False)\n",
    "feat_imp = pd.Series(model_xgb.feature_importances_).sort_values(ascending=False)\n",
    "feat_imp.plot(kind='bar', title='Feature Importances')\n",
    "plt.ylabel('Feature Importance Score')"
   ]
  },
  {
   "cell_type": "code",
   "execution_count": 80,
   "metadata": {},
   "outputs": [],
   "source": [
    "param_test1 = {\n",
    " 'max_depth': [2,4],\n",
    " 'learning_rate':[0.1, 0.07]\n",
    "}"
   ]
  },
  {
   "cell_type": "code",
   "execution_count": 81,
   "metadata": {},
   "outputs": [],
   "source": [
    "model_xgb = XGBClassifier(learning_rate =0.1, n_estimators=140, max_depth=5, min_child_weight=1, gamma=0, subsample=0.8, \n",
    "              colsample_bytree=0.8, objective= 'binary:logistic', scale_pos_weight=1, seed=27)"
   ]
  },
  {
   "cell_type": "code",
   "execution_count": 82,
   "metadata": {},
   "outputs": [],
   "source": [
    "gsearch1 = GridSearchCV(estimator = model_xgb, param_grid = param_test1, scoring='roc_auc',n_jobs=4,iid=False, cv=5)"
   ]
  },
  {
   "cell_type": "code",
   "execution_count": 83,
   "metadata": {},
   "outputs": [
    {
     "data": {
      "text/plain": [
       "([mean: 0.62556, std: 0.00348, params: {'learning_rate': 0.1, 'max_depth': 2},\n",
       "  mean: 0.62046, std: 0.00426, params: {'learning_rate': 0.1, 'max_depth': 4},\n",
       "  mean: 0.62581, std: 0.00285, params: {'learning_rate': 0.07, 'max_depth': 2},\n",
       "  mean: 0.62354, std: 0.00289, params: {'learning_rate': 0.07, 'max_depth': 4}],\n",
       " {'learning_rate': 0.07, 'max_depth': 2},\n",
       " 0.6258110536964023)"
      ]
     },
     "execution_count": 83,
     "metadata": {},
     "output_type": "execute_result"
    }
   ],
   "source": [
    "gsearch1.fit(X_train, y_train)\n",
    "gsearch1.grid_scores_, gsearch1.best_params_, gsearch1.best_score_"
   ]
  },
  {
   "cell_type": "markdown",
   "metadata": {},
   "source": [
    "https://www.analyticsvidhya.com/blog/2016/03/complete-guide-parameter-tuning-xgboost-with-codes-python/"
   ]
  },
  {
   "cell_type": "code",
   "execution_count": null,
   "metadata": {},
   "outputs": [],
   "source": []
  }
 ],
 "metadata": {
  "kernelspec": {
   "display_name": "Python 3",
   "language": "python",
   "name": "python3"
  },
  "language_info": {
   "codemirror_mode": {
    "name": "ipython",
    "version": 3
   },
   "file_extension": ".py",
   "mimetype": "text/x-python",
   "name": "python",
   "nbconvert_exporter": "python",
   "pygments_lexer": "ipython3",
   "version": "3.6.5"
  }
 },
 "nbformat": 4,
 "nbformat_minor": 2
}
