{
 "cells": [
  {
   "cell_type": "markdown",
   "metadata": {},
   "source": [
    "# Desafio:  California Housing Prices"
   ]
  },
  {
   "cell_type": "markdown",
   "metadata": {},
   "source": [
    "## Objetivos:\n",
    "\n",
    "O objetivo desse desafio é analisar os dados do case e estruturar uma Feature Engineering básica apenas com os dados existentes, sem transformar ou combinar features ou mesmo adicionar informações externas. \n",
    "\n",
    "Ao final do desafio, será treinado um modelo de regressão linear com as features obtidas. Esse modelo será testado contra uma massa de teste, separada previamente.\n"
   ]
  },
  {
   "cell_type": "markdown",
   "metadata": {},
   "source": [
    "## Sobre o Case\n",
    "\n",
    "### Case baseado no dataset do Kaggle: \"California Housing Prices\"\n",
    "\n",
    "Esse desafio é baseado em um dataset aberto do Kaggle ([https://www.kaggle.com](https://www.kaggle.com)) de 2018, de onde é possível estimar o preço de um imóvel pertencente a uma dada região na Califórnia. \n",
    "\n",
    "O dataset original foi extraído do repositório StatLib, que não está mais disponível. Os dados que o compôem foram retirados do Censo realizado na Califórnia em 1990 e modificado para servir como base de treinamento.\n",
    "\n",
    "\n",
    "Link para o dataset no Kaggle: [https://www.kaggle.com/harrywang/housing/data](https://www.kaggle.com/harrywang/housing/data)\n",
    "\n",
    "\n",
    "### Descrição dos Dados Originais:\n",
    "\n",
    "#### Tamanho do Dataset:\n",
    "\n",
    "* `20.640` data points\n",
    "\n",
    "#### Variável dependente:\n",
    "\n",
    "* `median_house_value`:  (float) variável dependente com o valor da mediana do preço de imóvel na região\n",
    "\n",
    "#### Features: \n",
    "\n",
    "* `longitude`/`latitude`: (floats) posição global da região\n",
    "* `housing_median_age`: (float) mediana da idade (em anos) das casas da região\n",
    "* `total_rooms`: (float) total de aposentos da região\n",
    "* `total_bedrooms`: (float) total de quartos da região\n",
    "* `population`: (float) população total da região\n",
    "* `households`: (float) quantidade total de imóveis da região\n",
    "* `median_income`: (float) mediana do salário (por hora) de uma pessoa na região\n",
    "* `ocean_proximity`: (string) categorias relativas à distância do oceano\n",
    "\n",
    "É interessante ressaltar que `207` valores foram retirados aleatoriamnete da feature `total_bedrooms` por motivos acadêmicos.\n",
    "\n",
    "\n",
    "### Modificação dos dados para o Desafio:\n",
    "\n",
    "Para tornar o desafio mais fácil de avaliar, a massa de dados original foi dividida em duas massas, uma para treino e outra para teste, ambas contendo `10.320` elementos.\n",
    "\n",
    "Também foram removidos aleatoriamente ainda mais valores da massa de dados e em mais features. Isso torna o processo de Feature Engineering mais instrutivo, pois aproxima-se da realidade do trabalho de um Data Scientist."
   ]
  },
  {
   "cell_type": "markdown",
   "metadata": {},
   "source": [
    "___"
   ]
  },
  {
   "cell_type": "markdown",
   "metadata": {},
   "source": [
    "# Imports"
   ]
  },
  {
   "cell_type": "code",
   "execution_count": 1,
   "metadata": {
    "collapsed": true
   },
   "outputs": [],
   "source": [
    "%matplotlib inline\n",
    "import matplotlib.pyplot as plt\n",
    "import seaborn as sns"
   ]
  },
  {
   "cell_type": "code",
   "execution_count": 2,
   "metadata": {
    "collapsed": true
   },
   "outputs": [],
   "source": [
    "import numpy as np\n",
    "import os\n",
    "import pandas as pd"
   ]
  },
  {
   "cell_type": "code",
   "execution_count": 3,
   "metadata": {
    "collapsed": true
   },
   "outputs": [],
   "source": [
    "from sklearn.base import BaseEstimator, TransformerMixin\n",
    "from sklearn.preprocessing import Imputer"
   ]
  },
  {
   "cell_type": "markdown",
   "metadata": {},
   "source": [
    "# Dataset:"
   ]
  },
  {
   "cell_type": "markdown",
   "metadata": {},
   "source": [
    "## Carregando os dados"
   ]
  },
  {
   "cell_type": "code",
   "execution_count": 4,
   "metadata": {
    "collapsed": true
   },
   "outputs": [],
   "source": [
    "dataset = pd.read_csv(\"data/california_housing_train.csv\", index_col=0)\n",
    "x_train = dataset.drop([\"median_house_value\"], axis=1)\n",
    "y_train = dataset[[\"median_house_value\"]]"
   ]
  },
  {
   "cell_type": "code",
   "execution_count": 5,
   "metadata": {},
   "outputs": [
    {
     "name": "stdout",
     "output_type": "stream",
     "text": [
      "shape: (10320, 9)\n"
     ]
    },
    {
     "data": {
      "text/html": [
       "<div>\n",
       "<style>\n",
       "    .dataframe thead tr:only-child th {\n",
       "        text-align: right;\n",
       "    }\n",
       "\n",
       "    .dataframe thead th {\n",
       "        text-align: left;\n",
       "    }\n",
       "\n",
       "    .dataframe tbody tr th {\n",
       "        vertical-align: top;\n",
       "    }\n",
       "</style>\n",
       "<table border=\"1\" class=\"dataframe\">\n",
       "  <thead>\n",
       "    <tr style=\"text-align: right;\">\n",
       "      <th></th>\n",
       "      <th>longitude</th>\n",
       "      <th>latitude</th>\n",
       "      <th>housing_median_age</th>\n",
       "      <th>total_rooms</th>\n",
       "      <th>total_bedrooms</th>\n",
       "      <th>population</th>\n",
       "      <th>households</th>\n",
       "      <th>median_income</th>\n",
       "      <th>ocean_proximity</th>\n",
       "    </tr>\n",
       "    <tr>\n",
       "      <th>region_id</th>\n",
       "      <th></th>\n",
       "      <th></th>\n",
       "      <th></th>\n",
       "      <th></th>\n",
       "      <th></th>\n",
       "      <th></th>\n",
       "      <th></th>\n",
       "      <th></th>\n",
       "      <th></th>\n",
       "    </tr>\n",
       "  </thead>\n",
       "  <tbody>\n",
       "    <tr>\n",
       "      <th>1</th>\n",
       "      <td>-122.22</td>\n",
       "      <td>37.86</td>\n",
       "      <td>21.0</td>\n",
       "      <td>7099.0</td>\n",
       "      <td>1106.0</td>\n",
       "      <td>2401.0</td>\n",
       "      <td>1138.0</td>\n",
       "      <td>8.3014</td>\n",
       "      <td>NEAR BAY</td>\n",
       "    </tr>\n",
       "    <tr>\n",
       "      <th>2</th>\n",
       "      <td>-122.24</td>\n",
       "      <td>37.85</td>\n",
       "      <td>52.0</td>\n",
       "      <td>1467.0</td>\n",
       "      <td>190.0</td>\n",
       "      <td>496.0</td>\n",
       "      <td>177.0</td>\n",
       "      <td>7.2574</td>\n",
       "      <td>NEAR BAY</td>\n",
       "    </tr>\n",
       "    <tr>\n",
       "      <th>4</th>\n",
       "      <td>-122.25</td>\n",
       "      <td>37.85</td>\n",
       "      <td>52.0</td>\n",
       "      <td>1627.0</td>\n",
       "      <td>280.0</td>\n",
       "      <td>565.0</td>\n",
       "      <td>259.0</td>\n",
       "      <td>3.8462</td>\n",
       "      <td>NEAR BAY</td>\n",
       "    </tr>\n",
       "    <tr>\n",
       "      <th>9</th>\n",
       "      <td>-122.25</td>\n",
       "      <td>37.84</td>\n",
       "      <td>52.0</td>\n",
       "      <td>3549.0</td>\n",
       "      <td>707.0</td>\n",
       "      <td>1551.0</td>\n",
       "      <td>714.0</td>\n",
       "      <td>3.6912</td>\n",
       "      <td>NEAR BAY</td>\n",
       "    </tr>\n",
       "    <tr>\n",
       "      <th>10</th>\n",
       "      <td>-122.26</td>\n",
       "      <td>37.85</td>\n",
       "      <td>52.0</td>\n",
       "      <td>2202.0</td>\n",
       "      <td>434.0</td>\n",
       "      <td>910.0</td>\n",
       "      <td>402.0</td>\n",
       "      <td>3.2031</td>\n",
       "      <td>NEAR BAY</td>\n",
       "    </tr>\n",
       "  </tbody>\n",
       "</table>\n",
       "</div>"
      ],
      "text/plain": [
       "           longitude  latitude  housing_median_age  total_rooms  \\\n",
       "region_id                                                         \n",
       "1            -122.22     37.86                21.0       7099.0   \n",
       "2            -122.24     37.85                52.0       1467.0   \n",
       "4            -122.25     37.85                52.0       1627.0   \n",
       "9            -122.25     37.84                52.0       3549.0   \n",
       "10           -122.26     37.85                52.0       2202.0   \n",
       "\n",
       "           total_bedrooms  population  households  median_income  \\\n",
       "region_id                                                          \n",
       "1                  1106.0      2401.0      1138.0         8.3014   \n",
       "2                   190.0       496.0       177.0         7.2574   \n",
       "4                   280.0       565.0       259.0         3.8462   \n",
       "9                   707.0      1551.0       714.0         3.6912   \n",
       "10                  434.0       910.0       402.0         3.2031   \n",
       "\n",
       "          ocean_proximity  \n",
       "region_id                  \n",
       "1                NEAR BAY  \n",
       "2                NEAR BAY  \n",
       "4                NEAR BAY  \n",
       "9                NEAR BAY  \n",
       "10               NEAR BAY  "
      ]
     },
     "execution_count": 5,
     "metadata": {},
     "output_type": "execute_result"
    }
   ],
   "source": [
    "print(f\"shape: {x_train.shape}\")\n",
    "x_train.head()"
   ]
  },
  {
   "cell_type": "code",
   "execution_count": 6,
   "metadata": {},
   "outputs": [
    {
     "name": "stdout",
     "output_type": "stream",
     "text": [
      "shape: (10320, 1)\n"
     ]
    },
    {
     "data": {
      "text/html": [
       "<div>\n",
       "<style>\n",
       "    .dataframe thead tr:only-child th {\n",
       "        text-align: right;\n",
       "    }\n",
       "\n",
       "    .dataframe thead th {\n",
       "        text-align: left;\n",
       "    }\n",
       "\n",
       "    .dataframe tbody tr th {\n",
       "        vertical-align: top;\n",
       "    }\n",
       "</style>\n",
       "<table border=\"1\" class=\"dataframe\">\n",
       "  <thead>\n",
       "    <tr style=\"text-align: right;\">\n",
       "      <th></th>\n",
       "      <th>median_house_value</th>\n",
       "    </tr>\n",
       "    <tr>\n",
       "      <th>region_id</th>\n",
       "      <th></th>\n",
       "    </tr>\n",
       "  </thead>\n",
       "  <tbody>\n",
       "    <tr>\n",
       "      <th>1</th>\n",
       "      <td>358500.0</td>\n",
       "    </tr>\n",
       "    <tr>\n",
       "      <th>2</th>\n",
       "      <td>352100.0</td>\n",
       "    </tr>\n",
       "    <tr>\n",
       "      <th>4</th>\n",
       "      <td>342200.0</td>\n",
       "    </tr>\n",
       "    <tr>\n",
       "      <th>9</th>\n",
       "      <td>261100.0</td>\n",
       "    </tr>\n",
       "    <tr>\n",
       "      <th>10</th>\n",
       "      <td>281500.0</td>\n",
       "    </tr>\n",
       "  </tbody>\n",
       "</table>\n",
       "</div>"
      ],
      "text/plain": [
       "           median_house_value\n",
       "region_id                    \n",
       "1                    358500.0\n",
       "2                    352100.0\n",
       "4                    342200.0\n",
       "9                    261100.0\n",
       "10                   281500.0"
      ]
     },
     "execution_count": 6,
     "metadata": {},
     "output_type": "execute_result"
    }
   ],
   "source": [
    "print(f\"shape: {y_train.shape}\")\n",
    "y_train.head()"
   ]
  },
  {
   "cell_type": "code",
   "execution_count": 7,
   "metadata": {
    "collapsed": true
   },
   "outputs": [],
   "source": [
    "dataset = pd.read_csv(\"data/california_housing_test.csv\", index_col=0)\n",
    "x_test = dataset.drop([\"median_house_value\"], axis=1)\n",
    "y_test = dataset[[\"median_house_value\"]]"
   ]
  },
  {
   "cell_type": "code",
   "execution_count": 8,
   "metadata": {},
   "outputs": [
    {
     "name": "stdout",
     "output_type": "stream",
     "text": [
      "shape: (10320, 9)\n"
     ]
    },
    {
     "data": {
      "text/html": [
       "<div>\n",
       "<style>\n",
       "    .dataframe thead tr:only-child th {\n",
       "        text-align: right;\n",
       "    }\n",
       "\n",
       "    .dataframe thead th {\n",
       "        text-align: left;\n",
       "    }\n",
       "\n",
       "    .dataframe tbody tr th {\n",
       "        vertical-align: top;\n",
       "    }\n",
       "</style>\n",
       "<table border=\"1\" class=\"dataframe\">\n",
       "  <thead>\n",
       "    <tr style=\"text-align: right;\">\n",
       "      <th></th>\n",
       "      <th>longitude</th>\n",
       "      <th>latitude</th>\n",
       "      <th>housing_median_age</th>\n",
       "      <th>total_rooms</th>\n",
       "      <th>total_bedrooms</th>\n",
       "      <th>population</th>\n",
       "      <th>households</th>\n",
       "      <th>median_income</th>\n",
       "      <th>ocean_proximity</th>\n",
       "    </tr>\n",
       "    <tr>\n",
       "      <th>region_id</th>\n",
       "      <th></th>\n",
       "      <th></th>\n",
       "      <th></th>\n",
       "      <th></th>\n",
       "      <th></th>\n",
       "      <th></th>\n",
       "      <th></th>\n",
       "      <th></th>\n",
       "      <th></th>\n",
       "    </tr>\n",
       "  </thead>\n",
       "  <tbody>\n",
       "    <tr>\n",
       "      <th>0</th>\n",
       "      <td>-122.23</td>\n",
       "      <td>37.88</td>\n",
       "      <td>41.0</td>\n",
       "      <td>880.0</td>\n",
       "      <td>129.0</td>\n",
       "      <td>322.0</td>\n",
       "      <td>126.0</td>\n",
       "      <td>8.3252</td>\n",
       "      <td>NEAR BAY</td>\n",
       "    </tr>\n",
       "    <tr>\n",
       "      <th>3</th>\n",
       "      <td>-122.25</td>\n",
       "      <td>37.85</td>\n",
       "      <td>52.0</td>\n",
       "      <td>1274.0</td>\n",
       "      <td>235.0</td>\n",
       "      <td>558.0</td>\n",
       "      <td>219.0</td>\n",
       "      <td>5.6431</td>\n",
       "      <td>NEAR BAY</td>\n",
       "    </tr>\n",
       "    <tr>\n",
       "      <th>5</th>\n",
       "      <td>-122.25</td>\n",
       "      <td>37.85</td>\n",
       "      <td>52.0</td>\n",
       "      <td>919.0</td>\n",
       "      <td>213.0</td>\n",
       "      <td>413.0</td>\n",
       "      <td>193.0</td>\n",
       "      <td>NaN</td>\n",
       "      <td>NEAR BAY</td>\n",
       "    </tr>\n",
       "    <tr>\n",
       "      <th>6</th>\n",
       "      <td>-122.25</td>\n",
       "      <td>37.84</td>\n",
       "      <td>52.0</td>\n",
       "      <td>2535.0</td>\n",
       "      <td>489.0</td>\n",
       "      <td>1094.0</td>\n",
       "      <td>514.0</td>\n",
       "      <td>3.6591</td>\n",
       "      <td>NEAR BAY</td>\n",
       "    </tr>\n",
       "    <tr>\n",
       "      <th>7</th>\n",
       "      <td>-122.25</td>\n",
       "      <td>37.84</td>\n",
       "      <td>52.0</td>\n",
       "      <td>3104.0</td>\n",
       "      <td>687.0</td>\n",
       "      <td>1157.0</td>\n",
       "      <td>647.0</td>\n",
       "      <td>3.1200</td>\n",
       "      <td>NEAR BAY</td>\n",
       "    </tr>\n",
       "  </tbody>\n",
       "</table>\n",
       "</div>"
      ],
      "text/plain": [
       "           longitude  latitude  housing_median_age  total_rooms  \\\n",
       "region_id                                                         \n",
       "0            -122.23     37.88                41.0        880.0   \n",
       "3            -122.25     37.85                52.0       1274.0   \n",
       "5            -122.25     37.85                52.0        919.0   \n",
       "6            -122.25     37.84                52.0       2535.0   \n",
       "7            -122.25     37.84                52.0       3104.0   \n",
       "\n",
       "           total_bedrooms  population  households  median_income  \\\n",
       "region_id                                                          \n",
       "0                   129.0       322.0       126.0         8.3252   \n",
       "3                   235.0       558.0       219.0         5.6431   \n",
       "5                   213.0       413.0       193.0            NaN   \n",
       "6                   489.0      1094.0       514.0         3.6591   \n",
       "7                   687.0      1157.0       647.0         3.1200   \n",
       "\n",
       "          ocean_proximity  \n",
       "region_id                  \n",
       "0                NEAR BAY  \n",
       "3                NEAR BAY  \n",
       "5                NEAR BAY  \n",
       "6                NEAR BAY  \n",
       "7                NEAR BAY  "
      ]
     },
     "execution_count": 8,
     "metadata": {},
     "output_type": "execute_result"
    }
   ],
   "source": [
    "print(f\"shape: {x_test.shape}\")\n",
    "x_test.head()"
   ]
  },
  {
   "cell_type": "code",
   "execution_count": 9,
   "metadata": {},
   "outputs": [
    {
     "name": "stdout",
     "output_type": "stream",
     "text": [
      "shape: (10320, 1)\n"
     ]
    },
    {
     "data": {
      "text/html": [
       "<div>\n",
       "<style>\n",
       "    .dataframe thead tr:only-child th {\n",
       "        text-align: right;\n",
       "    }\n",
       "\n",
       "    .dataframe thead th {\n",
       "        text-align: left;\n",
       "    }\n",
       "\n",
       "    .dataframe tbody tr th {\n",
       "        vertical-align: top;\n",
       "    }\n",
       "</style>\n",
       "<table border=\"1\" class=\"dataframe\">\n",
       "  <thead>\n",
       "    <tr style=\"text-align: right;\">\n",
       "      <th></th>\n",
       "      <th>median_house_value</th>\n",
       "    </tr>\n",
       "    <tr>\n",
       "      <th>region_id</th>\n",
       "      <th></th>\n",
       "    </tr>\n",
       "  </thead>\n",
       "  <tbody>\n",
       "    <tr>\n",
       "      <th>0</th>\n",
       "      <td>452600.0</td>\n",
       "    </tr>\n",
       "    <tr>\n",
       "      <th>3</th>\n",
       "      <td>341300.0</td>\n",
       "    </tr>\n",
       "    <tr>\n",
       "      <th>5</th>\n",
       "      <td>269700.0</td>\n",
       "    </tr>\n",
       "    <tr>\n",
       "      <th>6</th>\n",
       "      <td>299200.0</td>\n",
       "    </tr>\n",
       "    <tr>\n",
       "      <th>7</th>\n",
       "      <td>241400.0</td>\n",
       "    </tr>\n",
       "  </tbody>\n",
       "</table>\n",
       "</div>"
      ],
      "text/plain": [
       "           median_house_value\n",
       "region_id                    \n",
       "0                    452600.0\n",
       "3                    341300.0\n",
       "5                    269700.0\n",
       "6                    299200.0\n",
       "7                    241400.0"
      ]
     },
     "execution_count": 9,
     "metadata": {},
     "output_type": "execute_result"
    }
   ],
   "source": [
    "print(f\"shape: {y_test.shape}\")\n",
    "y_test.head()"
   ]
  },
  {
   "cell_type": "markdown",
   "metadata": {},
   "source": [
    "# Problemas"
   ]
  },
  {
   "cell_type": "markdown",
   "metadata": {},
   "source": [
    "## A) Features Numéricas\n",
    "\n",
    "Features numéricas são as primeiras a serem tratadas, por serem as mais fáceis de compreender e de relacionar com o problema. As seções a seguir focam no tratamento e limpeza dessas features, o primeiro passo na engenharia de features.\n"
   ]
  },
  {
   "cell_type": "markdown",
   "metadata": {},
   "source": [
    "### Distribuição das Features"
   ]
  },
  {
   "cell_type": "code",
   "execution_count": 78,
   "metadata": {
    "collapsed": true
   },
   "outputs": [],
   "source": [
    "\"\"\" Complete os espaços com ? \"\"\"\n",
    "numerical_cols = [?, ?, ..., ?]"
   ]
  },
  {
   "cell_type": "code",
   "execution_count": 79,
   "metadata": {},
   "outputs": [
    {
     "data": {
      "text/html": [
       "<div>\n",
       "<style>\n",
       "    .dataframe thead tr:only-child th {\n",
       "        text-align: right;\n",
       "    }\n",
       "\n",
       "    .dataframe thead th {\n",
       "        text-align: left;\n",
       "    }\n",
       "\n",
       "    .dataframe tbody tr th {\n",
       "        vertical-align: top;\n",
       "    }\n",
       "</style>\n",
       "<table border=\"1\" class=\"dataframe\">\n",
       "  <thead>\n",
       "    <tr style=\"text-align: right;\">\n",
       "      <th></th>\n",
       "      <th>longitude</th>\n",
       "      <th>latitude</th>\n",
       "      <th>housing_median_age</th>\n",
       "      <th>total_rooms</th>\n",
       "      <th>total_bedrooms</th>\n",
       "      <th>population</th>\n",
       "      <th>households</th>\n",
       "      <th>median_income</th>\n",
       "    </tr>\n",
       "  </thead>\n",
       "  <tbody>\n",
       "    <tr>\n",
       "      <th>count</th>\n",
       "      <td>10320.000000</td>\n",
       "      <td>10320.000000</td>\n",
       "      <td>10008.000000</td>\n",
       "      <td>10320.000000</td>\n",
       "      <td>10320.000000</td>\n",
       "      <td>9895.000000</td>\n",
       "      <td>10320.000000</td>\n",
       "      <td>10068.000000</td>\n",
       "    </tr>\n",
       "    <tr>\n",
       "      <th>mean</th>\n",
       "      <td>-119.589222</td>\n",
       "      <td>35.656511</td>\n",
       "      <td>28.549261</td>\n",
       "      <td>2640.735078</td>\n",
       "      <td>539.720252</td>\n",
       "      <td>1430.154725</td>\n",
       "      <td>501.228295</td>\n",
       "      <td>3.866899</td>\n",
       "    </tr>\n",
       "    <tr>\n",
       "      <th>std</th>\n",
       "      <td>2.011871</td>\n",
       "      <td>2.137569</td>\n",
       "      <td>12.579865</td>\n",
       "      <td>2144.675733</td>\n",
       "      <td>416.489332</td>\n",
       "      <td>1136.674762</td>\n",
       "      <td>380.010055</td>\n",
       "      <td>1.908804</td>\n",
       "    </tr>\n",
       "    <tr>\n",
       "      <th>min</th>\n",
       "      <td>-124.300000</td>\n",
       "      <td>32.550000</td>\n",
       "      <td>1.000000</td>\n",
       "      <td>2.000000</td>\n",
       "      <td>1.000000</td>\n",
       "      <td>3.000000</td>\n",
       "      <td>1.000000</td>\n",
       "      <td>0.499900</td>\n",
       "    </tr>\n",
       "    <tr>\n",
       "      <th>1%</th>\n",
       "      <td>-123.230000</td>\n",
       "      <td>32.681900</td>\n",
       "      <td>4.000000</td>\n",
       "      <td>155.330000</td>\n",
       "      <td>36.000000</td>\n",
       "      <td>85.000000</td>\n",
       "      <td>31.190000</td>\n",
       "      <td>1.057939</td>\n",
       "    </tr>\n",
       "    <tr>\n",
       "      <th>5%</th>\n",
       "      <td>-122.470000</td>\n",
       "      <td>32.840000</td>\n",
       "      <td>8.000000</td>\n",
       "      <td>629.000000</td>\n",
       "      <td>138.000000</td>\n",
       "      <td>342.100000</td>\n",
       "      <td>124.000000</td>\n",
       "      <td>1.585140</td>\n",
       "    </tr>\n",
       "    <tr>\n",
       "      <th>10%</th>\n",
       "      <td>-122.290000</td>\n",
       "      <td>33.640000</td>\n",
       "      <td>13.000000</td>\n",
       "      <td>946.000000</td>\n",
       "      <td>198.000000</td>\n",
       "      <td>509.000000</td>\n",
       "      <td>183.000000</td>\n",
       "      <td>1.896430</td>\n",
       "    </tr>\n",
       "    <tr>\n",
       "      <th>25%</th>\n",
       "      <td>-121.810000</td>\n",
       "      <td>33.940000</td>\n",
       "      <td>18.000000</td>\n",
       "      <td>1453.000000</td>\n",
       "      <td>295.000000</td>\n",
       "      <td>792.000000</td>\n",
       "      <td>280.000000</td>\n",
       "      <td>2.559100</td>\n",
       "    </tr>\n",
       "    <tr>\n",
       "      <th>50%</th>\n",
       "      <td>-118.520000</td>\n",
       "      <td>34.270000</td>\n",
       "      <td>29.000000</td>\n",
       "      <td>2144.000000</td>\n",
       "      <td>438.500000</td>\n",
       "      <td>1171.000000</td>\n",
       "      <td>413.000000</td>\n",
       "      <td>3.519200</td>\n",
       "    </tr>\n",
       "    <tr>\n",
       "      <th>75%</th>\n",
       "      <td>-118.020000</td>\n",
       "      <td>37.720000</td>\n",
       "      <td>37.000000</td>\n",
       "      <td>3153.250000</td>\n",
       "      <td>650.000000</td>\n",
       "      <td>1738.000000</td>\n",
       "      <td>607.000000</td>\n",
       "      <td>4.770800</td>\n",
       "    </tr>\n",
       "    <tr>\n",
       "      <th>90%</th>\n",
       "      <td>-117.250000</td>\n",
       "      <td>38.490000</td>\n",
       "      <td>46.000000</td>\n",
       "      <td>4679.400000</td>\n",
       "      <td>972.000000</td>\n",
       "      <td>2555.200000</td>\n",
       "      <td>896.000000</td>\n",
       "      <td>6.155030</td>\n",
       "    </tr>\n",
       "    <tr>\n",
       "      <th>95%</th>\n",
       "      <td>-117.080000</td>\n",
       "      <td>38.980000</td>\n",
       "      <td>52.000000</td>\n",
       "      <td>6251.300000</td>\n",
       "      <td>1281.000000</td>\n",
       "      <td>3290.500000</td>\n",
       "      <td>1164.050000</td>\n",
       "      <td>7.292060</td>\n",
       "    </tr>\n",
       "    <tr>\n",
       "      <th>99%</th>\n",
       "      <td>-116.220000</td>\n",
       "      <td>40.678100</td>\n",
       "      <td>52.000000</td>\n",
       "      <td>10867.670000</td>\n",
       "      <td>2191.480000</td>\n",
       "      <td>5804.000000</td>\n",
       "      <td>1964.340000</td>\n",
       "      <td>10.588673</td>\n",
       "    </tr>\n",
       "    <tr>\n",
       "      <th>max</th>\n",
       "      <td>-114.310000</td>\n",
       "      <td>41.950000</td>\n",
       "      <td>52.000000</td>\n",
       "      <td>30450.000000</td>\n",
       "      <td>5033.000000</td>\n",
       "      <td>35682.000000</td>\n",
       "      <td>4855.000000</td>\n",
       "      <td>15.000100</td>\n",
       "    </tr>\n",
       "  </tbody>\n",
       "</table>\n",
       "</div>"
      ],
      "text/plain": [
       "          longitude      latitude  housing_median_age   total_rooms  \\\n",
       "count  10320.000000  10320.000000        10008.000000  10320.000000   \n",
       "mean    -119.589222     35.656511           28.549261   2640.735078   \n",
       "std        2.011871      2.137569           12.579865   2144.675733   \n",
       "min     -124.300000     32.550000            1.000000      2.000000   \n",
       "1%      -123.230000     32.681900            4.000000    155.330000   \n",
       "5%      -122.470000     32.840000            8.000000    629.000000   \n",
       "10%     -122.290000     33.640000           13.000000    946.000000   \n",
       "25%     -121.810000     33.940000           18.000000   1453.000000   \n",
       "50%     -118.520000     34.270000           29.000000   2144.000000   \n",
       "75%     -118.020000     37.720000           37.000000   3153.250000   \n",
       "90%     -117.250000     38.490000           46.000000   4679.400000   \n",
       "95%     -117.080000     38.980000           52.000000   6251.300000   \n",
       "99%     -116.220000     40.678100           52.000000  10867.670000   \n",
       "max     -114.310000     41.950000           52.000000  30450.000000   \n",
       "\n",
       "       total_bedrooms    population    households  median_income  \n",
       "count    10320.000000   9895.000000  10320.000000   10068.000000  \n",
       "mean       539.720252   1430.154725    501.228295       3.866899  \n",
       "std        416.489332   1136.674762    380.010055       1.908804  \n",
       "min          1.000000      3.000000      1.000000       0.499900  \n",
       "1%          36.000000     85.000000     31.190000       1.057939  \n",
       "5%         138.000000    342.100000    124.000000       1.585140  \n",
       "10%        198.000000    509.000000    183.000000       1.896430  \n",
       "25%        295.000000    792.000000    280.000000       2.559100  \n",
       "50%        438.500000   1171.000000    413.000000       3.519200  \n",
       "75%        650.000000   1738.000000    607.000000       4.770800  \n",
       "90%        972.000000   2555.200000    896.000000       6.155030  \n",
       "95%       1281.000000   3290.500000   1164.050000       7.292060  \n",
       "99%       2191.480000   5804.000000   1964.340000      10.588673  \n",
       "max       5033.000000  35682.000000   4855.000000      15.000100  "
      ]
     },
     "execution_count": 79,
     "metadata": {},
     "output_type": "execute_result"
    }
   ],
   "source": [
    "# descrevendo as distribuições\n",
    "cuts = [0.01, 0.05, 0.1, 0.25, 0.5, 0.75, 0.9, 0.95, 0.99]\n",
    "x_train[numerical_cols].describe(percentiles=cuts)"
   ]
  },
  {
   "cell_type": "markdown",
   "metadata": {},
   "source": [
    "Para tomada de decisão, é sempre mais informativo usar visualizações. Com elas é possível observar o formato da distribuição (normal, exponencial, logarítmica, etc) e os outliers."
   ]
  },
  {
   "cell_type": "markdown",
   "metadata": {},
   "source": [
    "Verificando as distribuições com histogramas:"
   ]
  },
  {
   "cell_type": "code",
   "execution_count": 80,
   "metadata": {},
   "outputs": [
    {
     "data": {
      "text/plain": [
       "array([[<matplotlib.axes._subplots.AxesSubplot object at 0x0000017E0FA39F28>,\n",
       "        <matplotlib.axes._subplots.AxesSubplot object at 0x0000017E0FA9B7F0>,\n",
       "        <matplotlib.axes._subplots.AxesSubplot object at 0x0000017E0FAF8048>],\n",
       "       [<matplotlib.axes._subplots.AxesSubplot object at 0x0000017E101C8CC0>,\n",
       "        <matplotlib.axes._subplots.AxesSubplot object at 0x0000017E10220CF8>,\n",
       "        <matplotlib.axes._subplots.AxesSubplot object at 0x0000017E10220D30>],\n",
       "       [<matplotlib.axes._subplots.AxesSubplot object at 0x0000017E10303438>,\n",
       "        <matplotlib.axes._subplots.AxesSubplot object at 0x0000017E1033F710>,\n",
       "        <matplotlib.axes._subplots.AxesSubplot object at 0x0000017E103C7D68>]], dtype=object)"
      ]
     },
     "execution_count": 80,
     "metadata": {},
     "output_type": "execute_result"
    },
    {
     "data": {
      "image/png": "[encoded data removed]",
      "text/plain": [
       "<matplotlib.figure.Figure at 0x17e0f67e978>"
      ]
     },
     "metadata": {},
     "output_type": "display_data"
    }
   ],
   "source": [
    "x_train[numerical_cols].hist(bins=50, figsize=(15,10))"
   ]
  },
  {
   "cell_type": "markdown",
   "metadata": {},
   "source": [
    "###  Detecção e Tratamento de Nulos\n",
    "\n",
    "Conhecendo a distribuição das features, já é possível traçar estratégias de tratamento de valores nulos. A primeira tarefa é detectar a proporção de nulos nos dados."
   ]
  },
  {
   "cell_type": "markdown",
   "metadata": {},
   "source": [
    "\n",
    "* Verificar quantidade de Nulos em cada feature\n",
    "* Entender que Nulos podem aparecer também nos dados de teste, portanto apenas descartar o dado não resolve\n",
    "* Entender que medida (média ou mediana) deve ser imputada em cada feature"
   ]
  },
  {
   "cell_type": "code",
   "execution_count": 81,
   "metadata": {},
   "outputs": [
    {
     "data": {
      "text/html": [
       "<div>\n",
       "<style>\n",
       "    .dataframe thead tr:only-child th {\n",
       "        text-align: right;\n",
       "    }\n",
       "\n",
       "    .dataframe thead th {\n",
       "        text-align: left;\n",
       "    }\n",
       "\n",
       "    .dataframe tbody tr th {\n",
       "        vertical-align: top;\n",
       "    }\n",
       "</style>\n",
       "<table border=\"1\" class=\"dataframe\">\n",
       "  <thead>\n",
       "    <tr style=\"text-align: right;\">\n",
       "      <th></th>\n",
       "      <th>count</th>\n",
       "      <th>mean</th>\n",
       "    </tr>\n",
       "  </thead>\n",
       "  <tbody>\n",
       "    <tr>\n",
       "      <th>longitude</th>\n",
       "      <td>0</td>\n",
       "      <td>0.000000</td>\n",
       "    </tr>\n",
       "    <tr>\n",
       "      <th>latitude</th>\n",
       "      <td>0</td>\n",
       "      <td>0.000000</td>\n",
       "    </tr>\n",
       "    <tr>\n",
       "      <th>housing_median_age</th>\n",
       "      <td>312</td>\n",
       "      <td>0.030233</td>\n",
       "    </tr>\n",
       "    <tr>\n",
       "      <th>total_rooms</th>\n",
       "      <td>0</td>\n",
       "      <td>0.000000</td>\n",
       "    </tr>\n",
       "    <tr>\n",
       "      <th>total_bedrooms</th>\n",
       "      <td>0</td>\n",
       "      <td>0.000000</td>\n",
       "    </tr>\n",
       "    <tr>\n",
       "      <th>population</th>\n",
       "      <td>425</td>\n",
       "      <td>0.041182</td>\n",
       "    </tr>\n",
       "    <tr>\n",
       "      <th>households</th>\n",
       "      <td>0</td>\n",
       "      <td>0.000000</td>\n",
       "    </tr>\n",
       "    <tr>\n",
       "      <th>median_income</th>\n",
       "      <td>252</td>\n",
       "      <td>0.024419</td>\n",
       "    </tr>\n",
       "  </tbody>\n",
       "</table>\n",
       "</div>"
      ],
      "text/plain": [
       "                    count      mean\n",
       "longitude               0  0.000000\n",
       "latitude                0  0.000000\n",
       "housing_median_age    312  0.030233\n",
       "total_rooms             0  0.000000\n",
       "total_bedrooms          0  0.000000\n",
       "population            425  0.041182\n",
       "households              0  0.000000\n",
       "median_income         252  0.024419"
      ]
     },
     "execution_count": 81,
     "metadata": {},
     "output_type": "execute_result"
    }
   ],
   "source": [
    "x_null = x_train[numerical_cols].isnull()\n",
    "null_data = pd.DataFrame({\n",
    "    \"count\": x_null.sum(),\n",
    "    \"mean\": x_null.mean()\n",
    "})\n",
    "null_data"
   ]
  },
  {
   "cell_type": "markdown",
   "metadata": {},
   "source": [
    "Normalmente a ocorrência de valores nulos ocorre por algum ruído no processo de obtenção de dados, o que significa que muito provavelmente eles ocorrerão também em dados de produção.\n",
    "\n",
    "Existem algumas técnicas de tratamento de valores nulos:\n",
    "\n",
    "- Atribuir um valor pafrão fora da distribuição;\n",
    "- Criar modelos para inferir os valores a partir das outras features;\n",
    "- Imputar um valor referente à distribuição:\n",
    "    - média\n",
    "    - mediana\n",
    "    \n",
    "Para features numéricas em que conhecemos a distribuição mas não foram tratados os outliers, o mais recomendado é utilizar a **mediana**, cujo valor é pouco afetado por outliers."
   ]
  },
  {
   "cell_type": "code",
   "execution_count": 82,
   "metadata": {
    "collapsed": true
   },
   "outputs": [],
   "source": [
    "class NumericalFeaturesImputer(BaseEstimator, TransformerMixin):\n",
    "    \"\"\" Classe de Feature Transformer baseada em um Imputer de Mediana.\n",
    "        Esse imputer mantém a entrada X como um DataFrame em vez de transformar em numpy.array.\n",
    "    \"\"\"\n",
    "    \n",
    "    def __init__(self, columns):\n",
    "        self.imputer = Imputer(strategy=\"median\")\n",
    "        self.columns = columns\n",
    "        \n",
    "    def fit(self, X):\n",
    "        self.imputer.fit(X.loc[:, self.columns])\n",
    "        return self\n",
    "    \n",
    "    def transform(self, X):\n",
    "        X_t = X.copy()\n",
    "        X_t.loc[:, self.columns] = self.imputer.transform(X_t.loc[:, self.columns])\n",
    "        return X_t\n",
    "    "
   ]
  },
  {
   "cell_type": "code",
   "execution_count": 83,
   "metadata": {},
   "outputs": [
    {
     "data": {
      "text/html": [
       "<div>\n",
       "<style>\n",
       "    .dataframe thead tr:only-child th {\n",
       "        text-align: right;\n",
       "    }\n",
       "\n",
       "    .dataframe thead th {\n",
       "        text-align: left;\n",
       "    }\n",
       "\n",
       "    .dataframe tbody tr th {\n",
       "        vertical-align: top;\n",
       "    }\n",
       "</style>\n",
       "<table border=\"1\" class=\"dataframe\">\n",
       "  <thead>\n",
       "    <tr style=\"text-align: right;\">\n",
       "      <th></th>\n",
       "      <th>longitude</th>\n",
       "      <th>latitude</th>\n",
       "      <th>housing_median_age</th>\n",
       "      <th>total_rooms</th>\n",
       "      <th>total_bedrooms</th>\n",
       "      <th>population</th>\n",
       "      <th>households</th>\n",
       "      <th>median_income</th>\n",
       "      <th>ocean_proximity</th>\n",
       "    </tr>\n",
       "    <tr>\n",
       "      <th>region_id</th>\n",
       "      <th></th>\n",
       "      <th></th>\n",
       "      <th></th>\n",
       "      <th></th>\n",
       "      <th></th>\n",
       "      <th></th>\n",
       "      <th></th>\n",
       "      <th></th>\n",
       "      <th></th>\n",
       "    </tr>\n",
       "  </thead>\n",
       "  <tbody>\n",
       "    <tr>\n",
       "      <th>1</th>\n",
       "      <td>-122.22</td>\n",
       "      <td>37.86</td>\n",
       "      <td>21.0</td>\n",
       "      <td>7099.0</td>\n",
       "      <td>1106.0</td>\n",
       "      <td>2401.0</td>\n",
       "      <td>1138.0</td>\n",
       "      <td>8.3014</td>\n",
       "      <td>NEAR BAY</td>\n",
       "    </tr>\n",
       "    <tr>\n",
       "      <th>2</th>\n",
       "      <td>-122.24</td>\n",
       "      <td>37.85</td>\n",
       "      <td>52.0</td>\n",
       "      <td>1467.0</td>\n",
       "      <td>190.0</td>\n",
       "      <td>496.0</td>\n",
       "      <td>177.0</td>\n",
       "      <td>7.2574</td>\n",
       "      <td>NEAR BAY</td>\n",
       "    </tr>\n",
       "    <tr>\n",
       "      <th>4</th>\n",
       "      <td>-122.25</td>\n",
       "      <td>37.85</td>\n",
       "      <td>52.0</td>\n",
       "      <td>1627.0</td>\n",
       "      <td>280.0</td>\n",
       "      <td>565.0</td>\n",
       "      <td>259.0</td>\n",
       "      <td>3.8462</td>\n",
       "      <td>NEAR BAY</td>\n",
       "    </tr>\n",
       "    <tr>\n",
       "      <th>9</th>\n",
       "      <td>-122.25</td>\n",
       "      <td>37.84</td>\n",
       "      <td>52.0</td>\n",
       "      <td>3549.0</td>\n",
       "      <td>707.0</td>\n",
       "      <td>1551.0</td>\n",
       "      <td>714.0</td>\n",
       "      <td>3.6912</td>\n",
       "      <td>NEAR BAY</td>\n",
       "    </tr>\n",
       "    <tr>\n",
       "      <th>10</th>\n",
       "      <td>-122.26</td>\n",
       "      <td>37.85</td>\n",
       "      <td>52.0</td>\n",
       "      <td>2202.0</td>\n",
       "      <td>434.0</td>\n",
       "      <td>910.0</td>\n",
       "      <td>402.0</td>\n",
       "      <td>3.2031</td>\n",
       "      <td>NEAR BAY</td>\n",
       "    </tr>\n",
       "  </tbody>\n",
       "</table>\n",
       "</div>"
      ],
      "text/plain": [
       "           longitude  latitude  housing_median_age  total_rooms  \\\n",
       "region_id                                                         \n",
       "1            -122.22     37.86                21.0       7099.0   \n",
       "2            -122.24     37.85                52.0       1467.0   \n",
       "4            -122.25     37.85                52.0       1627.0   \n",
       "9            -122.25     37.84                52.0       3549.0   \n",
       "10           -122.26     37.85                52.0       2202.0   \n",
       "\n",
       "           total_bedrooms  population  households  median_income  \\\n",
       "region_id                                                          \n",
       "1                  1106.0      2401.0      1138.0         8.3014   \n",
       "2                   190.0       496.0       177.0         7.2574   \n",
       "4                   280.0       565.0       259.0         3.8462   \n",
       "9                   707.0      1551.0       714.0         3.6912   \n",
       "10                  434.0       910.0       402.0         3.2031   \n",
       "\n",
       "          ocean_proximity  \n",
       "region_id                  \n",
       "1                NEAR BAY  \n",
       "2                NEAR BAY  \n",
       "4                NEAR BAY  \n",
       "9                NEAR BAY  \n",
       "10               NEAR BAY  "
      ]
     },
     "execution_count": 83,
     "metadata": {},
     "output_type": "execute_result"
    }
   ],
   "source": [
    "# sanity check 1: tranformation keeps columns \n",
    "numerical_imputer = NumericalFeaturesImputer(numerical_cols)\n",
    "x_train = numerical_imputer.fit_transform(x_train)\n",
    "x_train.head()"
   ]
  },
  {
   "cell_type": "code",
   "execution_count": 84,
   "metadata": {},
   "outputs": [
    {
     "data": {
      "text/html": [
       "<div>\n",
       "<style>\n",
       "    .dataframe thead tr:only-child th {\n",
       "        text-align: right;\n",
       "    }\n",
       "\n",
       "    .dataframe thead th {\n",
       "        text-align: left;\n",
       "    }\n",
       "\n",
       "    .dataframe tbody tr th {\n",
       "        vertical-align: top;\n",
       "    }\n",
       "</style>\n",
       "<table border=\"1\" class=\"dataframe\">\n",
       "  <thead>\n",
       "    <tr style=\"text-align: right;\">\n",
       "      <th></th>\n",
       "      <th>count</th>\n",
       "      <th>mean</th>\n",
       "    </tr>\n",
       "  </thead>\n",
       "  <tbody>\n",
       "    <tr>\n",
       "      <th>longitude</th>\n",
       "      <td>0</td>\n",
       "      <td>0.0</td>\n",
       "    </tr>\n",
       "    <tr>\n",
       "      <th>latitude</th>\n",
       "      <td>0</td>\n",
       "      <td>0.0</td>\n",
       "    </tr>\n",
       "    <tr>\n",
       "      <th>housing_median_age</th>\n",
       "      <td>0</td>\n",
       "      <td>0.0</td>\n",
       "    </tr>\n",
       "    <tr>\n",
       "      <th>total_rooms</th>\n",
       "      <td>0</td>\n",
       "      <td>0.0</td>\n",
       "    </tr>\n",
       "    <tr>\n",
       "      <th>total_bedrooms</th>\n",
       "      <td>0</td>\n",
       "      <td>0.0</td>\n",
       "    </tr>\n",
       "    <tr>\n",
       "      <th>population</th>\n",
       "      <td>0</td>\n",
       "      <td>0.0</td>\n",
       "    </tr>\n",
       "    <tr>\n",
       "      <th>households</th>\n",
       "      <td>0</td>\n",
       "      <td>0.0</td>\n",
       "    </tr>\n",
       "    <tr>\n",
       "      <th>median_income</th>\n",
       "      <td>0</td>\n",
       "      <td>0.0</td>\n",
       "    </tr>\n",
       "  </tbody>\n",
       "</table>\n",
       "</div>"
      ],
      "text/plain": [
       "                    count  mean\n",
       "longitude               0   0.0\n",
       "latitude                0   0.0\n",
       "housing_median_age      0   0.0\n",
       "total_rooms             0   0.0\n",
       "total_bedrooms          0   0.0\n",
       "population              0   0.0\n",
       "households              0   0.0\n",
       "median_income           0   0.0"
      ]
     },
     "execution_count": 84,
     "metadata": {},
     "output_type": "execute_result"
    }
   ],
   "source": [
    "# sanity check 2: NUll data replaced\n",
    "x_null = x_train[numerical_cols].isnull()\n",
    "null_data = pd.DataFrame({\n",
    "    \"count\": x_null.sum(),\n",
    "    \"mean\": x_null.mean()\n",
    "})\n",
    "null_data"
   ]
  },
  {
   "cell_type": "markdown",
   "metadata": {},
   "source": [
    "### Transformação Logarítmica de Features"
   ]
  },
  {
   "cell_type": "markdown",
   "metadata": {},
   "source": [
    "Com os histogramas, já fica evidente que a distribuição de algumas features é exponencial. A análise de outliers desse tipo de distribuição pode ser prejudicada pela alta concentração de elementos em uma pequena parte do domínio. \n",
    "\n",
    "Uma forma de corrigir essa distorção é transformar esses dados com a função **logarítmica**; a transformação com essa função torna a distribuição das features mais próxima da normal."
   ]
  },
  {
   "cell_type": "code",
   "execution_count": 85,
   "metadata": {
    "collapsed": true
   },
   "outputs": [],
   "source": [
    "\"\"\" Complete os espaços com ? \"\"\"\n",
    "log_cols = [?, ?, ..., ?]"
   ]
  },
  {
   "cell_type": "code",
   "execution_count": 86,
   "metadata": {
    "collapsed": true
   },
   "outputs": [],
   "source": [
    "class LogTransformFeatures(BaseEstimator, TransformerMixin):\n",
    "    \"\"\" Classe de Feature Transformer para aplicar log em valores numéricos.\n",
    "        Esse imputer mantém a entrada X como um DataFrame em vez de transformar em numpy.array.\n",
    "    \"\"\"\n",
    "    \n",
    "    def __init__(self, columns):\n",
    "        self.columns = columns\n",
    "        \n",
    "    def fit(self, X):\n",
    "        return self\n",
    "    \n",
    "    def transform(self, X):\n",
    "        X_t = X[self.columns].apply(np.log).rename(columns=lambda c: f\"log_of_{c}\")\n",
    "        return X.join(X_t)\n",
    "    "
   ]
  },
  {
   "cell_type": "markdown",
   "metadata": {},
   "source": [
    "Ainda é cedo para descartar as features originais tratadas, pois elas podem ter ainda algum poder preditivo que pode ficar ocluso pela transformação. O descarte de features normalmente é feito quando se detecta multi-colinearidade entre as features ou durante uma etapa de _feature selection_.\n",
    "\n",
    "Por hora, as novas features serão integradas ao dataset original."
   ]
  },
  {
   "cell_type": "code",
   "execution_count": 87,
   "metadata": {
    "collapsed": true
   },
   "outputs": [],
   "source": [
    "x_train = LogTransformFeatures(log_cols).fit_transform(x_train)"
   ]
  },
  {
   "cell_type": "code",
   "execution_count": 88,
   "metadata": {
    "collapsed": true
   },
   "outputs": [],
   "source": [
    "log_cols = [f\"log_of_{c}\" for c in log_cols]"
   ]
  },
  {
   "cell_type": "code",
   "execution_count": 89,
   "metadata": {},
   "outputs": [
    {
     "data": {
      "text/plain": [
       "array([[<matplotlib.axes._subplots.AxesSubplot object at 0x0000017E0EBBACC0>,\n",
       "        <matplotlib.axes._subplots.AxesSubplot object at 0x0000017E10BE07F0>],\n",
       "       [<matplotlib.axes._subplots.AxesSubplot object at 0x0000017E1094CF28>,\n",
       "        <matplotlib.axes._subplots.AxesSubplot object at 0x0000017E10CFC128>],\n",
       "       [<matplotlib.axes._subplots.AxesSubplot object at 0x0000017E10D4B128>,\n",
       "        <matplotlib.axes._subplots.AxesSubplot object at 0x0000017E10D4B160>]], dtype=object)"
      ]
     },
     "execution_count": 89,
     "metadata": {},
     "output_type": "execute_result"
    },
    {
     "data": {
      "image/png": "[encoded data removed]",
      "text/plain": [
       "<matplotlib.figure.Figure at 0x17e106ebb70>"
      ]
     },
     "metadata": {},
     "output_type": "display_data"
    }
   ],
   "source": [
    "x_train[log_cols].hist(bins=50, figsize=(15,10))"
   ]
  },
  {
   "cell_type": "markdown",
   "metadata": {},
   "source": [
    "###  Detecção e Remoção de Outliers\n",
    "\n",
    "Outliers podem deformar a percepção do domínio para o aprendizado de um modelo linear, impedindo o mesmo de encontrar uma solução correta. "
   ]
  },
  {
   "cell_type": "markdown",
   "metadata": {},
   "source": [
    "#### Verificando os Box Plots para observar os Outliers"
   ]
  },
  {
   "cell_type": "code",
   "execution_count": 90,
   "metadata": {},
   "outputs": [
    {
     "data": {
      "text/plain": [
       "' Escreva a solução aqui '"
      ]
     },
     "execution_count": 90,
     "metadata": {},
     "output_type": "execute_result"
    }
   ],
   "source": [
    "\"\"\" Escreva a solução aqui \"\"\""
   ]
  },
  {
   "cell_type": "markdown",
   "metadata": {},
   "source": [
    "#### Aplicando os cortes:"
   ]
  },
  {
   "cell_type": "code",
   "execution_count": 100,
   "metadata": {
    "collapsed": true
   },
   "outputs": [],
   "source": [
    "# inicialização\n",
    "keep_index = pd.Series(index=x_train.index, data=True)\n",
    "cuts_table = pd.DataFrame(columns=[\"count\", \"percent\"])"
   ]
  },
  {
   "cell_type": "code",
   "execution_count": 101,
   "metadata": {
    "collapsed": true
   },
   "outputs": [],
   "source": [
    "# Template para os cortes: replique essa célula para cada corte definido no item anterior\n",
    "\n",
    "\"\"\" Complete os espaços com ? \"\"\"\n",
    "\n",
    "feat = ?\n",
    "lim_inf = ?\n",
    "lim_sup = ?\n",
    "\n",
    "cuts_index = (x_train[feat] < lim_inf) | ((x_train[feat] > lim_sup)) \n",
    "cuts_table = cuts_table.append(\n",
    "    pd.DataFrame(\n",
    "        index=[f\"{lim_inf} <= {feat} <= {lim_sup}\"],\n",
    "        columns=[\"count\", \"percent\"],\n",
    "        data=[[cuts_index.sum(), cuts_index.mean()]]\n",
    "    )\n",
    ")\n",
    "keep_index &= ~cuts_index"
   ]
  },
  {
   "cell_type": "code",
   "execution_count": 105,
   "metadata": {},
   "outputs": [
    {
     "data": {
      "text/html": [
       "<div>\n",
       "<style>\n",
       "    .dataframe thead tr:only-child th {\n",
       "        text-align: right;\n",
       "    }\n",
       "\n",
       "    .dataframe thead th {\n",
       "        text-align: left;\n",
       "    }\n",
       "\n",
       "    .dataframe tbody tr th {\n",
       "        vertical-align: top;\n",
       "    }\n",
       "</style>\n",
       "<table border=\"1\" class=\"dataframe\">\n",
       "  <thead>\n",
       "    <tr style=\"text-align: right;\">\n",
       "      <th></th>\n",
       "      <th>count</th>\n",
       "      <th>percent</th>\n",
       "    </tr>\n",
       "  </thead>\n",
       "  <tbody>\n",
       "    <tr>\n",
       "      <th>0.0 &lt;= log_of_median_income &lt;= 2.5</th>\n",
       "      <td>135</td>\n",
       "      <td>0.013081</td>\n",
       "    </tr>\n",
       "    <tr>\n",
       "      <th>5.0 &lt;= log_of_total_rooms &lt;= 9.0</th>\n",
       "      <td>364</td>\n",
       "      <td>0.035271</td>\n",
       "    </tr>\n",
       "    <tr>\n",
       "      <th>Total Elements Cut</th>\n",
       "      <td>481</td>\n",
       "      <td>0.046609</td>\n",
       "    </tr>\n",
       "  </tbody>\n",
       "</table>\n",
       "</div>"
      ],
      "text/plain": [
       "                                   count   percent\n",
       "0.0 <= log_of_median_income <= 2.5   135  0.013081\n",
       "5.0 <= log_of_total_rooms <= 9.0     364  0.035271\n",
       "Total Elements Cut                   481  0.046609"
      ]
     },
     "execution_count": 105,
     "metadata": {},
     "output_type": "execute_result"
    }
   ],
   "source": [
    "# visualizando os cortes\n",
    "cuts_table.append(\n",
    "    pd.DataFrame(\n",
    "        index=[f\"Total Elements Cut\"],\n",
    "        columns=[\"count\", \"percent\"],\n",
    "        data=[[(~keep_index).sum(), (~keep_index).mean()]]\n",
    "    )\n",
    ")"
   ]
  },
  {
   "cell_type": "code",
   "execution_count": 108,
   "metadata": {},
   "outputs": [
    {
     "name": "stdout",
     "output_type": "stream",
     "text": [
      "Size of 'x_train' before Cuts:\t 9839\n",
      "Size of 'x_train' after Cuts:\t 9839 (- 4.66 %)\n"
     ]
    }
   ],
   "source": [
    "# aplicação do corte total\n",
    "ori_size = x_train.shape[0]\n",
    "\n",
    "x_train = x_train.loc[keep_index]\n",
    "\n",
    "new_size = x_train.shape[0]\n",
    "\n",
    "print(f\"Size of 'x_train' before Cuts:\\t {ori_size}\")\n",
    "print(f\"Size of 'x_train' after Cuts:\\t {new_size} (-{100. * (~keep_index).mean(): 0.2f} %)\")"
   ]
  },
  {
   "cell_type": "markdown",
   "metadata": {},
   "source": [
    "## B) Feature Categórica\n",
    "\n",
    "Features Categóricas são um pouco mais interessantes de tratar do que as numéricas, já que existem muitas maneiras de se transformar textos ou símbolos em valores numéricos. \n",
    "\n",
    "Vale lembrar que todo modelo de machine learning compreende o mundo através de valores numéricos, por serem modelos matemáticos de busca de solução ótima. Alguns frameworks atuais permitam que se coloquem valores simbólicos ou de texto marcados com a tag 'category' diretamente no dataset, mas por trás o proprio framework transforma esses dados em números."
   ]
  },
  {
   "cell_type": "markdown",
   "metadata": {},
   "source": [
    "### Análise da Distribuição das Categorias"
   ]
  },
  {
   "cell_type": "markdown",
   "metadata": {},
   "source": [
    "#### Verificação da quantidade de dados em cada categoria\n",
    "\n",
    "É interessante verificar a quantidade de dados em cada categoria, pois categoriass mal representadas podem criar conceitos enviesados do modelo sobre o domínio. Por exemplo, em um dataset em que uma categoria só ocorra uma única vez e a variável dependente exatamente nesse elemento seja muito alta, um modelo treinado pode assumir que a presença dessa categoria já indique uma saída alta."
   ]
  },
  {
   "cell_type": "code",
   "execution_count": 113,
   "metadata": {},
   "outputs": [
    {
     "data": {
      "text/plain": [
       "<1H OCEAN     4379\n",
       "INLAND        3072\n",
       "NEAR OCEAN    1212\n",
       "NEAR BAY      1082\n",
       " - NaN -        91\n",
       "ISLAND           3\n",
       "Name: ocean_proximity, dtype: int64"
      ]
     },
     "execution_count": 113,
     "metadata": {},
     "output_type": "execute_result"
    }
   ],
   "source": [
    "# verificando a distribuiçlão das categorias na massa de treino\n",
    "x_train[\"ocean_proximity\"].fillna(\" - NaN - \").value_counts()"
   ]
  },
  {
   "cell_type": "markdown",
   "metadata": {},
   "source": [
    "Nem sempre é possível verificar a distribuição exata dos dados de produção, mas a massa de teste normalmente dá uma boa aproximação dela. "
   ]
  },
  {
   "cell_type": "code",
   "execution_count": 10,
   "metadata": {},
   "outputs": [
    {
     "data": {
      "text/plain": [
       "<1H OCEAN     4513\n",
       "INLAND        3230\n",
       "NEAR OCEAN    1373\n",
       "NEAR BAY      1135\n",
       " - NaN -        67\n",
       "ISLAND           2\n",
       "Name: ocean_proximity, dtype: int64"
      ]
     },
     "execution_count": 10,
     "metadata": {},
     "output_type": "execute_result"
    }
   ],
   "source": [
    "# verificando a distribuiçlão das categorias na massa de teste\n",
    "x_test[\"ocean_proximity\"].fillna(\" - NaN - \").value_counts()"
   ]
  },
  {
   "cell_type": "markdown",
   "metadata": {},
   "source": [
    "#### Definir o tratamento de categorias pouco representativos:\n",
    "\n",
    "Pode-se observar que a categoria `ISLAND` tem uma representatividade mínima em todo o dataset, tornando essa categoria a única candidata à eliminação. Como já existem elementos com a categoria nula nesse dataset, a melhor estratégia é juntar a categoria `ISLAND` aos nulos e tratá-los (próxima seção)."
   ]
  },
  {
   "cell_type": "markdown",
   "metadata": {},
   "source": [
    "###  Detecção e Tratamento de Nulos\n",
    "\n",
    "Como já foram identificados elementos em que a categoria é nula, é importante tratar esses elementos apropriadamente.\n",
    "\n",
    "Existem algumas estratégias para tratamento de nulos:\n",
    "\n",
    "- Criar uma categoria `NULL` e usar como um símbolo válido do sistema;\n",
    "- Criar modelos para inferir os valores a partir das outras features;\n",
    "- Imputar um valor referente à distribuição: a `moda` (valor com a maior frequência)\n",
    "\n",
    "Como existe a informação de que a variável categórica foi criada a partir da anotação manual do autor do dataset e que o mesmo utilizou as coordenadas `latitude` e `longitude`, a melhor estratégia é criar um `Imputer` que **busque a categoria do elemento mais próximo (geograficamente)**. "
   ]
  },
  {
   "cell_type": "code",
   "execution_count": null,
   "metadata": {
    "collapsed": true
   },
   "outputs": [],
   "source": [
    "class CategoricalFeaturesImputer(BaseEstimator, TransformerMixin):\n",
    "    \"\"\" Classe de Feature Transformer baseada em um Imputer Categórico que busca a categoria \n",
    "        do elemento mais próximo.\n",
    "        Esse imputer mantém a entrada X como um DataFrame em vez de transformar em numpy.array.\n",
    "    \"\"\"\n",
    "    \n",
    "    def __init__(self, valid_categories):\n",
    "        self.valid_categories = valid_categories\n",
    "        \n",
    "    def fit(self, X):\n",
    "        # usar LogisticRegression\n",
    "        return self\n",
    "    \n",
    "    def nearest_category(self, latitude, longitude, X):\n",
    "        \"\"\"  \"\"\"\n",
    "        \n",
    "    \n",
    "    \n",
    "    def transform(self, X):\n",
    "        X_t = X.copy()\n",
    "        X_t.loc[:, self.columns] = self.imputer.transform(X_t.loc[:, self.columns])\n",
    "        return X_t\n",
    "    "
   ]
  },
  {
   "cell_type": "markdown",
   "metadata": {},
   "source": [
    "###  Transformação em Dummy Features\n",
    "* Transformar labels em dados categóricos consumíveis pelo modelo\n",
    "* Entender porque uma das classes deve permanecer como 'Base' para não haver uma feature linearmente dependente "
   ]
  },
  {
   "cell_type": "markdown",
   "metadata": {},
   "source": [
    "## C) Combinação Manual de Features"
   ]
  },
  {
   "cell_type": "markdown",
   "metadata": {},
   "source": [
    "###  Aplicação de Conhecimento Específico e de Domínio\n",
    "\n",
    "* Agrupar features por assunto / grupos de conhecimento\n",
    "* Entender que o conhecimento de domínio é um aliado na hora de combinar features que já se sabe serem relacionadas"
   ]
  },
  {
   "cell_type": "markdown",
   "metadata": {},
   "source": [
    "## D) Combinação Polinomial de Features"
   ]
  },
  {
   "cell_type": "markdown",
   "metadata": {},
   "source": [
    "## E) Enriquecendo o Dataset com Variáveis Externas"
   ]
  },
  {
   "cell_type": "markdown",
   "metadata": {},
   "source": [
    "## F) Treinamento e Avaliação de um Modelo Linear"
   ]
  },
  {
   "cell_type": "markdown",
   "metadata": {},
   "source": [
    "###  Pipeline de Pré-Processamento\n",
    "* Construir a Pipelinede Pré-Processamento contendo todas as transformações consideradas para a FE\n",
    "* Incluir Z-Score como etapa final de transformação, dada a natureza do modelo linear\n",
    "* Entender porque e como um pipeline deve ser aplicável à massa de testes"
   ]
  },
  {
   "cell_type": "markdown",
   "metadata": {},
   "source": [
    "###  Treinar o modelo\n",
    "* Escolher o melhor modelo de acordo com as descobertas\n",
    "* Plotar features Vs variável dependente e entender a relação entre elas"
   ]
  }
 ],
 "metadata": {
  "kernelspec": {
   "display_name": "Python 3",
   "language": "python",
   "name": "python3"
  },
  "language_info": {
   "codemirror_mode": {
    "name": "ipython",
    "version": 3
   },
   "file_extension": ".py",
   "mimetype": "text/x-python",
   "name": "python",
   "nbconvert_exporter": "python",
   "pygments_lexer": "ipython3",
   "version": "3.6.2"
  }
 },
 "nbformat": 4,
 "nbformat_minor": 2
}
