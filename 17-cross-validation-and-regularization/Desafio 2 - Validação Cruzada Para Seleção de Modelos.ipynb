{
 "cells": [
  {
   "cell_type": "markdown",
   "metadata": {},
   "source": [
    "# Desafio 2:  Validação Cruzada Para Seleção de Modelos"
   ]
  },
  {
   "cell_type": "markdown",
   "metadata": {},
   "source": [
    "## Objetivos:\n",
    "\n",
    "O objetivo desse desafio é avaliar as diferenças entre os modelos treinados sem regularização e os modelos treinados com regularização do tipo L1 e do tipo L2.\n"
   ]
  },
  {
   "cell_type": "markdown",
   "metadata": {},
   "source": [
    "## Sobre o Case\n",
    "\n",
    "### Case baseado no dataset do Kaggle: \"California Housing Prices\"\n",
    "\n",
    "Esse desafio é baseado em um dataset aberto do Kaggle ([https://www.kaggle.com](https://www.kaggle.com)) de 2018, de onde é possível estimar o preço de um imóvel pertencente a uma dada região na Califórnia. \n",
    "\n",
    "O dataset original foi extraído do repositório StatLib, que não está mais disponível. Os dados que o compôem foram retirados do Censo realizado na Califórnia em 1990 e modificado para servir como base de treinamento.\n",
    "\n",
    "\n",
    "Link para o dataset no Kaggle: [https://www.kaggle.com/harrywang/housing/data](https://www.kaggle.com/harrywang/housing/data)\n",
    "\n",
    "\n",
    "### Descrição dos Dados:\n",
    "\n",
    "#### Tamanho do Dataset:\n",
    "\n",
    "* `20.640` data points\n",
    "\n",
    "#### Variável dependente:\n",
    "\n",
    "* `median_house_value`:  (float) variável dependente com o valor da mediana do preço de imóvel na região\n",
    "\n",
    "#### Features: \n",
    "\n",
    "* `longitude`/`latitude`: (floats) posição global da região\n",
    "* `housing_median_age`: (float) mediana da idade (em anos) das casas da região\n",
    "* `total_rooms`: (float) total de aposentos da região\n",
    "* `total_bedrooms`: (float) total de quartos da região\n",
    "* `population`: (float) população total da região\n",
    "* `households`: (float) quantidade total de imóveis da região\n",
    "* `median_income`: (float) mediana do salário anual de uma pessoa na região\n",
    "* `ocean_proximity`: (string) categorias relativas à distância do oceano\n",
    "\n",
    "Importante ressaltar que `207` valores foram retirados aleatoriamnete da feature `total_bedrooms` por motivos acadêmicos; como não está no escopo dessa aula o tratamento de nulos, esses elementos serão retirados da base de dados."
   ]
  },
  {
   "cell_type": "markdown",
   "metadata": {},
   "source": [
    "___"
   ]
  },
  {
   "cell_type": "markdown",
   "metadata": {},
   "source": [
    "# Imports"
   ]
  },
  {
   "cell_type": "code",
   "execution_count": null,
   "metadata": {
    "collapsed": true
   },
   "outputs": [],
   "source": [
    "%matplotlib inline\n",
    "import matplotlib.pyplot as plt\n",
    "import seaborn as sns"
   ]
  },
  {
   "cell_type": "code",
   "execution_count": null,
   "metadata": {
    "collapsed": true
   },
   "outputs": [],
   "source": [
    "import numpy as np\n",
    "import os\n",
    "import pandas as pd"
   ]
  },
  {
   "cell_type": "code",
   "execution_count": null,
   "metadata": {
    "collapsed": true
   },
   "outputs": [],
   "source": [
    "from sklearn.linear_model import ElasticNet"
   ]
  },
  {
   "cell_type": "markdown",
   "metadata": {},
   "source": [
    "# Dataset:"
   ]
  },
  {
   "cell_type": "markdown",
   "metadata": {},
   "source": [
    "## Carregando os dados"
   ]
  },
  {
   "cell_type": "code",
   "execution_count": null,
   "metadata": {
    "collapsed": true
   },
   "outputs": [],
   "source": []
  },
  {
   "cell_type": "markdown",
   "metadata": {},
   "source": [
    "## Separação de Treino e Teste"
   ]
  },
  {
   "cell_type": "code",
   "execution_count": null,
   "metadata": {
    "collapsed": true
   },
   "outputs": [],
   "source": []
  },
  {
   "cell_type": "markdown",
   "metadata": {},
   "source": [
    "# Problemas"
   ]
  },
  {
   "cell_type": "markdown",
   "metadata": {},
   "source": [
    "## A) Seleção de Hiperparâmetros\n",
    "\n",
    "Nessa seção, será feita a busca pelos melhores hiperparâmetros de treinamento usando a _ElasticNet_. Os parâmetros variados serão aqueles referentes à regularização __L1__ e __L2__."
   ]
  },
  {
   "cell_type": "code",
   "execution_count": null,
   "metadata": {
    "collapsed": true
   },
   "outputs": [],
   "source": [
    "\"\"\" Complete os espaços com ? \"\"\"\n",
    "\n"
   ]
  },
  {
   "cell_type": "markdown",
   "metadata": {},
   "source": [
    "## B) Estudo do K para K-Folds\n",
    "\n",
    "Nessa seção, será feita uma comparação entre o desempenho dos modelos nas massas de validação (calculado durante a validação cruzada) e de teste. "
   ]
  },
  {
   "cell_type": "code",
   "execution_count": 1,
   "metadata": {},
   "outputs": [
    {
     "data": {
      "text/plain": [
       "' Complete os espaços com ? '"
      ]
     },
     "execution_count": 1,
     "metadata": {},
     "output_type": "execute_result"
    }
   ],
   "source": [
    "\"\"\" Complete os espaços com ? \"\"\"\n",
    "\n"
   ]
  }
 ],
 "metadata": {
  "kernelspec": {
   "display_name": "Python 3",
   "language": "python",
   "name": "python3"
  },
  "language_info": {
   "codemirror_mode": {
    "name": "ipython",
    "version": 3
   },
   "file_extension": ".py",
   "mimetype": "text/x-python",
   "name": "python",
   "nbconvert_exporter": "python",
   "pygments_lexer": "ipython3",
   "version": "3.6.2"
  }
 },
 "nbformat": 4,
 "nbformat_minor": 2
}
