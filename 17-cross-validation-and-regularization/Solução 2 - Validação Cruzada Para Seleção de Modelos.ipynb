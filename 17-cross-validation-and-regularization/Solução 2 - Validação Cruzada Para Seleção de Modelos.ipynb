{
 "cells": [
  {
   "cell_type": "markdown",
   "metadata": {},
   "source": [
    "# Solução 2:  Validação Cruzada Para Seleção de Modelos"
   ]
  },
  {
   "cell_type": "markdown",
   "metadata": {},
   "source": [
    "## Objetivos:\n",
    "\n",
    "O objetivo desse desafio é compreender como funciona a validação cruzada e os benefícios em se utilizar essa técnica para selecionar modelos mais genéricos.\n"
   ]
  },
  {
   "cell_type": "markdown",
   "metadata": {},
   "source": [
    "## Conceitos:\n",
    "\n",
    "A validação cruzada é uma técnica de avaliação de um modelo em treinamento que permite estimar a capacidade de **generalização** do mesmo. A idéia por trás da técnica é validar qual seria o desempenho do modelo, treinado com uma parte dados, sobre o resto dos dados, nunca vistos antes pelo modelo. \n",
    "\n",
    "Essa técnica possibilita que se teste essa hipótese sem ser necessário ter uma base de testes extra, o que é muito útil quando se têm poucos dados. O diagrama abaixo resume a idéia central da técnica:\n",
    "\n",
    "\n",
    "![Diagrama explicativo: Cross-Validation usando K-Fold com ${K = 10}$](images/k-fold-diagram.png)\n",
    "\n",
    "A técnica mais comum, denominada `K-Fold`, consiste em particionar o dataset em $K$ grupos, treinar com $K-1$ grupos de dados e validar o modelo treinado sobre o grupo restante. Deve-se repetir esse passo $K$ vezes, para que todos os grupos sejam usados, e então calcular as métricas de avaliação como a média das métricas calculadas em cada iteração. Uma outra maneira de se fazer isso é armazenar a predição sobre todos os dados **quando em validação** e calcular as métricas de desempenho sobre essas predições.\n",
    "\n",
    "O limite dessa técnica é o `Leave-One-Out`, caso é o extremo em que se particiona o dataset em $N$ grupos. Esse limite, quando possível, traz a informação mais acurada sobre a capacidade de generalização do modelo. Essa técnica tem como desvantagem a quantidade enorme de treinamentos realizados: um para cada elemento da base de treino."
   ]
  },
  {
   "cell_type": "markdown",
   "metadata": {},
   "source": [
    "___"
   ]
  },
  {
   "cell_type": "markdown",
   "metadata": {},
   "source": [
    "# Imports"
   ]
  },
  {
   "cell_type": "code",
   "execution_count": 1,
   "metadata": {
    "collapsed": true
   },
   "outputs": [],
   "source": [
    "%matplotlib inline\n",
    "import matplotlib.pyplot as plt\n",
    "import seaborn as sns"
   ]
  },
  {
   "cell_type": "code",
   "execution_count": 2,
   "metadata": {
    "collapsed": true
   },
   "outputs": [],
   "source": [
    "import numpy as np\n",
    "import os\n",
    "import pandas as pd"
   ]
  },
  {
   "cell_type": "code",
   "execution_count": 3,
   "metadata": {
    "collapsed": true
   },
   "outputs": [],
   "source": [
    "from sklearn.linear_model import ElasticNet\n",
    "from sklearn.metrics.regression import mean_squared_error, r2_score\n",
    "from sklearn.model_selection import train_test_split, GridSearchCV, ParameterGrid, KFold\n",
    "from sklearn.preprocessing import StandardScaler, PolynomialFeatures"
   ]
  },
  {
   "cell_type": "markdown",
   "metadata": {},
   "source": [
    "# Dataset:"
   ]
  },
  {
   "cell_type": "markdown",
   "metadata": {},
   "source": [
    "## Carregando os dados"
   ]
  },
  {
   "cell_type": "code",
   "execution_count": 4,
   "metadata": {},
   "outputs": [],
   "source": [
    "from sklearn.datasets import load_boston\n",
    "dataset = load_boston()"
   ]
  },
  {
   "cell_type": "markdown",
   "metadata": {},
   "source": [
    "### Sobre o Dataset"
   ]
  },
  {
   "cell_type": "code",
   "execution_count": 5,
   "metadata": {},
   "outputs": [
    {
     "name": "stdout",
     "output_type": "stream",
     "text": [
      "Boston House Prices dataset\n",
      "===========================\n",
      "\n",
      "Notes\n",
      "------\n",
      "Data Set Characteristics:  \n",
      "\n",
      "    :Number of Instances: 506 \n",
      "\n",
      "    :Number of Attributes: 13 numeric/categorical predictive\n",
      "    \n",
      "    :Median Value (attribute 14) is usually the target\n",
      "\n",
      "    :Attribute Information (in order):\n",
      "        - CRIM     per capita crime rate by town\n",
      "        - ZN       proportion of residential land zoned for lots over 25,000 sq.ft.\n",
      "        - INDUS    proportion of non-retail business acres per town\n",
      "        - CHAS     Charles River dummy variable (= 1 if tract bounds river; 0 otherwise)\n",
      "        - NOX      nitric oxides concentration (parts per 10 million)\n",
      "        - RM       average number of rooms per dwelling\n",
      "        - AGE      proportion of owner-occupied units built prior to 1940\n",
      "        - DIS      weighted distances to five Boston employment centres\n",
      "        - RAD      index of accessibility to radial highways\n",
      "        - TAX      full-value property-tax rate per $10,000\n",
      "        - PTRATIO  pupil-teacher ratio by town\n",
      "        - B        1000(Bk - 0.63)^2 where Bk is the proportion of blacks by town\n",
      "        - LSTAT    % lower status of the population\n",
      "        - MEDV     Median value of owner-occupied homes in $1000's\n",
      "\n",
      "    :Missing Attribute Values: None\n",
      "\n",
      "    :Creator: Harrison, D. and Rubinfeld, D.L.\n",
      "\n",
      "This is a copy of UCI ML housing dataset.\n",
      "http://archive.ics.uci.edu/ml/datasets/Housing\n",
      "\n",
      "\n",
      "This dataset was taken from the StatLib library which is maintained at Carnegie Mellon University.\n",
      "\n",
      "The Boston house-price data of Harrison, D. and Rubinfeld, D.L. 'Hedonic\n",
      "prices and the demand for clean air', J. Environ. Economics & Management,\n",
      "vol.5, 81-102, 1978.   Used in Belsley, Kuh & Welsch, 'Regression diagnostics\n",
      "...', Wiley, 1980.   N.B. Various transformations are used in the table on\n",
      "pages 244-261 of the latter.\n",
      "\n",
      "The Boston house-price data has been used in many machine learning papers that address regression\n",
      "problems.   \n",
      "     \n",
      "**References**\n",
      "\n",
      "   - Belsley, Kuh & Welsch, 'Regression diagnostics: Identifying Influential Data and Sources of Collinearity', Wiley, 1980. 244-261.\n",
      "   - Quinlan,R. (1993). Combining Instance-Based and Model-Based Learning. In Proceedings on the Tenth International Conference of Machine Learning, 236-243, University of Massachusetts, Amherst. Morgan Kaufmann.\n",
      "   - many more! (see http://archive.ics.uci.edu/ml/datasets/Housing)\n",
      "\n"
     ]
    }
   ],
   "source": [
    "print(dataset[\"DESCR\"])"
   ]
  },
  {
   "cell_type": "code",
   "execution_count": 6,
   "metadata": {},
   "outputs": [
    {
     "data": {
      "text/plain": [
       "dict_keys(['data', 'target', 'feature_names', 'DESCR'])"
      ]
     },
     "execution_count": 6,
     "metadata": {},
     "output_type": "execute_result"
    }
   ],
   "source": [
    "dataset.keys()"
   ]
  },
  {
   "cell_type": "markdown",
   "metadata": {},
   "source": [
    "### Separação das Features e Variável Dependente"
   ]
  },
  {
   "cell_type": "code",
   "execution_count": 7,
   "metadata": {
    "collapsed": true
   },
   "outputs": [],
   "source": [
    "x = pd.DataFrame(\n",
    "    columns=dataset[\"feature_names\"],\n",
    "    data=dataset[\"data\"]\n",
    ")"
   ]
  },
  {
   "cell_type": "code",
   "execution_count": 8,
   "metadata": {
    "collapsed": true
   },
   "outputs": [],
   "source": [
    "y = dataset[\"target\"]"
   ]
  },
  {
   "cell_type": "code",
   "execution_count": 9,
   "metadata": {},
   "outputs": [
    {
     "data": {
      "text/plain": [
       "(506, 13)"
      ]
     },
     "execution_count": 9,
     "metadata": {},
     "output_type": "execute_result"
    }
   ],
   "source": [
    "x.shape"
   ]
  },
  {
   "cell_type": "code",
   "execution_count": 10,
   "metadata": {},
   "outputs": [
    {
     "data": {
      "text/html": [
       "<div>\n",
       "<style>\n",
       "    .dataframe thead tr:only-child th {\n",
       "        text-align: right;\n",
       "    }\n",
       "\n",
       "    .dataframe thead th {\n",
       "        text-align: left;\n",
       "    }\n",
       "\n",
       "    .dataframe tbody tr th {\n",
       "        vertical-align: top;\n",
       "    }\n",
       "</style>\n",
       "<table border=\"1\" class=\"dataframe\">\n",
       "  <thead>\n",
       "    <tr style=\"text-align: right;\">\n",
       "      <th></th>\n",
       "      <th>CRIM</th>\n",
       "      <th>ZN</th>\n",
       "      <th>INDUS</th>\n",
       "      <th>CHAS</th>\n",
       "      <th>NOX</th>\n",
       "      <th>RM</th>\n",
       "      <th>AGE</th>\n",
       "      <th>DIS</th>\n",
       "      <th>RAD</th>\n",
       "      <th>TAX</th>\n",
       "      <th>PTRATIO</th>\n",
       "      <th>B</th>\n",
       "      <th>LSTAT</th>\n",
       "    </tr>\n",
       "  </thead>\n",
       "  <tbody>\n",
       "    <tr>\n",
       "      <th>0</th>\n",
       "      <td>0.00632</td>\n",
       "      <td>18.0</td>\n",
       "      <td>2.31</td>\n",
       "      <td>0.0</td>\n",
       "      <td>0.538</td>\n",
       "      <td>6.575</td>\n",
       "      <td>65.2</td>\n",
       "      <td>4.0900</td>\n",
       "      <td>1.0</td>\n",
       "      <td>296.0</td>\n",
       "      <td>15.3</td>\n",
       "      <td>396.90</td>\n",
       "      <td>4.98</td>\n",
       "    </tr>\n",
       "    <tr>\n",
       "      <th>1</th>\n",
       "      <td>0.02731</td>\n",
       "      <td>0.0</td>\n",
       "      <td>7.07</td>\n",
       "      <td>0.0</td>\n",
       "      <td>0.469</td>\n",
       "      <td>6.421</td>\n",
       "      <td>78.9</td>\n",
       "      <td>4.9671</td>\n",
       "      <td>2.0</td>\n",
       "      <td>242.0</td>\n",
       "      <td>17.8</td>\n",
       "      <td>396.90</td>\n",
       "      <td>9.14</td>\n",
       "    </tr>\n",
       "    <tr>\n",
       "      <th>2</th>\n",
       "      <td>0.02729</td>\n",
       "      <td>0.0</td>\n",
       "      <td>7.07</td>\n",
       "      <td>0.0</td>\n",
       "      <td>0.469</td>\n",
       "      <td>7.185</td>\n",
       "      <td>61.1</td>\n",
       "      <td>4.9671</td>\n",
       "      <td>2.0</td>\n",
       "      <td>242.0</td>\n",
       "      <td>17.8</td>\n",
       "      <td>392.83</td>\n",
       "      <td>4.03</td>\n",
       "    </tr>\n",
       "    <tr>\n",
       "      <th>3</th>\n",
       "      <td>0.03237</td>\n",
       "      <td>0.0</td>\n",
       "      <td>2.18</td>\n",
       "      <td>0.0</td>\n",
       "      <td>0.458</td>\n",
       "      <td>6.998</td>\n",
       "      <td>45.8</td>\n",
       "      <td>6.0622</td>\n",
       "      <td>3.0</td>\n",
       "      <td>222.0</td>\n",
       "      <td>18.7</td>\n",
       "      <td>394.63</td>\n",
       "      <td>2.94</td>\n",
       "    </tr>\n",
       "    <tr>\n",
       "      <th>4</th>\n",
       "      <td>0.06905</td>\n",
       "      <td>0.0</td>\n",
       "      <td>2.18</td>\n",
       "      <td>0.0</td>\n",
       "      <td>0.458</td>\n",
       "      <td>7.147</td>\n",
       "      <td>54.2</td>\n",
       "      <td>6.0622</td>\n",
       "      <td>3.0</td>\n",
       "      <td>222.0</td>\n",
       "      <td>18.7</td>\n",
       "      <td>396.90</td>\n",
       "      <td>5.33</td>\n",
       "    </tr>\n",
       "  </tbody>\n",
       "</table>\n",
       "</div>"
      ],
      "text/plain": [
       "      CRIM    ZN  INDUS  CHAS    NOX     RM   AGE     DIS  RAD    TAX  \\\n",
       "0  0.00632  18.0   2.31   0.0  0.538  6.575  65.2  4.0900  1.0  296.0   \n",
       "1  0.02731   0.0   7.07   0.0  0.469  6.421  78.9  4.9671  2.0  242.0   \n",
       "2  0.02729   0.0   7.07   0.0  0.469  7.185  61.1  4.9671  2.0  242.0   \n",
       "3  0.03237   0.0   2.18   0.0  0.458  6.998  45.8  6.0622  3.0  222.0   \n",
       "4  0.06905   0.0   2.18   0.0  0.458  7.147  54.2  6.0622  3.0  222.0   \n",
       "\n",
       "   PTRATIO       B  LSTAT  \n",
       "0     15.3  396.90   4.98  \n",
       "1     17.8  396.90   9.14  \n",
       "2     17.8  392.83   4.03  \n",
       "3     18.7  394.63   2.94  \n",
       "4     18.7  396.90   5.33  "
      ]
     },
     "execution_count": 10,
     "metadata": {},
     "output_type": "execute_result"
    }
   ],
   "source": [
    "x.head()"
   ]
  },
  {
   "cell_type": "code",
   "execution_count": 11,
   "metadata": {},
   "outputs": [
    {
     "data": {
      "text/plain": [
       "(506,)"
      ]
     },
     "execution_count": 11,
     "metadata": {},
     "output_type": "execute_result"
    }
   ],
   "source": [
    "y.shape"
   ]
  },
  {
   "cell_type": "code",
   "execution_count": 12,
   "metadata": {},
   "outputs": [
    {
     "data": {
      "text/plain": [
       "array([ 24. ,  21.6,  34.7,  33.4,  36.2])"
      ]
     },
     "execution_count": 12,
     "metadata": {},
     "output_type": "execute_result"
    }
   ],
   "source": [
    "y[:5]"
   ]
  },
  {
   "cell_type": "markdown",
   "metadata": {},
   "source": [
    "## Separação de Treino e Teste"
   ]
  },
  {
   "cell_type": "code",
   "execution_count": 13,
   "metadata": {
    "collapsed": true
   },
   "outputs": [],
   "source": [
    "# splitting \n",
    "train_index, test_index = train_test_split(\n",
    "    x.index, \n",
    "    test_size=.3, \n",
    "    random_state=42\n",
    ")\n",
    "\n",
    "x_train = x.loc[train_index, :]\n",
    "x_test = x.loc[test_index, :]\n",
    "y_train = y[train_index]\n",
    "y_test = y[test_index]"
   ]
  },
  {
   "cell_type": "code",
   "execution_count": 14,
   "metadata": {},
   "outputs": [
    {
     "data": {
      "text/plain": [
       "(354, 13)"
      ]
     },
     "execution_count": 14,
     "metadata": {},
     "output_type": "execute_result"
    }
   ],
   "source": [
    "x_train.shape"
   ]
  },
  {
   "cell_type": "code",
   "execution_count": 15,
   "metadata": {},
   "outputs": [
    {
     "data": {
      "text/plain": [
       "(152, 13)"
      ]
     },
     "execution_count": 15,
     "metadata": {},
     "output_type": "execute_result"
    }
   ],
   "source": [
    "x_test.shape"
   ]
  },
  {
   "cell_type": "markdown",
   "metadata": {},
   "source": [
    "## Normalizando Features com Z-Score\n",
    "\n",
    "Passo importante quando se treina modelos lineares, por eliminar importâncias artificialmente grandes para features contendo valores muito grandes."
   ]
  },
  {
   "cell_type": "code",
   "execution_count": 16,
   "metadata": {
    "collapsed": true
   },
   "outputs": [],
   "source": [
    "zscore = StandardScaler().fit(x_train)\n",
    "x_train = zscore.transform(x_train)\n",
    "x_test = zscore.transform(x_test)"
   ]
  },
  {
   "cell_type": "markdown",
   "metadata": {},
   "source": [
    "# Problemas"
   ]
  },
  {
   "cell_type": "markdown",
   "metadata": {},
   "source": [
    "## A) Seleção de Hiperparâmetros\n",
    "\n",
    "O uso mais comum da técnica é a seleção dos `hiperparâmetros` que definem o modelo; \n",
    "diferente dos parâmetros do modelo, que são ajustados a cada iteração do treinamento, os hiperparâmetros são condições fixadas sob as quais o treinamento ocorre. Um exemplo de hiperparâmetro é o $alpha$, definido para treinamentos das regressões `Ridge` e `Lasso`.\n",
    "\n",
    "Nessa seção, será feita a busca pelos melhores hiperparâmetros de treinamento usando a $ElasticNet$, que combina a regularização `L1` e `L2` em um modelo único. "
   ]
  },
  {
   "cell_type": "markdown",
   "metadata": {},
   "source": [
    "### Escolha dos Hiperparâmetros\n",
    "\n",
    "Os hiperparâmetros a serem variados são:\n",
    "* `alpha`: mesmo parâmetro visto em Regularização, define a intensidade da regularização no modelo.\n",
    "* `l1_ratio `: define o tipo de regularização, como mostrado abaixo:\n",
    "    * $l1\\_ratio = 1$: o treinamento ocorre com `L1` apenas\n",
    "    * $l1\\_ratio = 0$: o treinamento ocorre com `L2` apenas\n",
    "    * $0 \\leq l1\\_ratio \\leq 1$: o treinamento ocorre com uma combinação de `L1` com `L2` na proporção dada."
   ]
  },
  {
   "cell_type": "markdown",
   "metadata": {},
   "source": [
    "#### Variação dos hiperparâmetros"
   ]
  },
  {
   "cell_type": "code",
   "execution_count": 17,
   "metadata": {
    "collapsed": true
   },
   "outputs": [],
   "source": [
    "# hiperparâmetros\n",
    "param_grid = {\n",
    "    \"alpha\": np.logspace(-3, 4, 11),          # Por quê `logspace`?\n",
    "    \"l1_ratio\": np.linspace(0.01, 1.0, 11),\n",
    "    \"max_iter\": [100],\n",
    "    \"positive\": [True]\n",
    "}"
   ]
  },
  {
   "cell_type": "markdown",
   "metadata": {},
   "source": [
    "##### Treinamento dos modelos\n",
    "\n",
    "Usar o [GridSearchCV](http://scikit-learn.org/stable/modules/generated/sklearn.model_selection.GridSearchCV.html) para treinar um conjunto de modelos com a combinação de todos os hiperparâmetros.\n",
    "\n",
    "Parâmetros a serem utilizados:\n",
    "\n",
    "* `estimator`: [`ElasticNet()`](http://scikit-learn.org/stable/modules/generated/sklearn.linear_model.ElasticNet.html)\n",
    "* `param_grid `: `param_grid`\n",
    "* `scoring`: 'r2'\n",
    "* `cv`: usar [`KFold(n_splits=10, shuffle=True, random_state=42)`](http://scikit-learn.org/stable/modules/generated/sklearn.model_selection.KFold.html)\n",
    "* `random_state`: 42"
   ]
  },
  {
   "cell_type": "code",
   "execution_count": 18,
   "metadata": {
    "collapsed": true
   },
   "outputs": [],
   "source": [
    "grid = GridSearchCV(\n",
    "    ElasticNet(), \n",
    "    param_grid=param_grid, \n",
    "    scoring='r2',\n",
    "    cv=KFold(n_splits=10, shuffle=True, random_state=42)\n",
    ")"
   ]
  },
  {
   "cell_type": "code",
   "execution_count": 19,
   "metadata": {},
   "outputs": [
    {
     "data": {
      "text/plain": [
       "GridSearchCV(cv=KFold(n_splits=10, random_state=42, shuffle=True),\n",
       "       error_score='raise',\n",
       "       estimator=ElasticNet(alpha=1.0, copy_X=True, fit_intercept=True, l1_ratio=0.5,\n",
       "      max_iter=1000, normalize=False, positive=False, precompute=False,\n",
       "      random_state=None, selection='cyclic', tol=0.0001, warm_start=False),\n",
       "       fit_params=None, iid=True, n_jobs=1,\n",
       "       param_grid={'alpha': array([  1.00000e-03,   5.01187e-03,   2.51189e-02,   1.25893e-01,\n",
       "         6.30957e-01,   3.16228e+00,   1.58489e+01,   7.94328e+01,\n",
       "         3.98107e+02,   1.99526e+03,   1.00000e+04]), 'l1_ratio': array([ 0.01 ,  0.109,  0.208,  0.307,  0.406,  0.505,  0.604,  0.703,\n",
       "        0.802,  0.901,  1.   ]), 'max_iter': [100], 'positive': [True]},\n",
       "       pre_dispatch='2*n_jobs', refit=True, return_train_score=True,\n",
       "       scoring='r2', verbose=0)"
      ]
     },
     "execution_count": 19,
     "metadata": {},
     "output_type": "execute_result"
    }
   ],
   "source": [
    "grid.fit(x_train, y_train)"
   ]
  },
  {
   "cell_type": "code",
   "execution_count": 20,
   "metadata": {
    "collapsed": true
   },
   "outputs": [],
   "source": [
    "model = grid.best_estimator_"
   ]
  },
  {
   "cell_type": "code",
   "execution_count": 21,
   "metadata": {},
   "outputs": [
    {
     "data": {
      "text/plain": [
       "(0.56734133099549833, 38.029195426221513)"
      ]
     },
     "execution_count": 21,
     "metadata": {},
     "output_type": "execute_result"
    }
   ],
   "source": [
    "y_pred = model.predict(x_train)\n",
    "y_true = y_train\n",
    "r2_score(y_true=y_true, y_pred=y_pred), mean_squared_error(y_true=y_true, y_pred=y_pred)"
   ]
  },
  {
   "cell_type": "code",
   "execution_count": 22,
   "metadata": {},
   "outputs": [
    {
     "data": {
      "text/plain": [
       "(0.55781858757307035, 32.948305842502236)"
      ]
     },
     "execution_count": 22,
     "metadata": {},
     "output_type": "execute_result"
    }
   ],
   "source": [
    "y_pred = model.predict(x_test)\n",
    "y_true = y_test\n",
    "r2_score(y_true=y_true, y_pred=y_pred), mean_squared_error(y_true=y_true, y_pred=y_pred)"
   ]
  },
  {
   "cell_type": "markdown",
   "metadata": {},
   "source": [
    "####  Avaliação dos modelos treinados\n",
    "\n",
    "Mostrar uma tabela contendo todos os treinamentos e suas avaliações e escolher um range de exploração onde o modelo consegue ter uma performance melhor.\n",
    "\n",
    "Dica: usar a função [`heatmap`](https://seaborn.pydata.org/generated/seaborn.heatmap.html) do `seaborn` para visualizar os melhores parâmetros."
   ]
  },
  {
   "cell_type": "code",
   "execution_count": 23,
   "metadata": {},
   "outputs": [
    {
     "data": {
      "text/html": [
       "<div>\n",
       "<style>\n",
       "    .dataframe thead tr:only-child th {\n",
       "        text-align: right;\n",
       "    }\n",
       "\n",
       "    .dataframe thead th {\n",
       "        text-align: left;\n",
       "    }\n",
       "\n",
       "    .dataframe tbody tr th {\n",
       "        vertical-align: top;\n",
       "    }\n",
       "</style>\n",
       "<table border=\"1\" class=\"dataframe\">\n",
       "  <thead>\n",
       "    <tr style=\"text-align: right;\">\n",
       "      <th>param_l1_ratio</th>\n",
       "      <th>0.01</th>\n",
       "      <th>0.109</th>\n",
       "      <th>0.208</th>\n",
       "      <th>0.307</th>\n",
       "      <th>0.406</th>\n",
       "      <th>0.505</th>\n",
       "      <th>0.604</th>\n",
       "      <th>0.703</th>\n",
       "      <th>0.802</th>\n",
       "      <th>0.901</th>\n",
       "      <th>1.0</th>\n",
       "    </tr>\n",
       "    <tr>\n",
       "      <th>param_alpha</th>\n",
       "      <th></th>\n",
       "      <th></th>\n",
       "      <th></th>\n",
       "      <th></th>\n",
       "      <th></th>\n",
       "      <th></th>\n",
       "      <th></th>\n",
       "      <th></th>\n",
       "      <th></th>\n",
       "      <th></th>\n",
       "      <th></th>\n",
       "    </tr>\n",
       "  </thead>\n",
       "  <tbody>\n",
       "    <tr>\n",
       "      <th>0.001000</th>\n",
       "      <td>0.506555</td>\n",
       "      <td>0.506547</td>\n",
       "      <td>0.506539</td>\n",
       "      <td>0.506532</td>\n",
       "      <td>0.506524</td>\n",
       "      <td>0.506516</td>\n",
       "      <td>0.506508</td>\n",
       "      <td>0.506500</td>\n",
       "      <td>0.506493</td>\n",
       "      <td>0.506485</td>\n",
       "      <td>0.506477</td>\n",
       "    </tr>\n",
       "    <tr>\n",
       "      <th>0.005012</th>\n",
       "      <td>0.506887</td>\n",
       "      <td>0.506850</td>\n",
       "      <td>0.506813</td>\n",
       "      <td>0.506776</td>\n",
       "      <td>0.506738</td>\n",
       "      <td>0.506700</td>\n",
       "      <td>0.506662</td>\n",
       "      <td>0.506624</td>\n",
       "      <td>0.506586</td>\n",
       "      <td>0.506547</td>\n",
       "      <td>0.506508</td>\n",
       "    </tr>\n",
       "    <tr>\n",
       "      <th>0.025119</th>\n",
       "      <td>0.508295</td>\n",
       "      <td>0.508152</td>\n",
       "      <td>0.508004</td>\n",
       "      <td>0.507852</td>\n",
       "      <td>0.507694</td>\n",
       "      <td>0.507532</td>\n",
       "      <td>0.507365</td>\n",
       "      <td>0.507192</td>\n",
       "      <td>0.507015</td>\n",
       "      <td>0.506832</td>\n",
       "      <td>0.506644</td>\n",
       "    </tr>\n",
       "    <tr>\n",
       "      <th>0.125893</th>\n",
       "      <td>0.509552</td>\n",
       "      <td>0.509767</td>\n",
       "      <td>0.509919</td>\n",
       "      <td>0.509955</td>\n",
       "      <td>0.509861</td>\n",
       "      <td>0.509616</td>\n",
       "      <td>0.509271</td>\n",
       "      <td>0.508830</td>\n",
       "      <td>0.508285</td>\n",
       "      <td>0.507628</td>\n",
       "      <td>0.506848</td>\n",
       "    </tr>\n",
       "    <tr>\n",
       "      <th>0.630957</th>\n",
       "      <td>0.464269</td>\n",
       "      <td>0.468684</td>\n",
       "      <td>0.473141</td>\n",
       "      <td>0.477590</td>\n",
       "      <td>0.481957</td>\n",
       "      <td>0.486257</td>\n",
       "      <td>0.490533</td>\n",
       "      <td>0.493956</td>\n",
       "      <td>0.496178</td>\n",
       "      <td>0.497046</td>\n",
       "      <td>0.495808</td>\n",
       "    </tr>\n",
       "    <tr>\n",
       "      <th>3.162278</th>\n",
       "      <td>0.253617</td>\n",
       "      <td>0.252244</td>\n",
       "      <td>0.250564</td>\n",
       "      <td>0.248460</td>\n",
       "      <td>0.245769</td>\n",
       "      <td>0.243805</td>\n",
       "      <td>0.244453</td>\n",
       "      <td>0.247778</td>\n",
       "      <td>0.258690</td>\n",
       "      <td>0.284166</td>\n",
       "      <td>0.325370</td>\n",
       "    </tr>\n",
       "    <tr>\n",
       "      <th>15.848932</th>\n",
       "      <td>0.044495</td>\n",
       "      <td>0.014539</td>\n",
       "      <td>-0.010431</td>\n",
       "      <td>-0.025475</td>\n",
       "      <td>-0.043862</td>\n",
       "      <td>-0.046385</td>\n",
       "      <td>-0.046385</td>\n",
       "      <td>-0.046385</td>\n",
       "      <td>-0.046385</td>\n",
       "      <td>-0.046385</td>\n",
       "      <td>-0.046385</td>\n",
       "    </tr>\n",
       "    <tr>\n",
       "      <th>79.432823</th>\n",
       "      <td>-0.029350</td>\n",
       "      <td>-0.046385</td>\n",
       "      <td>-0.046385</td>\n",
       "      <td>-0.046385</td>\n",
       "      <td>-0.046385</td>\n",
       "      <td>-0.046385</td>\n",
       "      <td>-0.046385</td>\n",
       "      <td>-0.046385</td>\n",
       "      <td>-0.046385</td>\n",
       "      <td>-0.046385</td>\n",
       "      <td>-0.046385</td>\n",
       "    </tr>\n",
       "    <tr>\n",
       "      <th>398.107171</th>\n",
       "      <td>-0.045396</td>\n",
       "      <td>-0.046385</td>\n",
       "      <td>-0.046385</td>\n",
       "      <td>-0.046385</td>\n",
       "      <td>-0.046385</td>\n",
       "      <td>-0.046385</td>\n",
       "      <td>-0.046385</td>\n",
       "      <td>-0.046385</td>\n",
       "      <td>-0.046385</td>\n",
       "      <td>-0.046385</td>\n",
       "      <td>-0.046385</td>\n",
       "    </tr>\n",
       "    <tr>\n",
       "      <th>1995.262315</th>\n",
       "      <td>-0.046385</td>\n",
       "      <td>-0.046385</td>\n",
       "      <td>-0.046385</td>\n",
       "      <td>-0.046385</td>\n",
       "      <td>-0.046385</td>\n",
       "      <td>-0.046385</td>\n",
       "      <td>-0.046385</td>\n",
       "      <td>-0.046385</td>\n",
       "      <td>-0.046385</td>\n",
       "      <td>-0.046385</td>\n",
       "      <td>-0.046385</td>\n",
       "    </tr>\n",
       "    <tr>\n",
       "      <th>10000.000000</th>\n",
       "      <td>-0.046385</td>\n",
       "      <td>-0.046385</td>\n",
       "      <td>-0.046385</td>\n",
       "      <td>-0.046385</td>\n",
       "      <td>-0.046385</td>\n",
       "      <td>-0.046385</td>\n",
       "      <td>-0.046385</td>\n",
       "      <td>-0.046385</td>\n",
       "      <td>-0.046385</td>\n",
       "      <td>-0.046385</td>\n",
       "      <td>-0.046385</td>\n",
       "    </tr>\n",
       "  </tbody>\n",
       "</table>\n",
       "</div>"
      ],
      "text/plain": [
       "param_l1_ratio     0.010     0.109     0.208     0.307     0.406     0.505  \\\n",
       "param_alpha                                                                  \n",
       "0.001000        0.506555  0.506547  0.506539  0.506532  0.506524  0.506516   \n",
       "0.005012        0.506887  0.506850  0.506813  0.506776  0.506738  0.506700   \n",
       "0.025119        0.508295  0.508152  0.508004  0.507852  0.507694  0.507532   \n",
       "0.125893        0.509552  0.509767  0.509919  0.509955  0.509861  0.509616   \n",
       "0.630957        0.464269  0.468684  0.473141  0.477590  0.481957  0.486257   \n",
       "3.162278        0.253617  0.252244  0.250564  0.248460  0.245769  0.243805   \n",
       "15.848932       0.044495  0.014539 -0.010431 -0.025475 -0.043862 -0.046385   \n",
       "79.432823      -0.029350 -0.046385 -0.046385 -0.046385 -0.046385 -0.046385   \n",
       "398.107171     -0.045396 -0.046385 -0.046385 -0.046385 -0.046385 -0.046385   \n",
       "1995.262315    -0.046385 -0.046385 -0.046385 -0.046385 -0.046385 -0.046385   \n",
       "10000.000000   -0.046385 -0.046385 -0.046385 -0.046385 -0.046385 -0.046385   \n",
       "\n",
       "param_l1_ratio     0.604     0.703     0.802     0.901     1.000  \n",
       "param_alpha                                                       \n",
       "0.001000        0.506508  0.506500  0.506493  0.506485  0.506477  \n",
       "0.005012        0.506662  0.506624  0.506586  0.506547  0.506508  \n",
       "0.025119        0.507365  0.507192  0.507015  0.506832  0.506644  \n",
       "0.125893        0.509271  0.508830  0.508285  0.507628  0.506848  \n",
       "0.630957        0.490533  0.493956  0.496178  0.497046  0.495808  \n",
       "3.162278        0.244453  0.247778  0.258690  0.284166  0.325370  \n",
       "15.848932      -0.046385 -0.046385 -0.046385 -0.046385 -0.046385  \n",
       "79.432823      -0.046385 -0.046385 -0.046385 -0.046385 -0.046385  \n",
       "398.107171     -0.046385 -0.046385 -0.046385 -0.046385 -0.046385  \n",
       "1995.262315    -0.046385 -0.046385 -0.046385 -0.046385 -0.046385  \n",
       "10000.000000   -0.046385 -0.046385 -0.046385 -0.046385 -0.046385  "
      ]
     },
     "execution_count": 23,
     "metadata": {},
     "output_type": "execute_result"
    }
   ],
   "source": [
    "results = pd.DataFrame(grid.cv_results_)[['param_alpha', 'param_l1_ratio', 'mean_test_score']]\n",
    "results = results.set_index(['param_alpha', 'param_l1_ratio']).unstack()\n",
    "results.columns = results.columns.droplevel(0)\n",
    "results"
   ]
  },
  {
   "cell_type": "code",
   "execution_count": 24,
   "metadata": {},
   "outputs": [
    {
     "data": {
      "text/plain": [
       "<matplotlib.axes._subplots.AxesSubplot at 0x1b20a7f39e8>"
      ]
     },
     "execution_count": 24,
     "metadata": {},
     "output_type": "execute_result"
    },
    {
     "data": {
      "image/png": "[encoded data removed]",
      "text/plain": [
       "<matplotlib.figure.Figure at 0x1b20a7db358>"
      ]
     },
     "metadata": {},
     "output_type": "display_data"
    }
   ],
   "source": [
    "plt.figure(figsize=(15, 10))\n",
    "sns.heatmap(results, annot=True)"
   ]
  },
  {
   "cell_type": "markdown",
   "metadata": {},
   "source": [
    "## B) Estudo da influência do parâmetro $K$ sobre a generalização\n",
    "\n",
    "Quanto mais `folds` forem usados na validação cruzada, mais realista será a estimativa do poder de generalização do modelo treinado. Como já foi citado, o uso de `LeaveOneOut` é o mais próximo de trazer essa estimativa, com o contraponto de ser o mais pesado computacionalmente.\n",
    "\n",
    "Nessa seção, será feita uma comparação entre o desempenho dos modelos nas massas de validação (calculado com dados de treino durante a validação cruzada) e de teste. \n",
    "\n",
    "###### Importante:\n",
    "\n",
    "Os hipeparâmetros a serem variados nos treinamentos devem ser obtidos na última etapa do item **A**."
   ]
  },
  {
   "cell_type": "markdown",
   "metadata": {},
   "source": [
    "####  Hiperparâmetros\n",
    "\n",
    "Preencher `params_grid` com as faixas de hiperparâmetros de melhor performance."
   ]
  },
  {
   "cell_type": "code",
   "execution_count": 25,
   "metadata": {
    "collapsed": true
   },
   "outputs": [],
   "source": [
    "\"\"\" Complete os espaços com ? \"\"\"\n",
    "param_grid = {\n",
    "    \"alpha\": np.logspace(-2, 0, 5),\n",
    "    \"l1_ratio\": np.linspace(0.5, 1.0, 5),\n",
    "    \"max_iter\": [10000],\n",
    "    \"positive\": [True]\n",
    "}"
   ]
  },
  {
   "cell_type": "markdown",
   "metadata": {},
   "source": [
    "####  Treinar os modelos para os valores de $K$\n",
    "\n",
    "Treinar os modelos para cada valor de $K$ em `k_list`. Armazenar, para cada $K$, os valores de $R^2$ e de $MSE$ calculados sobre a **massa de testes**."
   ]
  },
  {
   "cell_type": "code",
   "execution_count": 26,
   "metadata": {
    "collapsed": true
   },
   "outputs": [],
   "source": [
    "k_list = [5, 10, 15, 20, 25, 30, 35, 40, 45, 50]"
   ]
  },
  {
   "cell_type": "code",
   "execution_count": 27,
   "metadata": {},
   "outputs": [
    {
     "data": {
      "text/html": [
       "<div>\n",
       "<style>\n",
       "    .dataframe thead tr:only-child th {\n",
       "        text-align: right;\n",
       "    }\n",
       "\n",
       "    .dataframe thead th {\n",
       "        text-align: left;\n",
       "    }\n",
       "\n",
       "    .dataframe tbody tr th {\n",
       "        vertical-align: top;\n",
       "    }\n",
       "</style>\n",
       "<table border=\"1\" class=\"dataframe\">\n",
       "  <thead>\n",
       "    <tr style=\"text-align: right;\">\n",
       "      <th></th>\n",
       "      <th>test MSE</th>\n",
       "      <th>test R^2</th>\n",
       "      <th>validation MSE</th>\n",
       "      <th>validation R^2</th>\n",
       "      <th>train MSE</th>\n",
       "      <th>train R^2</th>\n",
       "    </tr>\n",
       "  </thead>\n",
       "  <tbody>\n",
       "    <tr>\n",
       "      <th>5</th>\n",
       "      <td>37.8742</td>\n",
       "      <td>0.491711</td>\n",
       "      <td>46.7502</td>\n",
       "      <td>0.455226</td>\n",
       "      <td>43.9523</td>\n",
       "      <td>0.497476</td>\n",
       "    </tr>\n",
       "    <tr>\n",
       "      <th>10</th>\n",
       "      <td>37.8742</td>\n",
       "      <td>0.491711</td>\n",
       "      <td>46.0599</td>\n",
       "      <td>0.453003</td>\n",
       "      <td>44.134</td>\n",
       "      <td>0.497243</td>\n",
       "    </tr>\n",
       "    <tr>\n",
       "      <th>15</th>\n",
       "      <td>37.8742</td>\n",
       "      <td>0.491711</td>\n",
       "      <td>46.0543</td>\n",
       "      <td>0.44183</td>\n",
       "      <td>44.18</td>\n",
       "      <td>0.496896</td>\n",
       "    </tr>\n",
       "    <tr>\n",
       "      <th>20</th>\n",
       "      <td>37.8742</td>\n",
       "      <td>0.491711</td>\n",
       "      <td>45.9582</td>\n",
       "      <td>0.443753</td>\n",
       "      <td>44.194</td>\n",
       "      <td>0.496945</td>\n",
       "    </tr>\n",
       "    <tr>\n",
       "      <th>25</th>\n",
       "      <td>37.8742</td>\n",
       "      <td>0.491711</td>\n",
       "      <td>45.9818</td>\n",
       "      <td>0.375111</td>\n",
       "      <td>44.2024</td>\n",
       "      <td>0.49692</td>\n",
       "    </tr>\n",
       "    <tr>\n",
       "      <th>30</th>\n",
       "      <td>37.8742</td>\n",
       "      <td>0.491711</td>\n",
       "      <td>45.851</td>\n",
       "      <td>0.410228</td>\n",
       "      <td>44.2133</td>\n",
       "      <td>0.496813</td>\n",
       "    </tr>\n",
       "    <tr>\n",
       "      <th>35</th>\n",
       "      <td>37.8742</td>\n",
       "      <td>0.491711</td>\n",
       "      <td>45.6706</td>\n",
       "      <td>0.401214</td>\n",
       "      <td>44.2187</td>\n",
       "      <td>0.496826</td>\n",
       "    </tr>\n",
       "    <tr>\n",
       "      <th>40</th>\n",
       "      <td>37.8742</td>\n",
       "      <td>0.491711</td>\n",
       "      <td>45.7657</td>\n",
       "      <td>0.333201</td>\n",
       "      <td>44.2207</td>\n",
       "      <td>0.496797</td>\n",
       "    </tr>\n",
       "    <tr>\n",
       "      <th>45</th>\n",
       "      <td>37.8742</td>\n",
       "      <td>0.491711</td>\n",
       "      <td>45.8183</td>\n",
       "      <td>0.349195</td>\n",
       "      <td>44.222</td>\n",
       "      <td>0.496794</td>\n",
       "    </tr>\n",
       "    <tr>\n",
       "      <th>50</th>\n",
       "      <td>37.8742</td>\n",
       "      <td>0.491711</td>\n",
       "      <td>45.7617</td>\n",
       "      <td>0.283832</td>\n",
       "      <td>44.2248</td>\n",
       "      <td>0.49678</td>\n",
       "    </tr>\n",
       "  </tbody>\n",
       "</table>\n",
       "</div>"
      ],
      "text/plain": [
       "   test MSE  test R^2 validation MSE validation R^2 train MSE train R^2\n",
       "5   37.8742  0.491711        46.7502       0.455226   43.9523  0.497476\n",
       "10  37.8742  0.491711        46.0599       0.453003    44.134  0.497243\n",
       "15  37.8742  0.491711        46.0543        0.44183     44.18  0.496896\n",
       "20  37.8742  0.491711        45.9582       0.443753    44.194  0.496945\n",
       "25  37.8742  0.491711        45.9818       0.375111   44.2024   0.49692\n",
       "30  37.8742  0.491711         45.851       0.410228   44.2133  0.496813\n",
       "35  37.8742  0.491711        45.6706       0.401214   44.2187  0.496826\n",
       "40  37.8742  0.491711        45.7657       0.333201   44.2207  0.496797\n",
       "45  37.8742  0.491711        45.8183       0.349195    44.222  0.496794\n",
       "50  37.8742  0.491711        45.7617       0.283832   44.2248   0.49678"
      ]
     },
     "execution_count": 27,
     "metadata": {},
     "output_type": "execute_result"
    }
   ],
   "source": [
    "\"\"\" Escreva a solução aqui \"\"\"\n",
    "\n",
    "measures = pd.DataFrame(\n",
    "    columns=[\"test MSE\", \"test R^2\", \"validation MSE\", \"validation R^2\", \"train MSE\", \"train R^2\"],\n",
    "    index=k_list,\n",
    "    data=None\n",
    ")\n",
    "\n",
    "for k in k_list:\n",
    "    # training grid search with cross-validation\n",
    "    grid = GridSearchCV(\n",
    "        ElasticNet(), \n",
    "        param_grid=param_grid, \n",
    "        scoring=['neg_mean_squared_error', 'r2'],\n",
    "        cv=KFold(n_splits=k, shuffle=True, random_state=42),\n",
    "        refit=False\n",
    "    )\n",
    "    grid.fit(x_train, y_train)\n",
    "    \n",
    "    # retrieving best model validation results\n",
    "    cv_results = pd.DataFrame(grid.cv_results_)\n",
    "    best_index = cv_results.mean_test_neg_mean_squared_error.argmin()    \n",
    "    mse_tr = -cv_results.loc[best_index, 'mean_train_neg_mean_squared_error']\n",
    "    r2_tr = cv_results.loc[best_index, 'mean_train_r2']\n",
    "    mse_vd = -cv_results.loc[best_index, 'mean_test_neg_mean_squared_error']\n",
    "    r2_vd = cv_results.loc[best_index, 'mean_test_r2']\n",
    "    \n",
    "    # training model w/ best params\n",
    "    best_params = cv_results.loc[best_index, \"params\"]\n",
    "    model = ElasticNet(**best_params).fit(x_train, y_train)\n",
    "    \n",
    "    # retrieving best model's tet results\n",
    "    y_pred = model.predict(x_test)\n",
    "    y_true = y_test\n",
    "    mse_te = mean_squared_error(y_true, y_pred)\n",
    "    r2_te = r2_score(y_true, y_pred)\n",
    "    \n",
    "    # filling measures table\n",
    "    measures.loc[k, \"test MSE\"] = mse_te\n",
    "    measures.loc[k, \"test R^2\"] = r2_te\n",
    "    measures.loc[k, \"train MSE\"] = mse_tr\n",
    "    measures.loc[k, \"train R^2\"] = r2_tr\n",
    "    measures.loc[k, \"validation MSE\"] = mse_vd\n",
    "    measures.loc[k, \"validation R^2\"] = r2_vd\n",
    "\n",
    "measures"
   ]
  },
  {
   "cell_type": "markdown",
   "metadata": {},
   "source": [
    "####  Avaliação da generalização\n",
    "\n",
    "Mostrar em dois plots (um para $R^2$ e outro para $MSE$) a comparação entre as métricas de validação (do cross-validation) e as medidas sobre a massa de teste. \n",
    "\n",
    "* Eixo X: valores de  $K$\n",
    "* Eixo Y: métricas de avaliação ($R^2$ / $MSE$)\n"
   ]
  },
  {
   "cell_type": "code",
   "execution_count": 28,
   "metadata": {},
   "outputs": [
    {
     "data": {
      "text/plain": [
       "<matplotlib.axes._subplots.AxesSubplot at 0x1b20ae915f8>"
      ]
     },
     "execution_count": 28,
     "metadata": {},
     "output_type": "execute_result"
    },
    {
     "data": {
      "image/png": "[encoded data removed]",
      "text/plain": [
       "<matplotlib.figure.Figure at 0x1b20b344da0>"
      ]
     },
     "metadata": {},
     "output_type": "display_data"
    },
    {
     "data": {
      "image/png": "[encoded data removed]",
      "text/plain": [
       "<matplotlib.figure.Figure at 0x1b20b344cf8>"
      ]
     },
     "metadata": {},
     "output_type": "display_data"
    }
   ],
   "source": [
    "\"\"\" Escreva a solução aqui \"\"\"\n",
    "measures[[\"test MSE\", \"validation MSE\", \"train MSE\"]].plot(figsize=(15,10))\n",
    "measures[[\"test R^2\", \"validation R^2\", \"train R^2\"]].plot(figsize=(15,10))"
   ]
  },
  {
   "cell_type": "markdown",
   "metadata": {},
   "source": [
    "###### Nota sobre o exercício:\n",
    "\n",
    "Devido à quantidade reduzida de dados, a variação dos resultados de treino/teste não estão mostrando muita diferença. O que se pretendia mostrar aqui é o quanto os resultados de modelos treinados com $K$ alto possuiem uma generalização melhor (curvas de treino e teste mais próximas)."
   ]
  }
 ],
 "metadata": {
  "kernelspec": {
   "display_name": "Python 3",
   "language": "python",
   "name": "python3"
  },
  "language_info": {
   "codemirror_mode": {
    "name": "ipython",
    "version": 3
   },
   "file_extension": ".py",
   "mimetype": "text/x-python",
   "name": "python",
   "nbconvert_exporter": "python",
   "pygments_lexer": "ipython3",
   "version": "3.6.2"
  }
 },
 "nbformat": 4,
 "nbformat_minor": 2
}
