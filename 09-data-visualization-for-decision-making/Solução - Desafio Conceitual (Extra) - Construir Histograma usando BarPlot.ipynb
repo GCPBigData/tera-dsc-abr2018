{
 "cells": [
  {
   "cell_type": "markdown",
   "metadata": {},
   "source": [
    "# Desafio Conceitual (Extra - Construir Histograma usando BarPlot\n"
   ]
  },
  {
   "cell_type": "markdown",
   "metadata": {},
   "source": [
    "## Case baseado no desafio do Kaggle: \"Instacart Market Basket Analysis\"\n",
    "\n",
    "Esse desafio é baseado em uma competição do Kaggle ([https://www.kaggle.com](https://www.kaggle.com)) de 2017, onde é pedido para fazer a predição de se um produto será comprado por dado usuário no carrinho atual, baseado em suas compras anteriores.\n",
    "\n",
    "Link para o desafio: [https://www.kaggle.com/c/instacart-market-basket-analysis](https://www.kaggle.com/c/instacart-market-basket-analysis)\n",
    "\n",
    "## Origem dos Dados:\n",
    "\n",
    "Os dados mostrados nesse desafio são uma amostra extraída do dataset disponibilizado gratuitamente pela empresa Instacart ([https://www.instacart.com/](https://www.instacart.com/)) **\\***. São dados reais do banco de dados da empresa, que foram anonimizados para o uso por pesquisadores e em competições de Data Science.\n",
    "\n",
    " \n",
    "###### * “The Instacart Online Grocery Shopping Dataset 2017”, Accessed from [https://www.instacart.com/datasets/grocery-shopping-2017](https://www.instacart.com/datasets/grocery-shopping-2017) on March 10, 2017."
   ]
  },
  {
   "cell_type": "markdown",
   "metadata": {},
   "source": [
    "___"
   ]
  },
  {
   "cell_type": "markdown",
   "metadata": {},
   "source": [
    "# Imports"
   ]
  },
  {
   "cell_type": "code",
   "execution_count": 1,
   "metadata": {
    "collapsed": true
   },
   "outputs": [],
   "source": [
    "import numpy as np\n",
    "import os\n",
    "import pandas as pd"
   ]
  },
  {
   "cell_type": "code",
   "execution_count": 2,
   "metadata": {
    "collapsed": true
   },
   "outputs": [],
   "source": [
    "\"\"\" habilitando plots no notebook \"\"\"\n",
    "%matplotlib inline"
   ]
  },
  {
   "cell_type": "code",
   "execution_count": 3,
   "metadata": {
    "collapsed": true
   },
   "outputs": [],
   "source": [
    "\"\"\" plot libs \"\"\"\n",
    "import matplotlib.pyplot as plt\n",
    "import seaborn as sns"
   ]
  },
  {
   "cell_type": "code",
   "execution_count": 4,
   "metadata": {
    "collapsed": true
   },
   "outputs": [],
   "source": [
    "\"\"\" Configurando o Matplotlib para o modo manual \"\"\"\n",
    "plt.interactive(False)"
   ]
  },
  {
   "cell_type": "markdown",
   "metadata": {},
   "source": [
    "# Objetivo :\n",
    "\n",
    "Analisar o dataset (o mesmo construído na Aula 07) e responder às questões em cada item usando gráficos."
   ]
  },
  {
   "cell_type": "markdown",
   "metadata": {},
   "source": [
    "# Importante:\n",
    "\n",
    "Todos os gráficos devem conter:\n",
    "* Título\n",
    "* Rótulos do Eixo X e do Eixo Y\n",
    "\n",
    "Se mais de um gráfico for plotado em uma única janela, eles devem ter:\n",
    "* Cores diferentes\n",
    "* Legenda\n",
    "* Transparência (na sobreposição)"
   ]
  },
  {
   "cell_type": "markdown",
   "metadata": {},
   "source": [
    "# Dataset:\n",
    "\n",
    "O dataset utilizado nesse desafio é um sub-conjunto daquele construído na Aula 7. Para essa aula, será necessário carregar apenas duas colunas: `user_id` e `product_name`."
   ]
  },
  {
   "cell_type": "markdown",
   "metadata": {},
   "source": [
    "## Carregando os dados"
   ]
  },
  {
   "cell_type": "code",
   "execution_count": 5,
   "metadata": {},
   "outputs": [
    {
     "name": "stderr",
     "output_type": "stream",
     "text": [
      "C:\\Users\\allan\\Anaconda3\\lib\\site-packages\\numpy\\lib\\arraysetops.py:463: FutureWarning: elementwise comparison failed; returning scalar instead, but in the future will perform elementwise comparison\n",
      "  mask |= (ar1 == a)\n"
     ]
    }
   ],
   "source": [
    "\"\"\" Nota sobre o Warning: \n",
    "    O código abaixo levanta um Warning gerado por uma chamada interna do pandas conflitando com o Numpy.\n",
    "    Não há necessidade de tratar esse Warning no momento, o comportamento do 'read_csv' é funcional para o que queremos.\n",
    "\"\"\"\n",
    "dataset = pd.read_csv(\n",
    "    os.path.join(\"data\", \"dataset.csv\"),\n",
    "    usecols=[\"user_id\", \"product_name\"],\n",
    "    sep=\",\",\n",
    "    index_col=0,\n",
    "    encoding=\"utf-8\"\n",
    ")"
   ]
  },
  {
   "cell_type": "markdown",
   "metadata": {},
   "source": [
    "## Extração dos dados específicos"
   ]
  },
  {
   "cell_type": "code",
   "execution_count": 6,
   "metadata": {
    "collapsed": true
   },
   "outputs": [],
   "source": [
    "product_count = dataset.groupby(\"user_id\").product_name.count()"
   ]
  },
  {
   "cell_type": "code",
   "execution_count": 7,
   "metadata": {},
   "outputs": [
    {
     "data": {
      "text/plain": [
       "count    114885.000000\n",
       "mean         10.568394\n",
       "std           7.946615\n",
       "min           1.000000\n",
       "25%           5.000000\n",
       "50%           9.000000\n",
       "75%          14.000000\n",
       "max          80.000000\n",
       "Name: product_name, dtype: float64"
      ]
     },
     "execution_count": 7,
     "metadata": {},
     "output_type": "execute_result"
    }
   ],
   "source": [
    "product_count.describe()"
   ]
  },
  {
   "cell_type": "code",
   "execution_count": 8,
   "metadata": {},
   "outputs": [
    {
     "data": {
      "text/plain": [
       "user_id\n",
       "1     11\n",
       "2     31\n",
       "5      9\n",
       "7      9\n",
       "8     18\n",
       "9     22\n",
       "10     4\n",
       "13     5\n",
       "14    11\n",
       "17     6\n",
       "Name: product_name, dtype: int64"
      ]
     },
     "execution_count": 8,
     "metadata": {},
     "output_type": "execute_result"
    }
   ],
   "source": [
    "product_count.head(10)"
   ]
  },
  {
   "cell_type": "markdown",
   "metadata": {},
   "source": [
    "# Deafio Extra: Construindo um Histograma\n",
    "\n",
    "O `histograma` é uma ferramenta bem poderosa, que mostra a distribuição dos dados usando uma contagem simples de `buckets`. Essa função já é dada pelas principais bibliotecas, mas o desafio agora é criar esse plot a partir das funções básicas do `matplotlib`."
   ]
  },
  {
   "cell_type": "markdown",
   "metadata": {},
   "source": [
    "## Agrupando os dados em `Buckets`\n",
    "\n",
    "A primeira parte é a criação dos `buckets`. Isso é feito definindo quanto `buckets` serão utilizados e distribuindo os dados entre eles."
   ]
  },
  {
   "cell_type": "code",
   "execution_count": 9,
   "metadata": {},
   "outputs": [
    {
     "data": {
      "text/plain": [
       "array([  1. ,   8.9,  16.8,  24.7,  32.6,  40.5,  48.4,  56.3,  64.2,\n",
       "        72.1,  80. ])"
      ]
     },
     "execution_count": 9,
     "metadata": {},
     "output_type": "execute_result"
    }
   ],
   "source": [
    "\"\"\" Definição dos Buckets \"\"\"\n",
    "bins = 10  # definição da quantidade de buckets\n",
    "\n",
    "limits = np.linspace(product_count.min(), product_count.max(), bins+1)\n",
    "limits"
   ]
  },
  {
   "cell_type": "code",
   "execution_count": 10,
   "metadata": {},
   "outputs": [
    {
     "data": {
      "text/plain": [
       "4.95     56483\n",
       "12.85    36576\n",
       "20.75    14600\n",
       "28.65     5019\n",
       "36.55     1554\n",
       "44.45      464\n",
       "52.35      136\n",
       "60.25       35\n",
       "68.15       12\n",
       "76.05        5\n",
       "dtype: int64"
      ]
     },
     "execution_count": 10,
     "metadata": {},
     "output_type": "execute_result"
    }
   ],
   "source": [
    "\"\"\" Agrupamento dos dados \"\"\"\n",
    "histogram = {}\n",
    "\n",
    "for p, q in zip(limits[:-1], limits[1:]):\n",
    "    label = (p + q) / 2\n",
    "    histogram[label] = ((product_count >= p) & (product_count < q)).sum()\n",
    "\n",
    "histogram = pd.Series(histogram)\n",
    "histogram"
   ]
  },
  {
   "cell_type": "markdown",
   "metadata": {},
   "source": [
    "## Construindo o Gráfico de Barras (`Bar Plot`)\n",
    "\n",
    "O gráfico de barras não foi dado na Pré-Aula, mas é uma das ferramentas básicas para a construção de gráficos importantes para um cientista de dados. \n",
    "\n",
    "Use uma das duas referências abaixo para construir o `histograma` da distribuição de quantidade de produtos por usuário:\n",
    "\n",
    "1. [Pandas (nível fácil)](https://pandas.pydata.org/pandas-docs/stable/generated/pandas.DataFrame.plot.html)\n",
    "2. [Matplotlib Puro (nível hard)](https://matplotlib.org/api/_as_gen/matplotlib.pyplot.bar.html)\n",
    "\n",
    "Ambos os gráficos devem ter:\n",
    "- Tamanho da Figura = 12 x 8\n",
    "- Título\n",
    "- Rótulos nos eixos X e Y\n",
    "- As barras devem ter largura cheia, i.e. devem tocar as barras vizinhas.\n",
    "- Todas as Barras devem ter a mesma cor"
   ]
  },
  {
   "cell_type": "markdown",
   "metadata": {},
   "source": [
    "##### Pandas Style"
   ]
  },
  {
   "cell_type": "code",
   "execution_count": 11,
   "metadata": {},
   "outputs": [
    {
     "data": {
      "image/png": "[encoded data removed]",
      "text/plain": [
       "<matplotlib.figure.Figure at 0x2a7d59875c0>"
      ]
     },
     "metadata": {},
     "output_type": "display_data"
    }
   ],
   "source": [
    "histogram.plot(kind=\"bar\", color=\"blue\", figsize=(12,8), width=1, grid=True)\n",
    "plt.title(\"Plot Manual de Histogram usando Pandas\")\n",
    "plt.xlabel(\"Contagem de Produtos\")\n",
    "plt.ylabel(\"Número de Usuários\")\n",
    "plt.show()"
   ]
  },
  {
   "cell_type": "markdown",
   "metadata": {},
   "source": [
    "##### Matplotlib Puro"
   ]
  },
  {
   "cell_type": "code",
   "execution_count": 12,
   "metadata": {},
   "outputs": [
    {
     "data": {
      "image/png": "[encoded data removed]",
      "text/plain": [
       "<matplotlib.figure.Figure at 0x2a7d59871d0>"
      ]
     },
     "metadata": {},
     "output_type": "display_data"
    }
   ],
   "source": [
    "plt.figure(figsize=(12,8))\n",
    "plt.bar(histogram.index, histogram.values, color=\"blue\", width=7.9)\n",
    "plt.title(\"Plot Manual de Histogram usando Matplotlib Puro\")\n",
    "plt.grid(True)\n",
    "plt.xlabel(\"Contagem de Produtos\")\n",
    "plt.ylabel(\"Número de Usuários\")\n",
    "plt.show()"
   ]
  },
  {
   "cell_type": "markdown",
   "metadata": {},
   "source": [
    "## Comparando diferentes números de Buckets\n",
    "\n",
    "Usando o método `hist` do `pandas`, plotar o histograma com `bins=20` **por cima da mesma figura construída anteriormente**. \n",
    "\n",
    "O gráfico composto deve ter as seguintes características:\n",
    "- O gráfico original (`bins=10`) deve ser plotado primeiro, em **azul**;\n",
    "- O gráfico gerado pelo médoto `hist` deve ser plotado por cima do original, em **vermelho**;\n",
    "- Ambos os gráficos devem estar visíveis (usar **transparência**);\n",
    "- Deve haver uma legenda identificando os dois gráficos.\n"
   ]
  },
  {
   "cell_type": "markdown",
   "metadata": {},
   "source": [
    "##### Nota: \n",
    "\n",
    "Na solução desse desafio, notou-se um problema ao usar o `barplot` do `pandas` associado com qualquer método de histograma. Esse problema é na interpretação dos valores do domínio (`x`), fazendo com que os gráficos não fiquem alinhados.\n",
    "\n",
    "Para que a solução dê certo, é necessário que se use **apenas para o bar plot** a solução de `matplotlib` puro."
   ]
  },
  {
   "cell_type": "code",
   "execution_count": 13,
   "metadata": {},
   "outputs": [
    {
     "data": {
      "image/png": "[encoded data removed]",
      "text/plain": [
       "<matplotlib.figure.Figure at 0x2a7d6066ba8>"
      ]
     },
     "metadata": {},
     "output_type": "display_data"
    }
   ],
   "source": [
    "fig = plt.figure(figsize=(12,8))\n",
    "plt.bar(histogram.index, histogram.values, color=\"blue\", width=7.9, alpha=0.5)\n",
    "product_count.hist(bins=20, color=\"red\", alpha=0.5, ax=plt.gca())\n",
    "plt.title(\"Plot Manual de Histogram usando Pandas\")\n",
    "plt.xlabel(\"Contagem de Produtos\")\n",
    "plt.ylabel(\"Número de Usuários\")\n",
    "plt.xlim(0,80)\n",
    "plt.show()\n"
   ]
  }
 ],
 "metadata": {
  "kernelspec": {
   "display_name": "Python 3",
   "language": "python",
   "name": "python3"
  },
  "language_info": {
   "codemirror_mode": {
    "name": "ipython",
    "version": 3
   },
   "file_extension": ".py",
   "mimetype": "text/x-python",
   "name": "python",
   "nbconvert_exporter": "python",
   "pygments_lexer": "ipython3",
   "version": "3.6.2"
  }
 },
 "nbformat": 4,
 "nbformat_minor": 2
}
